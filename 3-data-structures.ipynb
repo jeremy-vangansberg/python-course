{
 "cells": [
  {
   "cell_type": "markdown",
   "metadata": {},
   "source": [
    "# Data structures"
   ]
  },
  {
   "cell_type": "markdown",
   "metadata": {},
   "source": [
    "En python, il existe 4 grands types de data structures qui permettent de stocker une collection de données :\n",
    "- Les listes\n",
    "- les dictionnaires\n",
    "- les sets\n",
    "- les tuples"
   ]
  },
  {
   "cell_type": "markdown",
   "metadata": {},
   "source": [
    "## Les listes "
   ]
  },
  {
   "cell_type": "markdown",
   "metadata": {},
   "source": [
    "### définition et déclaration"
   ]
  },
  {
   "cell_type": "markdown",
   "metadata": {},
   "source": [
    "Une liste est une collection d'objets:\n",
    "- dont l'ordre compte, elle est ordonnée (contrairement aux dictionnaires et aux sets) \n",
    "- dont les éléments peuvent être modifiés (contrairement aux tuples et aux sets)\n",
    "- dont un élément peut être répétés plusieurs fois (contrairement aux sets)"
   ]
  },
  {
   "cell_type": "code",
   "execution_count": 1,
   "metadata": {},
   "outputs": [],
   "source": [
    "# Créer des listes contenants des éléments:\n",
    "liste_de_nombres = [1, 2, 3, 5, 7, 11, 13, 17, 17]\n",
    "liste_de_strings = [\"a\", \"b\", \"abc\"]\n",
    "liste_foutoire = [7, 4.2, \"un truc\", True, [\"une\",\"autre\",\"liste\"]]\n",
    "\n",
    "# Créer des listes vides: \n",
    "liste_vide = []\n",
    "liste_vide = list()"
   ]
  },
  {
   "cell_type": "markdown",
   "metadata": {},
   "source": [
    "On accède aux éléments d'une liste par leur indice :"
   ]
  },
  {
   "cell_type": "code",
   "execution_count": 2,
   "metadata": {},
   "outputs": [
    {
     "name": "stdout",
     "output_type": "stream",
     "text": [
      "1  est le 1er élément\n",
      "7  est le 5ème élément\n",
      "17  est le dernier élément\n"
     ]
    },
    {
     "data": {
      "text/plain": [
       "[5, 7, 11, 13]"
      ]
     },
     "execution_count": 2,
     "metadata": {},
     "output_type": "execute_result"
    }
   ],
   "source": [
    "# On accède aux éléments d'une liste ainsi:\n",
    "# soit en partant du début\n",
    "# le premier élément se trouve à l'indice 0\n",
    "print(liste_de_nombres[0], \" est le 1er élément\")\n",
    "print(liste_de_nombres[4], \" est le 5ème élément\") \n",
    "\n",
    "# soit par la fin\n",
    "print(liste_de_nombres[-1], \" est le dernier élément\")\n",
    "\n",
    "# On peut également selectionner une partie de la liste\n",
    "liste_de_nombres[1:3] # L'indice final est exclusif tandis que le premier indice est inclusif\n",
    "\n",
    "# On peut également  selectionner tous les premiers ou tous les derniers éléments\n",
    "liste_de_nombres[:3]\n",
    "liste_de_nombres[3:]\n",
    "liste_de_nombres[3:-2]"
   ]
  },
  {
   "cell_type": "markdown",
   "metadata": {},
   "source": [
    "Exercice : Que sélectionne cette expression ? (décommenter à l'aide d'un raccourci pour afficher la réponse)"
   ]
  },
  {
   "cell_type": "code",
   "execution_count": 10,
   "metadata": {},
   "outputs": [],
   "source": [
    "liste_foutoire = [7, 4.2, \"un truc\", True, [\"une\",\"autre\",\"liste\"]]"
   ]
  },
  {
   "cell_type": "code",
   "execution_count": 16,
   "metadata": {},
   "outputs": [
    {
     "name": "stdout",
     "output_type": "stream",
     "text": [
      "['une', 'autre', 'liste']\n",
      "autre\n",
      "u\n"
     ]
    }
   ],
   "source": [
    "first_selection = liste_foutoire[4]\n",
    "print(first_selection)\n",
    "second_selection = first_selection[1]\n",
    "print(second_selection)\n",
    "third_selection = second_selection[1]\n",
    "print(third_selection)"
   ]
  },
  {
   "cell_type": "code",
   "execution_count": 13,
   "metadata": {},
   "outputs": [
    {
     "data": {
      "text/plain": [
       "'u'"
      ]
     },
     "execution_count": 13,
     "metadata": {},
     "output_type": "execute_result"
    }
   ],
   "source": [
    "liste_foutoire[4][1][1]"
   ]
  },
  {
   "cell_type": "code",
   "execution_count": 17,
   "metadata": {},
   "outputs": [
    {
     "data": {
      "text/plain": [
       "True"
      ]
     },
     "execution_count": 17,
     "metadata": {},
     "output_type": "execute_result"
    }
   ],
   "source": [
    "liste_foutoire[3]"
   ]
  },
  {
   "cell_type": "code",
   "execution_count": 19,
   "metadata": {},
   "outputs": [],
   "source": [
    "# On peut supprimer un élément en se servant de son indice\n",
    "del liste_foutoire[3]"
   ]
  },
  {
   "cell_type": "code",
   "execution_count": 23,
   "metadata": {},
   "outputs": [
    {
     "data": {
      "text/plain": [
       "[1, 2, 3, 8, 7, 11, 13, 17, 17]"
      ]
     },
     "execution_count": 23,
     "metadata": {},
     "output_type": "execute_result"
    }
   ],
   "source": [
    "liste_de_nombres"
   ]
  },
  {
   "cell_type": "code",
   "execution_count": 22,
   "metadata": {},
   "outputs": [],
   "source": [
    "# On peut ainsi modifier les valeurs d'une liste à un certain indice\n",
    "liste_de_nombres[3] = 8"
   ]
  },
  {
   "cell_type": "code",
   "execution_count": 33,
   "metadata": {},
   "outputs": [
    {
     "data": {
      "text/plain": [
       "[1, 2, 3, 8, 7, 11, 13, 17, 17]"
      ]
     },
     "execution_count": 33,
     "metadata": {},
     "output_type": "execute_result"
    }
   ],
   "source": [
    "liste_de_nombres"
   ]
  },
  {
   "cell_type": "code",
   "execution_count": 41,
   "metadata": {},
   "outputs": [
    {
     "data": {
      "text/plain": [
       "[8, 3, 2, 1]"
      ]
     },
     "execution_count": 41,
     "metadata": {},
     "output_type": "execute_result"
    }
   ],
   "source": [
    "liste_de_nombres[3::-1]"
   ]
  },
  {
   "cell_type": "code",
   "execution_count": 30,
   "metadata": {},
   "outputs": [
    {
     "data": {
      "text/plain": [
       "[17, 17, 13, 11, 7, 8, 3, 2, 1]"
      ]
     },
     "execution_count": 30,
     "metadata": {},
     "output_type": "execute_result"
    }
   ],
   "source": [
    "#Obtenir une liste en sens inverse\n",
    "liste_de_nombres[::-1]"
   ]
  },
  {
   "cell_type": "markdown",
   "metadata": {},
   "source": [
    "## Explications ChatGPT :"
   ]
  },
  {
   "cell_type": "markdown",
   "metadata": {},
   "source": [
    "liste_de_nombres[:3:-1]\n",
    "\n",
    "Le début du découpage n'est pas spécifié (il est vide avant le premier :), donc cela commence à partir de la fin de la liste (car le pas est -1, ce qui signifie que le découpage est en mode inversé).\n",
    "3 est la fin du découpage. Cela signifie que le découpage s'arrêtera avant l'index 3 (sans inclure l'élément à l'index 3).\n",
    "Le pas est -1, donc la liste sera retournée à l'envers.\n",
    "En résumé, cette expression prend tous les éléments de la fin de la liste jusqu'à, mais sans inclure, l'élément à l'index 3, et les renvoie dans l'ordre inverse.\n",
    "\n",
    "liste_de_nombres[3:-1]\n",
    "\n",
    "3 est le début du découpage. Cela signifie que le découpage commencera à partir de l'élément à l'index 3.\n",
    "-1 est la fin du découpage. En Python, un index négatif compte à partir de la fin. Ainsi, -1 représente le dernier élément. Donc, le découpage s'arrêtera avant le dernier élément (sans inclure le dernier élément).\n",
    "Le pas n'est pas spécifié, donc il est par défaut de 1, ce qui signifie que la liste sera retournée dans l'ordre normal.\n",
    "En résumé, cette expression prend tous les éléments à partir de l'index 3 jusqu'à, mais sans inclure, le dernier élément."
   ]
  },
  {
   "cell_type": "markdown",
   "metadata": {},
   "source": [
    "L'expression liste_de_nombres[3::-1] est une autre variante de la fonctionnalité de découpage des listes en Python. Voici comment elle fonctionne :\n",
    "\n",
    "3 est le début du découpage. Cela signifie que le découpage commencera à partir de l'élément à l'index 3.\n",
    "La fin du découpage n'est pas spécifiée (elle est vide après le premier :), ce qui, en combinaison avec un pas négatif, signifie que le découpage continuera jusqu'au début de la liste.\n",
    "Le pas est -1, donc la liste sera retournée à l'envers.\n",
    "En d'autres termes, cette expression prend tous les éléments depuis l'index 3 jusqu'au début de la liste, et les renvoie dans l'ordre inverse.\n",
    "\n",
    "Si nous prenons l'exemple précédent où liste_de_nombres = [0, 1, 2, 3, 4, 5] :\n",
    "\n",
    "liste_de_nombres[3::-1] renverra [3, 2, 1, 0]."
   ]
  },
  {
   "cell_type": "markdown",
   "metadata": {},
   "source": [
    "### fonctions utiles"
   ]
  },
  {
   "cell_type": "code",
   "execution_count": 46,
   "metadata": {},
   "outputs": [
    {
     "data": {
      "text/plain": [
       "[1, 2, 3, 8, 7, 11, 13, 17, 17]"
      ]
     },
     "execution_count": 46,
     "metadata": {},
     "output_type": "execute_result"
    }
   ],
   "source": [
    "liste_de_nombres"
   ]
  },
  {
   "cell_type": "code",
   "execution_count": 68,
   "metadata": {},
   "outputs": [],
   "source": [
    "liste_de_strings = ['~', '!']"
   ]
  },
  {
   "cell_type": "code",
   "execution_count": 70,
   "metadata": {},
   "outputs": [
    {
     "data": {
      "text/plain": [
       "'~'"
      ]
     },
     "execution_count": 70,
     "metadata": {},
     "output_type": "execute_result"
    }
   ],
   "source": [
    "max(liste_de_strings)"
   ]
  },
  {
   "cell_type": "code",
   "execution_count": 47,
   "metadata": {},
   "outputs": [
    {
     "data": {
      "text/plain": [
       "79"
      ]
     },
     "execution_count": 47,
     "metadata": {},
     "output_type": "execute_result"
    }
   ],
   "source": [
    "# connaitre le nombre d'éléments dans une liste\n",
    "len(liste_de_nombres)\n",
    "\n",
    "# connaitre la somme d'une liste numérique\n",
    "sum(liste_de_nombres)\n",
    "\n",
    "# connaitre le maximum ou le minimum d'une liste numérique\n",
    "max(liste_de_nombres)\n",
    "\n",
    "min(liste_de_nombres)"
   ]
  },
  {
   "cell_type": "markdown",
   "metadata": {},
   "source": [
    "### Méthodes associées à la classe liste"
   ]
  },
  {
   "cell_type": "code",
   "execution_count": 75,
   "metadata": {},
   "outputs": [],
   "source": [
    "liste_de_nombres = [3,8,7]"
   ]
  },
  {
   "cell_type": "code",
   "execution_count": 82,
   "metadata": {},
   "outputs": [],
   "source": [
    "liste_de_nombres_2 = [1]\n",
    "liste_de_nombres.extend(liste_de_nombres_2)"
   ]
  },
  {
   "cell_type": "code",
   "execution_count": 83,
   "metadata": {},
   "outputs": [
    {
     "data": {
      "text/plain": [
       "[-1, 3, 8, 7, 89, 89, 1]"
      ]
     },
     "execution_count": 83,
     "metadata": {},
     "output_type": "execute_result"
    }
   ],
   "source": [
    "liste_de_nombres"
   ]
  },
  {
   "cell_type": "code",
   "execution_count": 90,
   "metadata": {},
   "outputs": [],
   "source": [
    "liste_de_strings.insert(len(liste_de_strings),'abc')"
   ]
  },
  {
   "cell_type": "code",
   "execution_count": 92,
   "metadata": {},
   "outputs": [],
   "source": [
    "liste_de_strings[3] = \"antoine\""
   ]
  },
  {
   "cell_type": "code",
   "execution_count": 93,
   "metadata": {},
   "outputs": [
    {
     "data": {
      "text/plain": [
       "['~', 'abc', 'abc', 'antoine', 'abc']"
      ]
     },
     "execution_count": 93,
     "metadata": {},
     "output_type": "execute_result"
    }
   ],
   "source": [
    "liste_de_strings"
   ]
  },
  {
   "cell_type": "code",
   "execution_count": 79,
   "metadata": {},
   "outputs": [],
   "source": [
    "# ajouter un élément à la fin une liste\n",
    "liste_de_nombres.append(89)\n",
    "\n",
    "# Ajoute un élément à une liste à une certaine position (ici au début: 0)\n",
    "liste_de_nombres.insert(0, -1) # d'abord l'indice puis ce qu'on ajoute\n",
    "\n",
    "# # concatène deux listes (ajoute une liste à une autre)\n",
    "liste_de_nombres.extend(liste_de_nombres_2)\n",
    "\n",
    "# # supprimer un élément d'une liste en utilisant sa valeur\n",
    "liste_de_strings.remove(\"abc\")\n",
    "\n",
    "# # supprime un élément d'une liste en utilisant son indice\n",
    "# # si aucun argument est founi, supprime le dernier élément de la liste\n",
    "liste_de_strings.pop()\n",
    "\n",
    "# # ordonner les éléments d'une liste\n",
    "liste_de_nombres.sort()\n",
    "\n",
    "# # retrouve l’indice de la première occurrence d’un élément à chercher dans notre liste ;\n",
    "liste_de_strings.index('antoine')"
   ]
  },
  {
   "cell_type": "markdown",
   "metadata": {},
   "source": [
    "Pour les autres méthodes voir la : https://docs.python.org/fr/3/tutorial/datastructures.html"
   ]
  },
  {
   "cell_type": "markdown",
   "metadata": {},
   "source": [
    "**`Exercice`**: "
   ]
  },
  {
   "cell_type": "code",
   "execution_count": 9,
   "metadata": {},
   "outputs": [
    {
     "ename": "SyntaxError",
     "evalue": "invalid syntax (1495150639.py, line 10)",
     "output_type": "error",
     "traceback": [
      "\u001b[0;36m  Input \u001b[0;32mIn [9]\u001b[0;36m\u001b[0m\n\u001b[0;31m    deuxieme_element =\u001b[0m\n\u001b[0m                       ^\u001b[0m\n\u001b[0;31mSyntaxError\u001b[0m\u001b[0;31m:\u001b[0m invalid syntax\n"
     ]
    }
   ],
   "source": [
    "liste_nombres = [1, 6, 98, 52, 1045, 3]\n",
    "\n",
    "# 1) classez la liste en ordre croissant\n",
    "\n",
    "# 2) supprimez le premier élément de la liste\n",
    "\n",
    "# 3) ajoutez le nombre \"1097\" à la fin de la liste\n",
    "\n",
    "# 4) récupérez le deuxième élément dans une variable \"deuxieme_element\"\n",
    "deuxieme_element = \n",
    "print(deuxieme_element) # la console devrait afficher \"6\" !\n",
    "\n",
    "# 5) affichez la longueur de la liste\n"
   ]
  },
  {
   "cell_type": "markdown",
   "metadata": {},
   "source": [
    "## Les dictionnaires"
   ]
  },
  {
   "cell_type": "markdown",
   "metadata": {},
   "source": [
    "### Définition et création"
   ]
  },
  {
   "cell_type": "markdown",
   "metadata": {},
   "source": [
    "Un dictionnaire est un objet permettant de stocker des informations à l'aide d'un système clé/valeur.\n",
    "A chaque clé correspond une valeur, les clés n'ont pas d'ordre entre elles."
   ]
  },
  {
   "cell_type": "markdown",
   "metadata": {},
   "source": [
    "Créer un dictionnaire vide"
   ]
  },
  {
   "cell_type": "code",
   "execution_count": 105,
   "metadata": {},
   "outputs": [
    {
     "name": "stdout",
     "output_type": "stream",
     "text": [
      "{}\n"
     ]
    }
   ],
   "source": [
    "new_dict = {}\n",
    "new_dict = dict()\n",
    "print(new_dict)"
   ]
  },
  {
   "cell_type": "markdown",
   "metadata": {},
   "source": [
    "Créer un dictionnaire contenant des données"
   ]
  },
  {
   "cell_type": "code",
   "execution_count": 106,
   "metadata": {},
   "outputs": [
    {
     "name": "stdout",
     "output_type": "stream",
     "text": [
      "{'lesstrings': 'exemple', 'lesintegers': 9, 'leslistes': [7, 8, 9], 'les booleen': True}\n"
     ]
    }
   ],
   "source": [
    "trucs_appris_en_python = { \n",
    "    \"lesstrings\": \"exemple\", \n",
    "    \"lesintegers\": 9, \n",
    "    \"leslistes\": [7,8,9], \n",
    "    \"les booleen\": True \n",
    "}\n",
    "\n",
    "print(trucs_appris_en_python)"
   ]
  },
  {
   "cell_type": "code",
   "execution_count": 111,
   "metadata": {},
   "outputs": [
    {
     "data": {
      "text/plain": [
       "{1: 'une autre valeur'}"
      ]
     },
     "execution_count": 111,
     "metadata": {},
     "output_type": "execute_result"
    }
   ],
   "source": []
  },
  {
   "cell_type": "markdown",
   "metadata": {},
   "source": [
    "Restriction:\n",
    "- Les clés peuvent être des int, des float, des str (tout object immutable (voir plus loin)) mais une clé ne peut être utilisée qu'une seule fois \n",
    "- les valeurs peuvent être ne n'importe quel type"
   ]
  },
  {
   "cell_type": "markdown",
   "metadata": {},
   "source": [
    "### Accéder aux valeurs"
   ]
  },
  {
   "cell_type": "code",
   "execution_count": 112,
   "metadata": {},
   "outputs": [
    {
     "data": {
      "text/plain": [
       "{'lesstrings': 'exemple',\n",
       " 'lesintegers': 9,\n",
       " 'leslistes': [7, 8, 9],\n",
       " 'les booleen': True}"
      ]
     },
     "execution_count": 112,
     "metadata": {},
     "output_type": "execute_result"
    }
   ],
   "source": [
    "trucs_appris_en_python"
   ]
  },
  {
   "cell_type": "code",
   "execution_count": 12,
   "metadata": {},
   "outputs": [
    {
     "data": {
      "text/plain": [
       "'exemple'"
      ]
     },
     "execution_count": 12,
     "metadata": {},
     "output_type": "execute_result"
    }
   ],
   "source": [
    "# Accéder à une valeur à partir de sa clé\n",
    "trucs_appris_en_python[\"lesstrings\"]"
   ]
  },
  {
   "cell_type": "code",
   "execution_count": 114,
   "metadata": {},
   "outputs": [
    {
     "data": {
      "text/plain": [
       "{'lesstrings': 'exemple',\n",
       " 'lesintegers': 9,\n",
       " 'leslistes': [7, 8, 9],\n",
       " 'les booleen': True}"
      ]
     },
     "execution_count": 114,
     "metadata": {},
     "output_type": "execute_result"
    }
   ],
   "source": [
    "trucs_appris_en_python"
   ]
  },
  {
   "cell_type": "code",
   "execution_count": 115,
   "metadata": {},
   "outputs": [
    {
     "data": {
      "text/plain": [
       "{'lesstrings': 'exemple',\n",
       " 'lesintegers': 9,\n",
       " 'leslistes': [7, 8, 9],\n",
       " 'les booleen': True,\n",
       " 'lesfloats': 3.8}"
      ]
     },
     "execution_count": 115,
     "metadata": {},
     "output_type": "execute_result"
    }
   ],
   "source": [
    "# On peut à tout moment ajouter une nouvelle clé à un dictionnaire en lui attribuant une valeur\n",
    "trucs_appris_en_python['lesfloats'] = 3.8\n",
    "trucs_appris_en_python"
   ]
  },
  {
   "cell_type": "code",
   "execution_count": 120,
   "metadata": {},
   "outputs": [],
   "source": [
    "# On modifie la valeur comme on modifierait une variable\n",
    "trucs_appris_en_python['lesfloats'] = 3.9"
   ]
  },
  {
   "cell_type": "code",
   "execution_count": 121,
   "metadata": {},
   "outputs": [
    {
     "data": {
      "text/plain": [
       "{'lesstrings': 'exemple',\n",
       " 'lesintegers': 9,\n",
       " 'leslistes': [7, 8, 9],\n",
       " 'les booleen': True,\n",
       " 'lesfloats': 3.9}"
      ]
     },
     "execution_count": 121,
     "metadata": {},
     "output_type": "execute_result"
    }
   ],
   "source": [
    "trucs_appris_en_python"
   ]
  },
  {
   "cell_type": "code",
   "execution_count": 122,
   "metadata": {},
   "outputs": [
    {
     "name": "stdout",
     "output_type": "stream",
     "text": [
      "{'lesstrings': 'exemple', 'lesintegers': 9, 'leslistes': [7, 8, 9], 'les booleen': True}\n"
     ]
    },
    {
     "data": {
      "text/plain": [
       "{'lesintegers': 9, 'leslistes': [7, 8, 9], 'les booleen': True}"
      ]
     },
     "execution_count": 122,
     "metadata": {},
     "output_type": "execute_result"
    }
   ],
   "source": [
    "# supprimer un couple clef/valeur\n",
    "del trucs_appris_en_python['lesfloats']\n",
    "print(trucs_appris_en_python)\n",
    "\n",
    "# une autre manière de supprimer un couple cle/valeur:\n",
    "trucs_appris_en_python.pop('lesstrings') \n",
    "trucs_appris_en_python"
   ]
  },
  {
   "cell_type": "markdown",
   "metadata": {},
   "source": [
    "### Parcourir un dictionnaire"
   ]
  },
  {
   "cell_type": "code",
   "execution_count": 123,
   "metadata": {},
   "outputs": [
    {
     "data": {
      "text/plain": [
       "{'lesintegers': 9, 'leslistes': [7, 8, 9], 'les booleen': True}"
      ]
     },
     "execution_count": 123,
     "metadata": {},
     "output_type": "execute_result"
    }
   ],
   "source": [
    "trucs_appris_en_python"
   ]
  },
  {
   "cell_type": "code",
   "execution_count": 124,
   "metadata": {},
   "outputs": [
    {
     "name": "stdout",
     "output_type": "stream",
     "text": [
      "True\n"
     ]
    }
   ],
   "source": [
    "# vérifier l'existence d'une clef:\n",
    "print(\"leslistes\" in trucs_appris_en_python)"
   ]
  },
  {
   "cell_type": "code",
   "execution_count": 125,
   "metadata": {},
   "outputs": [
    {
     "name": "stdout",
     "output_type": "stream",
     "text": [
      "dict_keys(['lesintegers', 'leslistes', 'les booleen'])\n",
      "dict_values([9, [7, 8, 9], True])\n",
      "dict_items([('lesintegers', 9), ('leslistes', [7, 8, 9]), ('les booleen', True)])\n"
     ]
    }
   ],
   "source": [
    "# trois méthodes importantes liées aux dictionnaires:\n",
    "print(trucs_appris_en_python.keys())\n",
    "print(trucs_appris_en_python.values())\n",
    "print(trucs_appris_en_python.items())"
   ]
  },
  {
   "cell_type": "code",
   "execution_count": 126,
   "metadata": {},
   "outputs": [
    {
     "name": "stdout",
     "output_type": "stream",
     "text": [
      "True\n"
     ]
    }
   ],
   "source": [
    "# Utilisation de values()\n",
    "print( 9 in trucs_appris_en_python.values() )"
   ]
  },
  {
   "cell_type": "code",
   "execution_count": 127,
   "metadata": {},
   "outputs": [
    {
     "name": "stdout",
     "output_type": "stream",
     "text": [
      "True\n"
     ]
    }
   ],
   "source": [
    "# Utilisation de items()\n",
    "print( (\"lesintegers\",9) in trucs_appris_en_python.items() )"
   ]
  },
  {
   "cell_type": "markdown",
   "metadata": {},
   "source": [
    "## La Mutabilité"
   ]
  },
  {
   "cell_type": "markdown",
   "metadata": {},
   "source": [
    "## Définition"
   ]
  },
  {
   "cell_type": "markdown",
   "metadata": {},
   "source": [
    "Observons quelque chose:"
   ]
  },
  {
   "cell_type": "code",
   "execution_count": 128,
   "metadata": {},
   "outputs": [
    {
     "name": "stdout",
     "output_type": "stream",
     "text": [
      "jeremy\n",
      "JEREMY\n"
     ]
    }
   ],
   "source": [
    "a = \"JEREMY\"\n",
    "\n",
    "print(a.lower())\n",
    "\n",
    "print(a)"
   ]
  },
  {
   "cell_type": "code",
   "execution_count": 131,
   "metadata": {},
   "outputs": [
    {
     "name": "stdout",
     "output_type": "stream",
     "text": [
      "[1, 2, 3]\n"
     ]
    }
   ],
   "source": [
    "b = [1,2]\n",
    "\n",
    "b.append(3)\n",
    "\n",
    "print(b)"
   ]
  },
  {
   "cell_type": "markdown",
   "metadata": {},
   "source": [
    "Quand on définit une variable en python on définit toujours un nom qui pointe vers une valeur enregistrée en mémoire. En fonction du type d'objet la valeur inscrite en mémoire peut être modifiée ou non. On appelle cela la mutabilité\n",
    "- Les Objets immutables sont ceux dont la valeur en mémoire ne peut changer: Entiers, flottants, complexes, tuples, chaînes de caractères, …\n",
    "- LEs Objets mutables sont ceux dont la valeur en mémoire change: Listes, dictionnaires, …"
   ]
  },
  {
   "cell_type": "markdown",
   "metadata": {},
   "source": [
    "## Récupérer le résultat des opérations "
   ]
  },
  {
   "cell_type": "markdown",
   "metadata": {},
   "source": [
    "Quand on modifie un object immutable, ce que l'on fait en réalité c'est de déclarer une nouvelle valeur en mémoire. Cette nouvelle valeur si on veut s'en servir il faut lui donner un nouveau nom et donc l'assigner à une variable\n",
    "\n",
    "Pour les object mutable, quand on les modifie, c'est directement l'objet en mémoire qui est modifié, pas besoin donc d'assigner un nouveau nom de variable pour ce résultat. Si on le fait, python n'enregistrera pas la nouvelle valeur prise mais un objet nul ou parfois le résultat de l'opération. C'est donc le meilleur moyen de perdre ses données:"
   ]
  },
  {
   "cell_type": "code",
   "execution_count": 132,
   "metadata": {},
   "outputs": [
    {
     "name": "stdout",
     "output_type": "stream",
     "text": [
      "JEREMY\n",
      "JEREMY\n"
     ]
    }
   ],
   "source": [
    "a = \"Jeremy\"\n",
    "\n",
    "a_bis = a.upper()\n",
    "\n",
    "print(a_bis)\n",
    "\n",
    "a = a.upper()\n",
    "\n",
    "print(a)"
   ]
  },
  {
   "cell_type": "code",
   "execution_count": 133,
   "metadata": {},
   "outputs": [
    {
     "name": "stdout",
     "output_type": "stream",
     "text": [
      "None\n",
      "None\n"
     ]
    }
   ],
   "source": [
    "b = [1,2]\n",
    "\n",
    "b_bis = b.append(3)\n",
    "\n",
    "print(b_bis)\n",
    "\n",
    "b = b.append(3)\n",
    "\n",
    "print(b)"
   ]
  },
  {
   "cell_type": "markdown",
   "metadata": {},
   "source": [
    "## Créer des alias et des copies"
   ]
  },
  {
   "cell_type": "markdown",
   "metadata": {},
   "source": [
    "On peut faire en sorte qu'une variable soit égale à la valeur d'une autre variable"
   ]
  },
  {
   "cell_type": "code",
   "execution_count": 135,
   "metadata": {},
   "outputs": [],
   "source": [
    "a = \"Jeremy\"\n",
    "b = [1,2]\n",
    "\n",
    "a_alias = a\n",
    "b_alias = b"
   ]
  },
  {
   "cell_type": "code",
   "execution_count": 139,
   "metadata": {},
   "outputs": [
    {
     "data": {
      "text/plain": [
       "[1, 2]"
      ]
     },
     "execution_count": 139,
     "metadata": {},
     "output_type": "execute_result"
    }
   ],
   "source": [
    "b_alias"
   ]
  },
  {
   "cell_type": "markdown",
   "metadata": {},
   "source": [
    "Dans ce cas là, on crée en réalité un alias, on crée un nouveau nom qui point vers la même valeur en mémoire."
   ]
  },
  {
   "cell_type": "markdown",
   "metadata": {},
   "source": [
    "On a vue que pour les immutables, la valeur en mémoire ne changeait pas, si on fait donc pointer l'un des deux alias vers une nouvelle valeur, l'autre pointera toujours vers l'ancienne valeur inchangée"
   ]
  },
  {
   "cell_type": "code",
   "execution_count": 141,
   "metadata": {},
   "outputs": [
    {
     "data": {
      "text/plain": [
       "'JEREMY'"
      ]
     },
     "execution_count": 141,
     "metadata": {},
     "output_type": "execute_result"
    }
   ],
   "source": [
    "a.upper()"
   ]
  },
  {
   "cell_type": "code",
   "execution_count": 142,
   "metadata": {},
   "outputs": [
    {
     "name": "stdout",
     "output_type": "stream",
     "text": [
      "JEREMY\n",
      "Jeremy\n"
     ]
    }
   ],
   "source": [
    "a = a.upper()\n",
    "print(a)\n",
    "print(a_alias)"
   ]
  },
  {
   "cell_type": "markdown",
   "metadata": {},
   "source": [
    "Pour les objets mutables, c'est la valeur en mémoire qui change. Si donc on la modifie en utilisant un des deux alias, l'autre alias pointera égaement vers la valeur modifiée"
   ]
  },
  {
   "cell_type": "code",
   "execution_count": 143,
   "metadata": {},
   "outputs": [
    {
     "data": {
      "text/plain": [
       "[1, 2]"
      ]
     },
     "execution_count": 143,
     "metadata": {},
     "output_type": "execute_result"
    }
   ],
   "source": [
    "b"
   ]
  },
  {
   "cell_type": "code",
   "execution_count": 144,
   "metadata": {},
   "outputs": [
    {
     "name": "stdout",
     "output_type": "stream",
     "text": [
      "[1, 2, 3]\n",
      "[1, 2, 3]\n"
     ]
    }
   ],
   "source": [
    "b.append(3)\n",
    "print(b)\n",
    "print(b_alias)"
   ]
  },
  {
   "cell_type": "markdown",
   "metadata": {},
   "source": [
    "Si on veut conserver l'état initial d'un objet mutable, il ne faut pas créer un alias mais une copie"
   ]
  },
  {
   "cell_type": "code",
   "execution_count": 145,
   "metadata": {},
   "outputs": [
    {
     "data": {
      "text/plain": [
       "[1, 2, 3]"
      ]
     },
     "execution_count": 145,
     "metadata": {},
     "output_type": "execute_result"
    }
   ],
   "source": [
    "b"
   ]
  },
  {
   "cell_type": "code",
   "execution_count": 146,
   "metadata": {},
   "outputs": [
    {
     "name": "stdout",
     "output_type": "stream",
     "text": [
      "[1, 2, 3, 4]\n",
      "[1, 2, 3]\n"
     ]
    }
   ],
   "source": [
    "b_copie = b.copy()\n",
    "\n",
    "\n",
    "b.append(4)\n",
    "\n",
    "print(b)\n",
    "print(b_copie)"
   ]
  },
  {
   "cell_type": "markdown",
   "metadata": {},
   "source": [
    "**`Exercice`**: \n",
    "\n",
    "- Déclarer une variable de type float égale à -3.9874. \n",
    "    - Conserver une copie de cette état initial\n",
    "    - Calculer la valeur absolue de cette variable. \n",
    "    - Puis ajouter cette valeur absolue à la valeur initiale de la variable \n",
    "    - (Toutes ces étapes sont à faire séparement et pas sur une seule ligne)\n",
    "- Créer un dictionnaire avec une cle \"nombre\" et comme valeur l'int 90\n",
    "    - Conserver une copie de cette état initial\n",
    "    - Modifier la cle pour lui donner comme valeur 150\n",
    "    - additionner les valeurs de cette clé pour l'état initial et l'état modifié\n",
    "\n"
   ]
  },
  {
   "cell_type": "code",
   "execution_count": 147,
   "metadata": {},
   "outputs": [
    {
     "name": "stdout",
     "output_type": "stream",
     "text": [
      "{'nombre': 240}\n",
      "{'nombre': 240}\n"
     ]
    }
   ],
   "source": [
    "monfloat = -3.9874\n",
    "monfloat_copy = -3.9874\n",
    "monfloat = abs(monfloat)\n",
    "\n",
    "mydict = {'nombre':90}\n",
    "mydict_bis = mydict.copy()\n",
    "mydict_bis['nombre'] = 150\n",
    "mydict['nombre'] = mydict['nombre'] + mydict_bis['nombre']\n",
    "mydict_bis['nombre'] = mydict['nombre']\n",
    "\n",
    "print(mydict)\n",
    "print(mydict_bis)"
   ]
  },
  {
   "cell_type": "markdown",
   "metadata": {},
   "source": [
    "## Les sets"
   ]
  },
  {
   "cell_type": "markdown",
   "metadata": {},
   "source": [
    "Un set est une collection non ordonnée et non indexée d'éléments uniques. En d'autres termes, les éléments d'un ensemble ne peuvent pas être dupliqués. Les ensembles sont très utiles pour effectuer des opérations d'ensemble, comme l'union, l'intersection, la différence, etc."
   ]
  },
  {
   "cell_type": "code",
   "execution_count": 150,
   "metadata": {},
   "outputs": [
    {
     "name": "stdout",
     "output_type": "stream",
     "text": [
      "{1, 2, 3, 4, 5}\n"
     ]
    }
   ],
   "source": [
    "# Création d'un set\n",
    "mon_set = {1, 2, 3, 4, 5}\n",
    "print(mon_set)"
   ]
  },
  {
   "cell_type": "code",
   "execution_count": 151,
   "metadata": {},
   "outputs": [
    {
     "data": {
      "text/plain": [
       "[-1, 1, 3, 7, 8, 89, 89]"
      ]
     },
     "execution_count": 151,
     "metadata": {},
     "output_type": "execute_result"
    }
   ],
   "source": [
    "liste_de_nombres"
   ]
  },
  {
   "cell_type": "code",
   "execution_count": 153,
   "metadata": {},
   "outputs": [
    {
     "data": {
      "text/plain": [
       "{'nombre'}"
      ]
     },
     "execution_count": 153,
     "metadata": {},
     "output_type": "execute_result"
    }
   ],
   "source": [
    "# connaitre tous les élements uniques\n",
    "set(mydict.values())"
   ]
  },
  {
   "cell_type": "code",
   "execution_count": 5,
   "metadata": {},
   "outputs": [
    {
     "name": "stdout",
     "output_type": "stream",
     "text": [
      "{1, 2, 3, 4, 5, 6}\n"
     ]
    }
   ],
   "source": [
    "# Ajouter un élément à un set\n",
    "\n",
    "mon_set.add(6)\n",
    "print(mon_set)  # {1, 2, 3, 4, 5, 6}"
   ]
  },
  {
   "cell_type": "code",
   "execution_count": 6,
   "metadata": {},
   "outputs": [
    {
     "name": "stdout",
     "output_type": "stream",
     "text": [
      "{1, 3, 4, 5, 6}\n"
     ]
    }
   ],
   "source": [
    "# Supprimer un élément d'un set\n",
    "\n",
    "mon_set.remove(2)\n",
    "print(mon_set)  # {1, 3, 4, 5, 6}\n"
   ]
  },
  {
   "cell_type": "markdown",
   "metadata": {},
   "source": [
    "### Opérations avec les sets"
   ]
  },
  {
   "cell_type": "code",
   "execution_count": 155,
   "metadata": {},
   "outputs": [
    {
     "name": "stdout",
     "output_type": "stream",
     "text": [
      "{1, 2, 3, 4, 5, 6, 7, 8}\n",
      "{4, 5}\n",
      "{1, 2, 3}\n"
     ]
    }
   ],
   "source": [
    "set1 = {1, 2, 3, 4, 5}\n",
    "set2 = {4, 5, 6, 7, 8}\n",
    "\n",
    "# Union\n",
    "print(set1 | set2)\n",
    "\n",
    "# Intersection\n",
    "print(set1 & set2)\n",
    "\n",
    "# Différence\n",
    "print(set1 - set2)"
   ]
  },
  {
   "cell_type": "markdown",
   "metadata": {},
   "source": [
    "Exercices sur les sets :\n",
    "\n",
    "1. Créez un set contenant les lettres de votre prénom.\n",
    "2. Ajoutez une lettre à votre set.\n",
    "3. Supprimez une lettre de votre set.\n",
    "4. Créez un second set avec un autre prénom, et trouvez les lettres communes aux deux prénoms."
   ]
  },
  {
   "cell_type": "markdown",
   "metadata": {},
   "source": [
    "## Tuples en Python\n"
   ]
  },
  {
   "cell_type": "markdown",
   "metadata": {},
   "source": [
    "Un tuple est une collection ordonnée et immuable d'éléments. Contrairement aux listes, une fois qu'un tuple est créé, vous ne pouvez pas modifier, ajouter ou supprimer d'éléments."
   ]
  },
  {
   "cell_type": "code",
   "execution_count": 156,
   "metadata": {},
   "outputs": [
    {
     "name": "stdout",
     "output_type": "stream",
     "text": [
      "(1, 2, 3, 4, 5)\n"
     ]
    }
   ],
   "source": [
    "# Création d'un tuple\n",
    "\n",
    "mon_tuple = (1, 2, 3, 4, 5)\n",
    "print(mon_tuple)"
   ]
  },
  {
   "cell_type": "code",
   "execution_count": 157,
   "metadata": {},
   "outputs": [
    {
     "name": "stdout",
     "output_type": "stream",
     "text": [
      "2\n"
     ]
    }
   ],
   "source": [
    "# Accéder à un élément d'un tuple\n",
    "\n",
    "print(mon_tuple[1])  # 2"
   ]
  },
  {
   "cell_type": "code",
   "execution_count": 158,
   "metadata": {},
   "outputs": [
    {
     "ename": "TypeError",
     "evalue": "'tuple' object does not support item assignment",
     "output_type": "error",
     "traceback": [
      "\u001b[0;31m---------------------------------------------------------------------------\u001b[0m",
      "\u001b[0;31mTypeError\u001b[0m                                 Traceback (most recent call last)",
      "\u001b[1;32m/Users/jeremyvangansbeg/Documents/project/intro_python/python-course/3-data-structures.ipynb Cell 102\u001b[0m line \u001b[0;36m3\n\u001b[1;32m      <a href='vscode-notebook-cell:/Users/jeremyvangansbeg/Documents/project/intro_python/python-course/3-data-structures.ipynb#Y131sZmlsZQ%3D%3D?line=0'>1</a>\u001b[0m \u001b[39m# Tenter de modifier un tuple générera une erreur\u001b[39;00m\n\u001b[0;32m----> <a href='vscode-notebook-cell:/Users/jeremyvangansbeg/Documents/project/intro_python/python-course/3-data-structures.ipynb#Y131sZmlsZQ%3D%3D?line=2'>3</a>\u001b[0m mon_tuple[\u001b[39m1\u001b[39;49m] \u001b[39m=\u001b[39m \u001b[39m6\u001b[39m  \u001b[39m# TypeError\u001b[39;00m\n",
      "\u001b[0;31mTypeError\u001b[0m: 'tuple' object does not support item assignment"
     ]
    }
   ],
   "source": [
    "# Tenter de modifier un tuple générera une erreur\n",
    "\n",
    "mon_tuple[1] = 6  # TypeError"
   ]
  },
  {
   "cell_type": "markdown",
   "metadata": {},
   "source": [
    "Exercices sur les tuples :\n",
    "\n",
    "1. Créez un tuple avec vos 5 films préférés.\n",
    "2. Affichez le premier et le dernier film de votre tuple.\n",
    "3. Essayez de remplacer un film par un autre pour vérifier l'immutabilité du tuple."
   ]
  },
  {
   "cell_type": "markdown",
   "metadata": {},
   "source": [
    "## Exercice combinant les listes, tuples, dictionnaires et sets :\n",
    "\n"
   ]
  },
  {
   "cell_type": "code",
   "execution_count": 159,
   "metadata": {},
   "outputs": [],
   "source": [
    "mylist = [\"La Haine\",\n",
    "\"Amélie\",\n",
    "\"La La Land\",\n",
    "\"La Haine\",\n",
    "\"Intouchables\",\n",
    "\"Le Fabuleux Destin d'Amélie Poulain\",\n",
    "\"Intouchables\",\n",
    "\"La Cité des enfants perdus\",\n",
    "\"Les Misérables\"\n",
    "\"La Cité des enfants perdus\"]"
   ]
  },
  {
   "cell_type": "markdown",
   "metadata": {},
   "source": [
    "- Créez un set pour obtenir la liste unique des films.\n",
    "- Créez un dictionnaire où la clé est le film et la valeur est sa position initiale dans la liste (utilisez un tuple pour stocker les positions si un film apparaît plusieurs fois).\n",
    "- Ajoutez à votre dictionnaire un autre film de votre choix avec sa position fictive.\n",
    "- Affichez le nom du film et ses positions à partir du dictionnaire."
   ]
  },
  {
   "cell_type": "markdown",
   "metadata": {},
   "source": []
  },
  {
   "cell_type": "code",
   "execution_count": 166,
   "metadata": {},
   "outputs": [],
   "source": [
    "set_list = set(mylist)\n",
    "\n",
    "mydict = {}"
   ]
  },
  {
   "cell_type": "code",
   "execution_count": 167,
   "metadata": {},
   "outputs": [],
   "source": [
    "for film in mylist:\n",
    "    mydict[film] = mylist.index(film)"
   ]
  },
  {
   "cell_type": "code",
   "execution_count": 168,
   "metadata": {},
   "outputs": [
    {
     "data": {
      "text/plain": [
       "{'La Haine': 0,\n",
       " 'Amélie': 1,\n",
       " 'La La Land': 2,\n",
       " 'Intouchables': 4,\n",
       " \"Le Fabuleux Destin d'Amélie Poulain\": 5,\n",
       " 'La Cité des enfants perdus': 7,\n",
       " 'Les MisérablesLa Cité des enfants perdus': 8}"
      ]
     },
     "execution_count": 168,
     "metadata": {},
     "output_type": "execute_result"
    }
   ],
   "source": [
    "mydict"
   ]
  },
  {
   "cell_type": "code",
   "execution_count": null,
   "metadata": {},
   "outputs": [],
   "source": []
  }
 ],
 "metadata": {
  "interpreter": {
   "hash": "4822798685b95d90cac6b9eac85a216cd3011e561666c6311e8088bbadca8e0f"
  },
  "kernelspec": {
   "display_name": "Python 3.8.6 64-bit ('3.8.6': pyenv)",
   "name": "python3"
  },
  "language_info": {
   "codemirror_mode": {
    "name": "ipython",
    "version": 3
   },
   "file_extension": ".py",
   "mimetype": "text/x-python",
   "name": "python",
   "nbconvert_exporter": "python",
   "pygments_lexer": "ipython3",
   "version": "3.10.12"
  },
  "orig_nbformat": 4
 },
 "nbformat": 4,
 "nbformat_minor": 2
}
