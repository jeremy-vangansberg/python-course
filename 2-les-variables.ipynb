{
 "cells": [
  {
   "cell_type": "markdown",
   "metadata": {},
   "source": [
    "# Les variables et les types de variables"
   ]
  },
  {
   "cell_type": "markdown",
   "metadata": {},
   "source": [
    "## Les variables"
   ]
  },
  {
   "cell_type": "markdown",
   "metadata": {},
   "source": [
    "### Déclarer une variable"
   ]
  },
  {
   "cell_type": "code",
   "execution_count": 24,
   "metadata": {},
   "outputs": [
    {
     "name": "stdout",
     "output_type": "stream",
     "text": [
      "Antoine\n",
      "Antoine\n",
      "Antoine\n",
      "Patrick\n",
      "140644617028176\n",
      "140644617028176\n"
     ]
    }
   ],
   "source": [
    "formateur = \"Jérémy\"\n",
    "\n",
    "nombre_apprenants = 12\n",
    "\n",
    "# double déclaration\n",
    "apprenant = eleve = \"Antoine\"\n",
    "print(eleve)\n",
    "print(apprenant)\n",
    "apprenant = \"Patrick\"\n",
    "print(eleve)\n",
    "print(apprenant)"
   ]
  },
  {
   "cell_type": "markdown",
   "metadata": {},
   "source": [
    "Les valeurs sont stockées en mémoire à des adresses précises par exemple :"
   ]
  },
  {
   "cell_type": "code",
   "execution_count": 26,
   "metadata": {},
   "outputs": [
    {
     "name": "stdout",
     "output_type": "stream",
     "text": [
      "140644617028176\n",
      "140644617028176\n",
      "140644617028208\n",
      "140644617028208\n"
     ]
    }
   ],
   "source": [
    "print(id(12))\n",
    "print(id(nombre_apprenants))\n",
    "\n",
    "nombre_apprenants = 13\n",
    "\n",
    "print(id(13))\n",
    "print(id(nombre_apprenants))"
   ]
  },
  {
   "cell_type": "markdown",
   "metadata": {},
   "source": [
    "La variable est donc un pointeur vers l'objet en mémoire."
   ]
  },
  {
   "cell_type": "markdown",
   "metadata": {},
   "source": [
    "### Afficher une variable"
   ]
  },
  {
   "cell_type": "code",
   "execution_count": 2,
   "metadata": {},
   "outputs": [
    {
     "name": "stdout",
     "output_type": "stream",
     "text": [
      "Jérémy\n",
      "nombre_apprenants: 12\n",
      "Jérémy a 12 dans ma formation, dont:  Patrick\n",
      "Jérémy a 12 dans ma formation, dont:  Patrick\n",
      "formateur='Jérémy'\n"
     ]
    }
   ],
   "source": [
    "# affichage d'une variable\n",
    "print(formateur)\n",
    "\n",
    "# affichage de plusieurs éléments \n",
    "print(\"nombre_apprenants:\",  nombre_apprenants)\n",
    "\n",
    "# commentaire avec l'attribut format\n",
    "print( \"{} a {} dans ma formation, dont:  {}\".format(formateur,nombre_apprenants,apprenant))\n",
    "\n",
    "# commentaires avec les f-strings\n",
    "print( f\"{formateur} a {nombre_apprenants} dans ma formation, dont:  {apprenant}\")\n",
    "\n",
    "print (f\"{formateur=}\")\n"
   ]
  },
  {
   "cell_type": "markdown",
   "metadata": {},
   "source": [
    "Quand on ajoute des variables dans une chaîne de caractères à l'aide de méthode, on parle de \"string formatting\""
   ]
  },
  {
   "cell_type": "markdown",
   "metadata": {},
   "source": [
    "### Modifier une variable"
   ]
  },
  {
   "cell_type": "code",
   "execution_count": 15,
   "metadata": {},
   "outputs": [
    {
     "name": "stdout",
     "output_type": "stream",
     "text": [
      "nombre_apprenants:  20\n",
      "apprenant:  Antoine\n",
      "eleve:  Denis\n",
      "7\n"
     ]
    }
   ],
   "source": [
    "apprenant = eleve = \"Antoine\"\n",
    "eleve = \"Denis\"\n",
    "\n",
    "# incrémentation\n",
    "nombre_apprenants = nombre_apprenants + 2\n",
    "nombre_apprenants += 2 # on peut également utiliser -= /= *=\n",
    "\n",
    "print(\"nombre_apprenants: \", nombre_apprenants)\n",
    "print(\"apprenant: \", apprenant)\n",
    "print(\"eleve: \", eleve)\n",
    "\n",
    "eleve = 7\n",
    "print(eleve)"
   ]
  },
  {
   "cell_type": "markdown",
   "metadata": {},
   "source": [
    "### Supprimer une variable"
   ]
  },
  {
   "cell_type": "code",
   "execution_count": 28,
   "metadata": {},
   "outputs": [
    {
     "name": "stdout",
     "output_type": "stream",
     "text": [
      "140644617029136\n"
     ]
    },
    {
     "ename": "NameError",
     "evalue": "name 'var_to_delete' is not defined",
     "output_type": "error",
     "traceback": [
      "\u001b[0;31m---------------------------------------------------------------------------\u001b[0m",
      "\u001b[0;31mNameError\u001b[0m                                 Traceback (most recent call last)",
      "\u001b[1;32m/home/jeremy/Downloads/01 - Introduction à Python/2-les-variables.ipynb Cell 13\u001b[0m line \u001b[0;36m<cell line: 7>\u001b[0;34m()\u001b[0m\n\u001b[1;32m      <a href='vscode-notebook-cell:/home/jeremy/Downloads/01%20-%20Introduction%20%C3%A0%20Python/2-les-variables.ipynb#X12sZmlsZQ%3D%3D?line=2'>3</a>\u001b[0m \u001b[39mprint\u001b[39m(\u001b[39mid\u001b[39m(var_to_delete))\n\u001b[1;32m      <a href='vscode-notebook-cell:/home/jeremy/Downloads/01%20-%20Introduction%20%C3%A0%20Python/2-les-variables.ipynb#X12sZmlsZQ%3D%3D?line=4'>5</a>\u001b[0m \u001b[39mdel\u001b[39;00m var_to_delete\n\u001b[0;32m----> <a href='vscode-notebook-cell:/home/jeremy/Downloads/01%20-%20Introduction%20%C3%A0%20Python/2-les-variables.ipynb#X12sZmlsZQ%3D%3D?line=6'>7</a>\u001b[0m \u001b[39mprint\u001b[39m(\u001b[39mid\u001b[39m(var_to_delete))\n",
      "\u001b[0;31mNameError\u001b[0m: name 'var_to_delete' is not defined"
     ]
    }
   ],
   "source": [
    "var_to_delete = 42\n",
    "\n",
    "print(id(var_to_delete))\n",
    "\n",
    "del var_to_delete\n",
    "\n",
    "print(id(var_to_delete))"
   ]
  },
  {
   "cell_type": "markdown",
   "metadata": {},
   "source": [
    "### Nommer une variable avec la Pep-8"
   ]
  },
  {
   "cell_type": "markdown",
   "metadata": {},
   "source": [
    "La pep 8 est une convention qui définit les bonnes pratiques pour code en python."
   ]
  },
  {
   "cell_type": "markdown",
   "metadata": {},
   "source": [
    "- Mettez un espace avant et après le signe égal\n",
    "   - apprenant = \"Charles\" et non apprenant=\"Charles\"\n",
    "- Utilisez des noms descriptifs dans votre code.\n",
    "   - exemple: Au lieu de  quantite  (ou pire,qte), ajoutez des détails : quantite_en_stock, solde_actuel, etc.\n",
    "- Utilisez des mots complets.\n",
    "   - exemple,revenu_annuelest plus clair querev_annuel.\n",
    "- Suivez une convention d’appellation commune.\n",
    "   - le snake case : des noms composés de plusieurs mots séparés par des tirets bas(_)\n",
    "      - exemple nombre_de_chats,  reponse_finale  ,  le_meilleur_developpeur_python_du_monde, etc.\n",
    "   - commencez avec une lettre minuscule (surtout pas par un nombre)\n",
    "   - Utilisez uniquement des caractères alphanumériques et des tirets bas... et donc pas d'accents !\n",
    "- N’oubliez pas que les noms de variables sont sensibles à la casse.\n",
    "   - age,  Age  et  AGE  sont trois variables différentes. "
   ]
  },
  {
   "cell_type": "markdown",
   "metadata": {},
   "source": [
    "Il existe d'autres conventions de nommage comme le CamelCase ou le camelCase. La seconde version est utilisée en python qu'on définit des classes."
   ]
  },
  {
   "cell_type": "markdown",
   "metadata": {},
   "source": [
    "### S'exercer à manipuler les variables"
   ]
  },
  {
   "cell_type": "markdown",
   "metadata": {},
   "source": [
    "**`Exercice`**: créez l'état civil de votre voisin \n",
    "- déclarer les variables nom, prénom et deuxième prénom puis une variable nom complet à l'aide des trois précédentes en les concaténant à l'aide de l'opérateur + \n",
    "- déclarer les variables année actuelle et année de naissance puis créer la variable âge à l'aide des deux pécédentes en les soustrayant\n",
    "- remplacer la valeur de la variable nom par celle de nom complet puis supprimer la variable nom complet"
   ]
  },
  {
   "cell_type": "markdown",
   "metadata": {},
   "source": [
    "## Les types primitifs de variable"
   ]
  },
  {
   "cell_type": "code",
   "execution_count": 69,
   "metadata": {},
   "outputs": [
    {
     "name": "stdout",
     "output_type": "stream",
     "text": [
      "<class 'int'> 7\n"
     ]
    }
   ],
   "source": [
    "# Les \"integers\", ou nombres entiers en français\n",
    "nombre_apprentants = 7\n",
    "print(type(nombre_apprentants),nombre_apprentants)"
   ]
  },
  {
   "cell_type": "code",
   "execution_count": 20,
   "metadata": {},
   "outputs": [
    {
     "name": "stdout",
     "output_type": "stream",
     "text": [
      "<class 'float'>25.0\n"
     ]
    }
   ],
   "source": [
    "# Les \"floats\", ou nombres à virgule en français\n",
    "age_moyen_promo = 25.0\n",
    "print(type(age_moyen_promo), age_moyen_promo)"
   ]
  },
  {
   "cell_type": "code",
   "execution_count": 29,
   "metadata": {},
   "outputs": [
    {
     "name": "stdout",
     "output_type": "stream",
     "text": [
      "<class 'str'> Jérémy\n"
     ]
    }
   ],
   "source": [
    "# Les \"strings\" (str), ou chaines de caractères en français\n",
    "apprenant = \"Jérémy\"\n",
    "print(type(apprenant), apprenant)"
   ]
  },
  {
   "cell_type": "code",
   "execution_count": 1,
   "metadata": {},
   "outputs": [
    {
     "name": "stdout",
     "output_type": "stream",
     "text": [
      "<class 'bool'> True\n"
     ]
    }
   ],
   "source": [
    "# Les \"Booléens\" (bool), ou booléen en français, c'est à dire vrai ou faux\n",
    "est_ce_que_1_plus_1_egale_2 = 1 + 1 == 2\n",
    "\n",
    "print(type(est_ce_que_1_plus_1_egale_2),est_ce_que_1_plus_1_egale_2)"
   ]
  },
  {
   "cell_type": "markdown",
   "metadata": {},
   "source": [
    "Attention à ne pas confondre \"=\" qui permet d'assigner une variable et \"==\" qui est un opérateur de comparaison"
   ]
  },
  {
   "cell_type": "markdown",
   "metadata": {},
   "source": [
    "## Les integers et les floats en détail "
   ]
  },
  {
   "cell_type": "markdown",
   "metadata": {},
   "source": [
    "### Opérations sur les integers et les floats"
   ]
  },
  {
   "cell_type": "code",
   "execution_count": 2,
   "metadata": {},
   "outputs": [
    {
     "name": "stdout",
     "output_type": "stream",
     "text": [
      "somme=15.5\n",
      "difference=9.5\n",
      "produit=37.5\n",
      "quotient=4.166666666666667\n",
      "quotient_sans_reste=4.0\n",
      "reste=0.5\n",
      "puissance=1953.125\n"
     ]
    }
   ],
   "source": [
    "x = 12.5\n",
    "y = 3\n",
    "\n",
    "#la somme de x et y (x plus y).\n",
    "somme = x + y   \n",
    "print (f\"{somme=}\")\n",
    "\n",
    "#la différence entre x et y \n",
    "difference = x - y \n",
    "print (f\"{difference=}\")\n",
    "\n",
    "#le produit de x et y\n",
    "produit = x * y \n",
    "print (f\"{produit=}\")\n",
    "\n",
    "# le quotient de x et y (x divisé par y).\n",
    "quotient = x / y \n",
    "print (f\"{quotient=}\")\n",
    "\n",
    "# le quotient de x et y sans reste.\n",
    "quotient_sans_reste = x // y \n",
    "print (f\"{quotient_sans_reste=}\")\n",
    "\n",
    "# le reste de x divisé par y.\n",
    "reste = x % y  \n",
    "print (f\"{reste=}\")\n",
    "\n",
    "# x à la puissance y\n",
    "puissance = x**y\n",
    "print (f\"{puissance=}\")"
   ]
  },
  {
   "cell_type": "markdown",
   "metadata": {},
   "source": [
    "**`Exercice 1`**: Quelle est la valeur prise par z? (de tête)"
   ]
  },
  {
   "cell_type": "code",
   "execution_count": 31,
   "metadata": {},
   "outputs": [],
   "source": [
    "x = 13\n",
    "y = 4"
   ]
  },
  {
   "cell_type": "code",
   "execution_count": 32,
   "metadata": {},
   "outputs": [],
   "source": [
    "z = x == (( x // y ) * y) + (x % y) "
   ]
  },
  {
   "cell_type": "markdown",
   "metadata": {},
   "source": [
    "**`Exercice 2`**: Ajoutez des parenthèses à l'expression suivante afin que l'output soit 1."
   ]
  },
  {
   "cell_type": "code",
   "execution_count": 35,
   "metadata": {},
   "outputs": [
    {
     "name": "stdout",
     "output_type": "stream",
     "text": [
      "1\n"
     ]
    }
   ],
   "source": [
    "print( 5 - 3 // 2)"
   ]
  },
  {
   "cell_type": "markdown",
   "metadata": {},
   "source": [
    "**`Exercice 3`**: Ajoutez des parenthèses à l'expression suivante afin que l'output soit 0."
   ]
  },
  {
   "cell_type": "code",
   "execution_count": 111,
   "metadata": {},
   "outputs": [
    {
     "name": "stdout",
     "output_type": "stream",
     "text": [
      "2\n"
     ]
    }
   ],
   "source": [
    "print(8 - 3 * 2 - 1 + 1)"
   ]
  },
  {
   "cell_type": "markdown",
   "metadata": {},
   "source": [
    "**`Exercice 4`**: \n",
    "Alice, Bob et Carol ont décidé de mettre en commun leurs bonbons d'Halloween et de les partager équitablement entre eux. Pour le bien de leur amitié, les bonbons restants seront écrasés. Par exemple, s'ils ramènent collectivement 91 bonbons à la maison, ils en prendront 30 chacun et en écraseront 1.\n",
    "\n",
    "Écrivez une expression arithmétique ci-dessous pour calculer le nombre de bonbons qu'ils doivent écraser pour une quantité donnée."
   ]
  },
  {
   "cell_type": "code",
   "execution_count": 37,
   "metadata": {},
   "outputs": [
    {
     "name": "stdout",
     "output_type": "stream",
     "text": [
      "1\n"
     ]
    }
   ],
   "source": [
    "# Variables representing the number of candies collected by alice, bob, and carol\n",
    "alice_candies = 121\n",
    "bob_candies = 77\n",
    "carol_candies = 109\n",
    "\n",
    "# Your code goes here! Replace the right-hand side of this assignment with an expression\n",
    "# involving alice_candies, bob_candies, and carol_candies"
   ]
  },
  {
   "cell_type": "markdown",
   "metadata": {},
   "source": [
    "### fonctions utiles liées aux integers ou aux float "
   ]
  },
  {
   "cell_type": "code",
   "execution_count": 41,
   "metadata": {},
   "outputs": [
    {
     "name": "stdout",
     "output_type": "stream",
     "text": [
      "10.542321\n",
      "10.54\n"
     ]
    }
   ],
   "source": [
    "x = 10.542321\n",
    "\n",
    "# Valeur absolue de x\n",
    "print(abs(x))\n",
    "\n",
    "# obtenir l'arrondi d'un float\n",
    "print(round(x,2))\n",
    "\n",
    "# Convert an object to integer\n",
    "s = \"8\"\n",
    "s_as_an_integer = int(s)\n",
    "\n",
    "# Convert an object to float\n",
    "\n",
    "s_as_a_float = float(s)"
   ]
  },
  {
   "cell_type": "markdown",
   "metadata": {},
   "source": [
    "PLus de méthodes dans la documentation: https://docs.python.org/3/library/stdtypes.html"
   ]
  },
  {
   "cell_type": "markdown",
   "metadata": {},
   "source": [
    "## Les strings en détail"
   ]
  },
  {
   "cell_type": "markdown",
   "metadata": {},
   "source": [
    "### Les astuces concernant les strings"
   ]
  },
  {
   "cell_type": "markdown",
   "metadata": {},
   "source": [
    "Il existe une liste de caractères spéciaux dans les chaînes de caractères qu'on peut appeler à l'aide du \\ (backslash). En anglais on parle de \"escape characters\""
   ]
  },
  {
   "cell_type": "code",
   "execution_count": 36,
   "metadata": {},
   "outputs": [
    {
     "name": "stdout",
     "output_type": "stream",
     "text": [
      "J'aime \"le\" Python!\n",
      "comme dit le poète \"slkdfnsklfdn\" J'aime \n",
      "le Python a line \n",
      " to an another\n"
     ]
    }
   ],
   "source": [
    "# Pour utiliser le symbole ` dans une string il faut écrire \\``\t\n",
    "a_string = \"J'aime \\\"le\\\" Python!\"\n",
    "print(a_string)\n",
    "a_string = \"comme dit le poète \\\"slkdfnsklfdn\\\"\"\n",
    "\n",
    "# Pour sauter une ligne \\n\n",
    "a_string_with_a_space =\t\"a line \\n to an another\"\n",
    "\n",
    "print(a_string, the_same_string, a_string_with_a_space)"
   ]
  },
  {
   "cell_type": "markdown",
   "metadata": {},
   "source": [
    "Vous trouverez plus d'informations ici sur les escapes characters : \n",
    "https://www.w3schools.com/python/gloss_python_escape_characters.asp"
   ]
  },
  {
   "cell_type": "markdown",
   "metadata": {},
   "source": [
    "### Le parcours des chaines de caractères"
   ]
  },
  {
   "cell_type": "code",
   "execution_count": 38,
   "metadata": {},
   "outputs": [
    {
     "name": "stdout",
     "output_type": "stream",
     "text": [
      "s\n"
     ]
    },
    {
     "data": {
      "text/plain": [
       "6"
      ]
     },
     "execution_count": 38,
     "metadata": {},
     "output_type": "execute_result"
    }
   ],
   "source": [
    "n = 2\n",
    "the_string = \"string\"\n",
    "\n",
    "# Renvoie le n ème élément d'une liste \n",
    "print(the_string[n]) \n",
    "\n"
   ]
  },
  {
   "cell_type": "markdown",
   "metadata": {},
   "source": [
    "### fonctions utiles"
   ]
  },
  {
   "cell_type": "code",
   "execution_count": null,
   "metadata": {},
   "outputs": [],
   "source": [
    "# Renvoie le nombre de caractère dans la string\n",
    "len(the_string)"
   ]
  },
  {
   "cell_type": "markdown",
   "metadata": {},
   "source": [
    "### Les méthodes de la classe str"
   ]
  },
  {
   "cell_type": "code",
   "execution_count": 65,
   "metadata": {},
   "outputs": [],
   "source": [
    "my_string = \"Quelle belle journée belle journée\"\n",
    "\n",
    "# Mettre tout en minuscule\n",
    "lower_string = my_string.lower()\n",
    "\n",
    "# Mettre tout en majuscule\n",
    "upper_string = my_string.upper()\n",
    "\n",
    "# Mettre une majuscule au début\n",
    "capitalized_string = my_string.capitalize()\n",
    "\n",
    "# Remplacez une expression\n",
    "replaced_string = my_string.replace(\"journée\", \"soirée\")\n",
    "\n",
    "# Cherchez un bout de la chaine\n",
    "emplacement_de_belle = my_string.find(\"belle\")\n",
    "\n",
    "# Compte le nombre de fois ou apparait un caractère\n",
    "count_string = my_string.count(\"l\")\n",
    "\n",
    "# Diviser une chaine de caractères pour créer une liste\n",
    "splited_string = my_string.split(\" \")\n",
    "\n",
    "# Remplace les {} par la valeur définie dans format\n",
    "my_string = \"Quelle {} et {} journée\".format(\"belle\", \"bonne\")\n",
    "my_string = \"Quelle {adjectif_1} et {adjectif_2} journée\".format(adjectif_2=\"belle\", adjectif_1=\"bonne\")\n",
    "\n"
   ]
  },
  {
   "cell_type": "code",
   "execution_count": 71,
   "metadata": {},
   "outputs": [
    {
     "name": "stdout",
     "output_type": "stream",
     "text": [
      "my_string : Quelle bonne et belle journée\n",
      "Quelle bonne et belle journée\n"
     ]
    }
   ],
   "source": [
    "print(\"my_string :\", my_string)\n",
    "print(f\"{my_string=}\")"
   ]
  },
  {
   "cell_type": "markdown",
   "metadata": {},
   "source": [
    "**`Exercice`**: travaillez sur la définition de python \n",
    "- remplacez python par lovely python partout dans la chaine de caractère suivante en utilisant une variable et le string formatting\n",
    "- Affichez la chaine suivante en une seule chaine de caractères en sautant une ligne entre chaque phrase et en faisant commencer chaque phrase par une majuscule.\n",
    "- bonus : améliorer la lisibilité en faisant un retour à la ligne dans le code. Attention à ne pas confondre retour à la ligne dans l'input et dans l'output."
   ]
  },
  {
   "cell_type": "code",
   "execution_count": 42,
   "metadata": {},
   "outputs": [],
   "source": [
    "python_definition = \"python is an interpreted high-level general-purpose programming language. its design philosophy emphasizes code readability with its use of significant indentation. its language constructs as well as its object-oriented approach aim to help programmers write clear, logical code for small and large-scale projects.\""
   ]
  },
  {
   "cell_type": "markdown",
   "metadata": {},
   "source": [
    "## Les booléens en détail"
   ]
  },
  {
   "cell_type": "code",
   "execution_count": 49,
   "metadata": {},
   "outputs": [
    {
     "name": "stdout",
     "output_type": "stream",
     "text": [
      "False\n",
      "True\n",
      "True\n",
      "True\n",
      "False\n",
      "False\n",
      "True\n",
      "True\n",
      "False\n",
      "True\n",
      "True\n",
      "False\n",
      "True\n",
      "False\n",
      "True\n"
     ]
    }
   ],
   "source": [
    "x = 8\n",
    "y = 9\n",
    "z = [7 ,8]\n",
    "\n",
    "\"\"\"Les booléens sont souvent le résultat d'une comparaison \"\"\"\n",
    "\n",
    "print( x == y ) #equal\n",
    "\n",
    "print( x != y ) # not equal\n",
    "\n",
    "print( x < y ) #strictly less than\n",
    "\n",
    "print( x <= y ) #less than or equal\n",
    "\n",
    "print( x > y ) #strictly greater than\n",
    "\n",
    "print( x >= y ) #greater than or equal\n",
    "\n",
    "\"\"\" ou le résultat d'affirmation \"\"\"\n",
    "\n",
    "print( type(x) is int ) # être\n",
    "\n",
    "print( type(x) is not str ) # ou ne pas être\n",
    "\n",
    "print (isinstance(x,str))\n",
    "\n",
    "print( x in z) # appartenir\n",
    "\n",
    "print( y not in z ) # ou ne pas appartenir\n",
    "\n",
    "\"\"\" enfin ils peuvent être combiné grâve à des opérateurs logique \"\"\"\n",
    "t = True\n",
    "f = False\n",
    "\n",
    "print( t and f) # s'écrit aussi &\n",
    "print( t or f) # s'écrit aussi | \n",
    "print( not t)\n",
    "print( not f)"
   ]
  },
  {
   "cell_type": "code",
   "execution_count": 54,
   "metadata": {},
   "outputs": [
    {
     "name": "stdout",
     "output_type": "stream",
     "text": [
      "The condition passed\n",
      "The condition passed\n",
      "The condition passed\n"
     ]
    }
   ],
   "source": [
    "if True:\n",
    "    print('The condition passed')\n",
    "\n",
    "if False:\n",
    "    print('The condition passed')\n",
    "\n",
    "if 0 :\n",
    "    print('The condition passed')\n",
    "\n",
    "if 1:\n",
    "    print('The condition passed')\n",
    "\n",
    "if 1 == True:\n",
    "    print('The condition passed')"
   ]
  }
 ],
 "metadata": {
  "kernelspec": {
   "display_name": "Python 3.9.12 ('env': venv)",
   "language": "python",
   "name": "python3"
  },
  "language_info": {
   "codemirror_mode": {
    "name": "ipython",
    "version": 3
   },
   "file_extension": ".py",
   "mimetype": "text/x-python",
   "name": "python",
   "nbconvert_exporter": "python",
   "pygments_lexer": "ipython3",
   "version": "3.10.4"
  },
  "orig_nbformat": 2,
  "vscode": {
   "interpreter": {
    "hash": "f9351f71b73ea8a230435cc436bb534a46778c892f07a974c8047a435918be1c"
   }
  }
 },
 "nbformat": 4,
 "nbformat_minor": 2
}
