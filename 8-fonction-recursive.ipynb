{
 "cells": [
  {
   "cell_type": "markdown",
   "metadata": {},
   "source": [
    "# Fonctions récursives en Python\n",
    "\n",
    "Une fonction récursive est une fonction qui s'appelle elle-même. La récursivité est une technique puissante de programmation, mais elle nécessite une compréhension approfondie et une attention particulière pour éviter des appels infinis. Dans ce notebook, nous explorerons les bases de la récursivité et quelques exemples classiques.\n"
   ]
  },
  {
   "cell_type": "markdown",
   "metadata": {},
   "source": [
    "## Principe de base de la récursivité\n",
    "\n",
    "Pour qu'une fonction récursive fonctionne correctement, elle doit avoir :\n",
    "\n",
    "1. **Un cas de base** : une condition qui arrête la récursivité.\n",
    "2. **Un pas récursif** : une partie où la fonction s'appelle elle-même, généralement avec des arguments modifiés.\n"
   ]
  },
  {
   "cell_type": "markdown",
   "metadata": {},
   "source": [
    "### Exemple : Factorielle\n",
    "\n",
    "La factorielle d'un nombre non négatif \\( n \\) est le produit de tous les entiers positifs inférieurs ou égaux à \\( n \\). Elle est généralement notée par \\( n! \\).\n",
    "\n",
    "La factorielle peut être définie récursivement comme suit :\n",
    "1. \\( 0! = 1 \\) (cas de base)\n",
    "2. \\( n! = n \\times (n-1)! \\) (pour \\( n > 0 \\))\n"
   ]
  },
  {
   "cell_type": "code",
   "execution_count": 2,
   "metadata": {},
   "outputs": [
    {
     "name": "stdout",
     "output_type": "stream",
     "text": [
      "120\n"
     ]
    }
   ],
   "source": [
    "def factorielle(n):\n",
    "    # Cas de base\n",
    "    if n == 0:\n",
    "        return 1\n",
    "    # Pas récursif\n",
    "    else:\n",
    "        return n * factorielle(n-1)\n",
    "\n",
    "print(factorielle(5))  # Devrait afficher 120 (car 5! = 5x4x3x2x1 = 120)\n"
   ]
  },
  {
   "cell_type": "markdown",
   "metadata": {},
   "source": [
    "### Exemple : Suite de Fibonacci\n",
    "\n",
    "La suite de Fibonacci est une série de nombres où chaque nombre est la somme des deux précédents. Les deux premiers nombres de la suite de Fibonacci sont généralement 0 et 1.\n",
    "\n",
    "La suite commence comme suit : 0, 1, 1, 2, 3, 5, 8, ...\n",
    "\n",
    "La suite de Fibonacci peut être définie récursivement comme suit :\n",
    "1. \\( F(0) = 0 \\)\n",
    "2. \\( F(1) = 1 \\)\n",
    "3. \\( F(n) = F(n-1) + F(n-2) \\) (pour \\( n > 1 \\))\n"
   ]
  },
  {
   "cell_type": "code",
   "execution_count": 1,
   "metadata": {},
   "outputs": [
    {
     "name": "stdout",
     "output_type": "stream",
     "text": [
      "3\n"
     ]
    }
   ],
   "source": [
    "def fibonacci(n):\n",
    "    # Cas de base\n",
    "    if n <= 1:\n",
    "        return n\n",
    "    # Pas récursif\n",
    "    else:\n",
    "        return fibonacci(n-1) + fibonacci(n-2)\n",
    "\n",
    "print(fibonacci(4))  # Devrait afficher 13 (car F(7) = F(6) + F(5) = 8 + 5 = 13)\n"
   ]
  },
  {
   "cell_type": "markdown",
   "metadata": {},
   "source": [
    "is 0"
   ]
  },
  {
   "cell_type": "code",
   "execution_count": 4,
   "metadata": {},
   "outputs": [
    {
     "data": {
      "text/plain": [
       "True"
      ]
     },
     "execution_count": 4,
     "metadata": {},
     "output_type": "execute_result"
    }
   ],
   "source": [
    "not []"
   ]
  },
  {
   "cell_type": "code",
   "execution_count": 5,
   "metadata": {},
   "outputs": [],
   "source": [
    "if []:\n",
    "    print(1)"
   ]
  },
  {
   "cell_type": "code",
   "execution_count": null,
   "metadata": {},
   "outputs": [],
   "source": []
  }
 ],
 "metadata": {
  "kernelspec": {
   "display_name": "venv",
   "language": "python",
   "name": "python3"
  },
  "language_info": {
   "codemirror_mode": {
    "name": "ipython",
    "version": 3
   },
   "file_extension": ".py",
   "mimetype": "text/x-python",
   "name": "python",
   "nbconvert_exporter": "python",
   "pygments_lexer": "ipython3",
   "version": "3.9.12"
  },
  "orig_nbformat": 4
 },
 "nbformat": 4,
 "nbformat_minor": 2
}
