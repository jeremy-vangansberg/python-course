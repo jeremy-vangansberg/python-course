{
 "cells": [
  {
   "cell_type": "markdown",
   "metadata": {},
   "source": [
    "# Fonctions récursives en Python\n",
    "\n",
    "Une fonction récursive est une fonction qui s'appelle elle-même. La récursivité est une technique puissante de programmation, mais elle nécessite une compréhension approfondie et une attention particulière pour éviter des appels infinis. Dans ce notebook, nous explorerons les bases de la récursivité et quelques exemples classiques.\n"
   ]
  },
  {
   "cell_type": "markdown",
   "metadata": {},
   "source": [
    "## Principe de base de la récursivité\n",
    "\n",
    "Pour qu'une fonction récursive fonctionne correctement, elle doit avoir :\n",
    "\n",
    "1. **Un cas de base** : une condition qui arrête la récursivité.\n",
    "2. **Un pas récursif** : une partie où la fonction s'appelle elle-même, généralement avec des arguments modifiés.\n"
   ]
  },
  {
   "cell_type": "markdown",
   "metadata": {},
   "source": [
    "### Exemple : Factorielle\n",
    "\n",
    "La factorielle d'un nombre non négatif \\( n \\) est le produit de tous les entiers positifs inférieurs ou égaux à \\( n \\). Elle est généralement notée par \\( n! \\).\n",
    "\n",
    "La factorielle peut être définie récursivement comme suit :\n",
    "1. \\( 0! = 1 \\) (cas de base)\n",
    "2. \\( n! = n \\times (n-1)! \\) (pour \\( n > 0 \\))\n"
   ]
  },
  {
   "cell_type": "code",
   "execution_count": 2,
   "metadata": {},
   "outputs": [
    {
     "name": "stdout",
     "output_type": "stream",
     "text": [
      "120\n"
     ]
    }
   ],
   "source": [
    "def factorielle(n):\n",
    "    # Cas de base\n",
    "    if n == 0:\n",
    "        return 1\n",
    "    # Pas récursif\n",
    "    else:\n",
    "        return n * factorielle(n-1)\n",
    "\n",
    "print(factorielle(5))  # Devrait afficher 120 (car 5! = 5x4x3x2x1 = 120)\n"
   ]
  },
  {
   "cell_type": "markdown",
   "metadata": {},
   "source": [
    "#### Étape par étape pour `factorielle(5)` :\n",
    "\n",
    "1. **Appel initial** : `factorielle(5)`\n",
    "    - Le programme teste `if n == 0` (5 n'est pas égal à 0), donc on passe au `else`.\n",
    "    - On entre dans le cas récursif : `n * factorielle(n - 1)`, ce qui devient `5 * factorielle(4)`.\n",
    "\n",
    "2. **Deuxième appel** : `factorielle(4)`\n",
    "    - Encore une fois, `n == 0` est faux (car 4 n'est pas égal à 0).\n",
    "    - On calcule `4 * factorielle(3)`.\n",
    "\n",
    "3. **Troisième appel** : `factorielle(3)`\n",
    "    - On teste encore `if n == 0`, ce qui est faux (car 3 n'est pas égal à 0).\n",
    "    - On calcule `3 * factorielle(2)`.\n",
    "\n",
    "4. **Quatrième appel** : `factorielle(2)`\n",
    "    - Le test `if n == 0` échoue encore (2 n'est pas égal à 0).\n",
    "    - On calcule `2 * factorielle(1)`.\n",
    "\n",
    "5. **Cinquième appel** : `factorielle(1)`\n",
    "    - Le test `if n == 0` échoue encore (1 n'est pas égal à 0).\n",
    "    - On calcule `1 * factorielle(0)`.\n",
    "\n",
    "6. **Sixième appel** : `factorielle(0)`\n",
    "    - Cette fois, `if n == 0` est **vrai** !\n",
    "    - On atteint le **cas de base**, donc la fonction retourne 1.\n",
    "\n",
    "#### Maintenant, revenons en arrière (remontée de la récursion) :\n",
    "Après avoir atteint le cas de base, on revient à chaque étape précédente et on effectue les multiplications :\n",
    "\n",
    "7. **Retour à `factorielle(1)`** :\n",
    "    - On remplace `factorielle(0)` par 1 (valeur obtenue du cas de base).\n",
    "    - On calcule : `1 * 1 = 1`. La fonction retourne 1.\n",
    "\n",
    "8. **Retour à `factorielle(2)`** :\n",
    "    - On remplace `factorielle(1)` par 1.\n",
    "    - On calcule : `2 * 1 = 2`. La fonction retourne 2.\n",
    "\n",
    "9. **Retour à `factorielle(3)`** :\n",
    "    - On remplace `factorielle(2)` par 2.\n",
    "    - On calcule : `3 * 2 = 6`. La fonction retourne 6.\n",
    "\n",
    "10. **Retour à `factorielle(4)`** :\n",
    "    - On remplace `factorielle(3)` par 6.\n",
    "    - On calcule : `4 * 6 = 24`. La fonction retourne 24.\n",
    "\n",
    "11. **Retour à `factorielle(5)`** :\n",
    "    - On remplace `factorielle(4)` par 24.\n",
    "    - On calcule : `5 * 24 = 120`. La fonction retourne 120.\n",
    "\n",
    "### Résultat final :\n",
    "La fonction retourne finalement 120 pour `factorielle(5)`.\n",
    "\n",
    "### Résumé du processus récursif :\n",
    "- Chaque appel récursif divise le problème en un sous-problème plus petit, en soustrayant 1 à \\( n \\).\n",
    "- La récursion s'arrête lorsqu'on atteint le **cas de base** (quand \\( n == 0 \\)).\n",
    "- Ensuite, chaque étape effectue les multiplications lors du retour des appels récursifs, ce qui permet de remonter jusqu'à la solution finale.\n",
    "\n",
    "### Visualisation :\n",
    "\n",
    "```\n",
    "factorielle(5) => 5 * factorielle(4)\n",
    "factorielle(4) => 4 * factorielle(3)\n",
    "factorielle(3) => 3 * factorielle(2)\n",
    "factorielle(2) => 2 * factorielle(1)\n",
    "factorielle(1) => 1 * factorielle(0)\n",
    "factorielle(0) => 1  # Cas de base\n",
    "```\n",
    "\n",
    "En remontant :\n",
    "```\n",
    "factorielle(1) => 1 * 1 = 1\n",
    "factorielle(2) => 2 * 1 = 2\n",
    "factorielle(3) => 3 * 2 = 6\n",
    "factorielle(4) => 4 * 6 = 24\n",
    "factorielle(5) => 5 * 24 = 120\n",
    "```\n"
   ]
  },
  {
   "cell_type": "markdown",
   "metadata": {},
   "source": [
    "### Exercice : Suite de Fibonacci\n",
    "\n",
    "La suite de Fibonacci est une série de nombres où chaque nombre est la somme des deux précédents. Les deux premiers nombres de la suite de Fibonacci sont généralement 0 et 1.\n",
    "\n",
    "La suite commence comme suit : 0,1,1,2,3,5,8,13,21,34,…\n",
    "\n",
    "La suite de Fibonacci peut être définie récursivement comme suit :\n",
    "1. \\( F(0) = 0 \\)\n",
    "2. \\( F(1) = 1 \\)\n",
    "3. \\( F(n) = F(n-1) + F(n-2) \\) (pour \\( n > 1 \\))\n",
    "\n",
    "Écrire une fonction récursive qui renvoie la valeur du n-ème nombre de la suite de Finocci.\n"
   ]
  },
  {
   "cell_type": "code",
   "execution_count": null,
   "metadata": {},
   "outputs": [],
   "source": []
  }
 ],
 "metadata": {
  "kernelspec": {
   "display_name": "venv",
   "language": "python",
   "name": "python3"
  },
  "language_info": {
   "codemirror_mode": {
    "name": "ipython",
    "version": 3
   },
   "file_extension": ".py",
   "mimetype": "text/x-python",
   "name": "python",
   "nbconvert_exporter": "python",
   "pygments_lexer": "ipython3",
   "version": "3.9.12"
  },
  "orig_nbformat": 4
 },
 "nbformat": 4,
 "nbformat_minor": 2
}
