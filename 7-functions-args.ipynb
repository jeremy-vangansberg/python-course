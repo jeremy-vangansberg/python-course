{
 "cells": [
  {
   "cell_type": "markdown",
   "metadata": {},
   "source": [
    "# Arguments de Fonction en Python\n",
    "\n",
    "Lorsque nous définissons une fonction en Python, nous spécifions souvent des arguments pour capturer des valeurs que nous souhaitons utiliser dans cette fonction. Ces arguments peuvent être passés de différentes manières, et cette flexibilité est l'une des caractéristiques qui rendent Python si puissant. Dans ce notebook, nous explorerons différentes manières de passer des arguments à une fonction.\n",
    "\n"
   ]
  },
  {
   "cell_type": "markdown",
   "metadata": {},
   "source": [
    "## 1. Arguments par position\n",
    "\n",
    "Les arguments positionnels sont les plus basiques et les plus couramment utilisés. Lorsque nous appelons une fonction avec des arguments positionnels, les valeurs sont assignées aux paramètres de la fonction basées sur leur ordre.\n"
   ]
  },
  {
   "cell_type": "code",
   "execution_count": 1,
   "metadata": {},
   "outputs": [
    {
     "name": "stdout",
     "output_type": "stream",
     "text": [
      "Prénom: John\n",
      "Nom: Doe\n"
     ]
    }
   ],
   "source": [
    "def afficher_nom(prenom, nom):\n",
    "    print(f\"Prénom: {prenom}\")\n",
    "    print(f\"Nom: {nom}\")\n",
    "\n",
    "afficher_nom(\"John\", \"Doe\")"
   ]
  },
  {
   "cell_type": "markdown",
   "metadata": {},
   "source": [
    "## 2. Arguments par nom d'argument (ou mots-clés)\n",
    "\n",
    "Plutôt que de dépendre de l'ordre des arguments, nous pouvons également spécifier des arguments en utilisant le nom des paramètres. Cela nous permet de passer des arguments dans un ordre différent de la définition de la fonction, et rend notre code plus lisible."
   ]
  },
  {
   "cell_type": "code",
   "execution_count": 2,
   "metadata": {},
   "outputs": [
    {
     "name": "stdout",
     "output_type": "stream",
     "text": [
      "Nom: Alice\n",
      "Age: 30\n"
     ]
    }
   ],
   "source": [
    "def afficher_details(nom, age):\n",
    "    print(f\"Nom: {nom}\")\n",
    "    print(f\"Age: {age}\")\n",
    "\n",
    "afficher_details(age=30, nom=\"Alice\")"
   ]
  },
  {
   "cell_type": "markdown",
   "metadata": {},
   "source": [
    "## 3. `*args` : Arguments positionnels variables\n",
    "\n",
    "Il se peut que nous voulions créer une fonction où le nombre exact d'arguments n'est pas déterminé à l'avance. Dans ces cas, nous pouvons utiliser `*args`, qui permet à une fonction d'accepter un nombre quelconque d'arguments positionnels."
   ]
  },
  {
   "cell_type": "code",
   "execution_count": 15,
   "metadata": {},
   "outputs": [
    {
     "name": "stdout",
     "output_type": "stream",
     "text": [
      "<class 'tuple'>\n",
      "1\n",
      "2\n",
      "3\n",
      "4\n",
      "5\n"
     ]
    }
   ],
   "source": [
    "def afficher_nombres(*args):\n",
    "    print(type(args))\n",
    "    for num in args:\n",
    "        print(num)\n",
    "\n",
    "afficher_nombres(1, 2, 3, 4, 5)"
   ]
  },
  {
   "cell_type": "markdown",
   "metadata": {},
   "source": [
    "## 4. `**kwargs` : Arguments par mots-clés variables\n",
    "\n",
    "De manière similaire à `*args`, si nous souhaitons permettre un nombre variable d'arguments par mots-clés, nous pouvons utiliser `**kwargs`. Cela traite les arguments comme un dictionnaire où les noms des arguments sont les clés.\n"
   ]
  },
  {
   "cell_type": "code",
   "execution_count": 16,
   "metadata": {},
   "outputs": [
    {
     "name": "stdout",
     "output_type": "stream",
     "text": [
      "<class 'dict'>\n",
      "nom: Martin\n",
      "age: 25\n",
      "pays: France\n"
     ]
    }
   ],
   "source": [
    "def afficher_data(**kwargs):\n",
    "    print(type(kwargs))\n",
    "    for key, value in kwargs.items():\n",
    "        print(f\"{key}: {value}\")\n",
    "\n",
    "afficher_data(nom=\"Martin\", age=25, pays=\"France\")"
   ]
  },
  {
   "cell_type": "markdown",
   "metadata": {},
   "source": [
    "## Combinaison des différents types d'arguments\n",
    "\n",
    "Il est possible de combiner arguments positionnels, arguments par mots-clés, `*args` et `**kwargs` dans une seule fonction. Cependant, leur ordre dans la liste des paramètres de la fonction est crucial :\n",
    "1. Arguments positionnels\n",
    "2. Arguments par mots-clés\n",
    "3. `*args`\n",
    "4. `**kwargs`\n"
   ]
  },
  {
   "cell_type": "code",
   "execution_count": 1,
   "metadata": {},
   "outputs": [
    {
     "name": "stdout",
     "output_type": "stream",
     "text": [
      "1 2\n",
      "3\n",
      "4\n",
      "5\n",
      "Majeur : True\n",
      "nom: Lucas\n",
      "age: 28\n"
     ]
    }
   ],
   "source": [
    "def exemple_combinaison(a, b, *args, majeur=True, **kwargs):\n",
    "    print(a, b)\n",
    "    for arg in args:\n",
    "        print(arg)\n",
    "    print(f\"Majeur : {majeur}\")\n",
    "    for key, value in kwargs.items():\n",
    "        print(f\"{key}: {value}\")\n",
    "\n",
    "exemple_combinaison(1, 2, 3, 4, 5, nom=\"Lucas\", age=28)"
   ]
  },
  {
   "cell_type": "markdown",
   "metadata": {},
   "source": [
    "## Conclusion\n",
    "\n",
    "Les arguments de fonction en Python offrent une flexibilité remarquable, permettant aux développeurs de créer des fonctions modulaires et réutilisables. Que vous passiez des arguments de manière positionnelle, par mots-clés, ou que vous utilisiez `*args` et `**kwargs` pour accepter un nombre variable d'arguments, la maîtrise de ces concepts est essentielle pour la programmation efficace en Python.\n"
   ]
  },
  {
   "cell_type": "markdown",
   "metadata": {},
   "source": [
    "## 5. Unpacking de collections\n",
    "\n",
    "L'unpacking permet de décomposer les éléments d'une collection directement dans des variables. En Python, nous pouvons \"déballer\" ou \"décomposer\" les éléments des listes, tuples et dictionnaires dans des variables individuelles. Cela est souvent utilisé en combinaison avec les fonctions pour passer des arguments.\n"
   ]
  },
  {
   "cell_type": "markdown",
   "metadata": {},
   "source": [
    "### 5.1 Unpacking de listes et tuples"
   ]
  },
  {
   "cell_type": "code",
   "execution_count": 6,
   "metadata": {},
   "outputs": [
    {
     "name": "stdout",
     "output_type": "stream",
     "text": [
      "1 2 3\n",
      "4 5\n"
     ]
    }
   ],
   "source": [
    "# Unpacking de liste\n",
    "nombres = [1, 2, 3]\n",
    "a, b, c = nombres\n",
    "print(a, b, c)\n",
    "\n",
    "# Unpacking de tuple\n",
    "coords = (4, 5)\n",
    "x, y = coords\n",
    "print(x, y)"
   ]
  },
  {
   "cell_type": "markdown",
   "metadata": {},
   "source": [
    "### 5.2 Utilisation de l'unpacking avec *args\n"
   ]
  },
  {
   "cell_type": "code",
   "execution_count": 19,
   "metadata": {},
   "outputs": [
    {
     "name": "stdout",
     "output_type": "stream",
     "text": [
      "(1, 2, 3, 4, 5)\n",
      "15\n"
     ]
    }
   ],
   "source": [
    "def somme(*args):\n",
    "    print(args)\n",
    "    return sum(args)\n",
    "\n",
    "# Si nous avons une liste\n",
    "nombres = [1, 2, 3, 4, 5]\n",
    "\n",
    "# Nous pouvons utiliser l'unpacking pour passer les éléments de la liste comme arguments\n",
    "print(somme(*nombres))"
   ]
  },
  {
   "cell_type": "code",
   "execution_count": 11,
   "metadata": {},
   "outputs": [
    {
     "name": "stdout",
     "output_type": "stream",
     "text": [
      "15\n"
     ]
    }
   ],
   "source": [
    "# Bien comprendre la différence avec cette syntaxe\n",
    "\n",
    "def somme(args):\n",
    "    return sum(args)\n",
    "\n",
    "nombres = [1, 2, 3, 4, 5]\n",
    "\n",
    "# Ici args est un argument qui est une liste\n",
    "print(somme(nombres))"
   ]
  },
  {
   "cell_type": "code",
   "execution_count": 13,
   "metadata": {},
   "outputs": [
    {
     "name": "stdout",
     "output_type": "stream",
     "text": [
      "3\n",
      "10\n"
     ]
    }
   ],
   "source": [
    "def somme(a, b, *args):\n",
    "    total = a + b\n",
    "    for num in args:\n",
    "        total += num\n",
    "    return total\n",
    "\n",
    "# Utilisation de la fonction\n",
    "print(somme(1, 2))          # 3, car nous n'avons que deux arguments\n",
    "print(somme(1, 2, 3, 4))   # 10, car nous avons des arguments supplémentaires\\"
   ]
  },
  {
   "cell_type": "markdown",
   "metadata": {},
   "source": [
    "### 5.3 Unpacking de dictionnaires\n"
   ]
  },
  {
   "cell_type": "code",
   "execution_count": 21,
   "metadata": {},
   "outputs": [
    {
     "name": "stdout",
     "output_type": "stream",
     "text": [
      "Nom: Alice, Age: 30\n",
      "Nom: Alice, Age: 30\n"
     ]
    }
   ],
   "source": [
    "# Unpacking de dictionnaire\n",
    "personne = {\"nom\": \"Alice\", \"age\": 30}\n",
    "\n",
    "# ** peut être utilisé pour déballer le contenu d'un dictionnaire en arguments par mots-clés\n",
    "def afficher_personne(nom, age):\n",
    "    print(f\"Nom: {nom}, Age: {age}\")\n",
    "\n",
    "afficher_personne(**personne)\n",
    "\n",
    "afficher_personne(nom=\"Alice\", age=30)"
   ]
  },
  {
   "cell_type": "markdown",
   "metadata": {},
   "source": [
    "### 5.4 Utilisation de l'unpacking avec **kwargs\n"
   ]
  },
  {
   "cell_type": "code",
   "execution_count": 9,
   "metadata": {},
   "outputs": [
    {
     "name": "stdout",
     "output_type": "stream",
     "text": [
      "nom: Lucas\n",
      "age: 28\n",
      "pays: France\n"
     ]
    }
   ],
   "source": [
    "def afficher_data(**kwargs):\n",
    "    for key, value in kwargs.items():\n",
    "        print(f\"{key}: {value}\")\n",
    "\n",
    "# Si nous avons un dictionnaire\n",
    "data = {\"nom\": \"Lucas\", \"age\": 28, \"pays\": \"France\"}\n",
    "\n",
    "# Nous pouvons utiliser l'unpacking pour passer les éléments du dictionnaire comme arguments\n",
    "afficher_data(**data)"
   ]
  },
  {
   "cell_type": "code",
   "execution_count": 10,
   "metadata": {},
   "outputs": [
    {
     "name": "stdout",
     "output_type": "stream",
     "text": [
      "nom: Lucas\n",
      "age: 28\n",
      "pays: France\n",
      "nom: Lucas\n",
      "age: 28\n",
      "pays: France\n",
      "profession: Développeur\n",
      "nom: Lucas\n",
      "age: 28\n",
      "pays: France\n",
      "profession: Développeur\n",
      "hobby: Lecture\n"
     ]
    }
   ],
   "source": [
    "def afficher_profil(**kwargs):\n",
    "    for key, value in kwargs.items():\n",
    "        print(f\"{key}: {value}\")\n",
    "\n",
    "# Utilisation normale\n",
    "afficher_profil(nom=\"Lucas\", age=28, pays=\"France\")\n",
    "\n",
    "# Plus tard, vous réalisez que vous voulez ajouter une profession sans changer la signature de la fonction\n",
    "afficher_profil(nom=\"Lucas\", age=28, pays=\"France\", profession=\"Développeur\")\n",
    "\n",
    "# Encore plus tard, vous voulez ajouter une autre information\n",
    "afficher_profil(nom=\"Lucas\", age=28, pays=\"France\", profession=\"Développeur\", hobby=\"Lecture\")\n"
   ]
  },
  {
   "cell_type": "markdown",
   "metadata": {},
   "source": [
    "Unpacking de *args vs **kwargs"
   ]
  },
  {
   "cell_type": "code",
   "execution_count": null,
   "metadata": {},
   "outputs": [
    {
     "name": "stdout",
     "output_type": "stream",
     "text": [
      "Bonjour Camille, vous avez 32 ans\n",
      "Bonjour Camille, vous avez 32 ans\n"
     ]
    }
   ],
   "source": [
    "def greetings(name,age):\n",
    "    return f\"Bonjour {name}, vous avez {age} ans\"\n",
    "\n",
    "my_args = [\"Camille\", 32]\n",
    "\n",
    "print(greetings(*my_args))\n",
    "\n",
    "my_kwargs = {\"name\":\"Camille\", \"age\": 32}\n",
    "\n",
    "print(greetings(**my_kwargs))"
   ]
  },
  {
   "cell_type": "markdown",
   "metadata": {},
   "source": [
    "## Conclusion sur l'Unpacking\n",
    "\n",
    "L'unpacking est une fonctionnalité puissante en Python qui permet une affectation multiple et une manière concise de passer des arguments à des fonctions. Que ce soit pour les listes, les tuples ou les dictionnaires, l'unpacking facilite la manipulation et le passage de collections.\n"
   ]
  },
  {
   "cell_type": "markdown",
   "metadata": {},
   "source": [
    "## 6. Arguments par défaut (valeurs par défaut)\n",
    "\n",
    "En Python, nous pouvons définir une valeur par défaut pour un ou plusieurs arguments dans la signature de la fonction. Cela signifie que si l'argument n'est pas fourni lors de l'appel de la fonction, la valeur par défaut sera utilisée à la place.\n",
    "\n",
    "### 6.1 Exemple basique\n"
   ]
  },
  {
   "cell_type": "code",
   "execution_count": 15,
   "metadata": {},
   "outputs": [
    {
     "name": "stdout",
     "output_type": "stream",
     "text": [
      "Bonjour, Alice!\n",
      "Bonjour, Utilisateur!\n"
     ]
    }
   ],
   "source": [
    "def saluer(nom=\"Utilisateur\"):\n",
    "    return f\"Bonjour, {nom}!\"\n",
    "\n",
    "# Appel avec un argument\n",
    "print(saluer(\"Alice\"))\n",
    "\n",
    "# Appel sans argument, utilisant la valeur par défaut\n",
    "print(saluer())\n"
   ]
  },
  {
   "cell_type": "markdown",
   "metadata": {},
   "source": [
    "### 6.2 Précautions avec les arguments par défaut\n",
    "\n",
    "Il est important de faire preuve de prudence lorsque vous utilisez des objets mutables, comme des listes ou des dictionnaires, comme valeurs par défaut. Ces objets sont créés une seule fois lors de la définition de la fonction, ce qui peut entraîner un comportement inattendu.\n"
   ]
  },
  {
   "cell_type": "code",
   "execution_count": 16,
   "metadata": {},
   "outputs": [
    {
     "name": "stdout",
     "output_type": "stream",
     "text": [
      "[1]\n",
      "[1, 2]\n"
     ]
    }
   ],
   "source": [
    "def ajouter_a_liste(valeur, liste_defaut=[]):\n",
    "    liste_defaut.append(valeur)\n",
    "    return liste_defaut\n",
    "\n",
    "print(ajouter_a_liste(1))\n",
    "print(ajouter_a_liste(2))\n"
   ]
  },
  {
   "cell_type": "markdown",
   "metadata": {},
   "source": [
    "Notez comment la même liste est utilisée à chaque appel de fonction. Pour éviter ce comportement, nous utilisons généralement une valeur par défaut de `None` et initialisons l'objet mutable à l'intérieur de la fonction."
   ]
  },
  {
   "cell_type": "code",
   "execution_count": 17,
   "metadata": {},
   "outputs": [
    {
     "name": "stdout",
     "output_type": "stream",
     "text": [
      "[1]\n",
      "[2]\n"
     ]
    }
   ],
   "source": [
    "def ajouter_a_liste_corrige(valeur, liste_defaut=None):\n",
    "    if liste_defaut is None:\n",
    "        liste_defaut = []\n",
    "    liste_defaut.append(valeur)\n",
    "    return liste_defaut\n",
    "\n",
    "print(ajouter_a_liste_corrige(1))\n",
    "print(ajouter_a_liste_corrige(2))\n"
   ]
  },
  {
   "cell_type": "markdown",
   "metadata": {},
   "source": [
    "## Conclusion sur les arguments par défaut\n",
    "\n",
    "Les arguments par défaut permettent d'écrire des fonctions flexibles qui peuvent être appelées avec un nombre variable d'arguments. Ils sont particulièrement utiles pour définir des comportements par défaut pour une fonction. Cependant, il est essentiel de faire preuve de prudence lors de l'utilisation d'objets mutables comme valeurs par défaut pour éviter des comportements inattendus.\n"
   ]
  },
  {
   "cell_type": "code",
   "execution_count": null,
   "metadata": {},
   "outputs": [],
   "source": []
  },
  {
   "cell_type": "markdown",
   "metadata": {},
   "source": []
  }
 ],
 "metadata": {
  "kernelspec": {
   "display_name": "ds",
   "language": "python",
   "name": "python3"
  },
  "language_info": {
   "codemirror_mode": {
    "name": "ipython",
    "version": 3
   },
   "file_extension": ".py",
   "mimetype": "text/x-python",
   "name": "python",
   "nbconvert_exporter": "python",
   "pygments_lexer": "ipython3",
   "version": "3.10.4"
  },
  "orig_nbformat": 4
 },
 "nbformat": 4,
 "nbformat_minor": 2
}
