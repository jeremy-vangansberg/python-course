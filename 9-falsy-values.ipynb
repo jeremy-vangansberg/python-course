{
 "cells": [
  {
   "cell_type": "markdown",
   "metadata": {},
   "source": [
    "# Falsy Values en Python\n",
    "\n",
    "En Python, certaines valeurs sont considérées comme \"falsy\" lorsqu'elles sont évaluées dans un contexte booléen, tel qu'une condition `if`. Si une valeur est \"falsy\", cela signifie qu'elle sera considérée comme `False` dans un contexte booléen, sinon elle est considérée comme \"truthy\" et sera évaluée comme **`True`**.\n",
    "\n",
    "\n",
    "Exemples de valeurs Falsy:\n",
    "- **`None`**\n",
    "- **`False`**\n",
    "- **`0`** (zéro - pour tous les types numériques: int, float, complex)\n",
    "- **`\"\"`** (chaîne vide)\n",
    "- **`[]`** (liste vide)\n",
    "- **`{}`** (dictionnaire vide)\n",
    "- **`set()`** (ensemble vide)\n",
    "- **`()`** (tuple vide)\n",
    "- Et d'autres objets qui définissent leur méthode **`__bool__()`** ou **`__len__()`** pour renvoyer False ou 0 respectivement."
   ]
  },
  {
   "cell_type": "markdown",
   "metadata": {},
   "source": [
    "# Démonstration:"
   ]
  },
  {
   "cell_type": "code",
   "execution_count": 1,
   "metadata": {},
   "outputs": [
    {
     "name": "stdout",
     "output_type": "stream",
     "text": [
      "'None' est falsy\n",
      "'False' est falsy\n",
      "'0' est falsy\n",
      "'' est falsy\n",
      "'[]' est falsy\n",
      "'{}' est falsy\n",
      "'set()' est falsy\n",
      "'()' est falsy\n"
     ]
    }
   ],
   "source": [
    "falsy_values = [None, False, 0, \"\", [], {}, set(), ()]\n",
    "\n",
    "for value in falsy_values:\n",
    "    if value:\n",
    "        print(f\"'{value}' est truthy\")\n",
    "    else:\n",
    "        print(f\"'{value}' est falsy\")"
   ]
  },
  {
   "cell_type": "markdown",
   "metadata": {},
   "source": [
    "Attention, il y a des valeurs qu'on pourrait penser falsy mais qui ne le sont pas :"
   ]
  },
  {
   "cell_type": "code",
   "execution_count": 3,
   "metadata": {},
   "outputs": [
    {
     "name": "stdout",
     "output_type": "stream",
     "text": [
      "'None' est falsy\n",
      "'False' est falsy\n",
      "'0' est falsy\n",
      "'' est falsy\n",
      "'[]' est falsy\n",
      "'{}' est falsy\n",
      "'set()' est falsy\n",
      "'()' est falsy\n",
      "' ' est truthy\n",
      "'False' est truthy\n",
      "'10' est truthy\n",
      "'[False]' est truthy\n",
      "'{'': None}' est truthy\n",
      "'{None}' est truthy\n",
      "'(False,)' est truthy\n"
     ]
    }
   ],
   "source": [
    "falsy_values = [None, False, 0, \"\", [], {}, set(), ()]\n",
    "truthy_values = [\" \", \"False\", 10, [False], {\"\": None}, set([None]), (False,)]\n",
    "\n",
    "all_values = falsy_values + truthy_values\n",
    "\n",
    "for value in all_values:\n",
    "    if value:\n",
    "        print(f\"'{value}' est truthy\")\n",
    "    else:\n",
    "        print(f\"'{value}' est falsy\")"
   ]
  }
 ],
 "metadata": {
  "kernelspec": {
   "display_name": "venv",
   "language": "python",
   "name": "python3"
  },
  "language_info": {
   "codemirror_mode": {
    "name": "ipython",
    "version": 3
   },
   "file_extension": ".py",
   "mimetype": "text/x-python",
   "name": "python",
   "nbconvert_exporter": "python",
   "pygments_lexer": "ipython3",
   "version": "3.9.12"
  },
  "orig_nbformat": 4
 },
 "nbformat": 4,
 "nbformat_minor": 2
}
