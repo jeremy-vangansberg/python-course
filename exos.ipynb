{
 "cells": [
  {
   "cell_type": "code",
   "execution_count": 13,
   "metadata": {},
   "outputs": [
    {
     "name": "stdout",
     "output_type": "stream",
     "text": [
      "1 France 36.2\n"
     ]
    }
   ],
   "source": [
    "# Exo 1\n",
    "a = 1\n",
    "b = 'France'\n",
    "c = 36.2\n",
    "\n",
    "a, b, c = 1, \"France\", 36.2\n",
    "\n",
    "print(a,b,c)"
   ]
  },
  {
   "cell_type": "code",
   "execution_count": 3,
   "metadata": {},
   "outputs": [
    {
     "name": "stdout",
     "output_type": "stream",
     "text": [
      "ça va\n"
     ]
    }
   ],
   "source": [
    "# Exo 2\n",
    "ch = \"Salut\"\n",
    "ch = \"ça va\"\n",
    "print(ch)"
   ]
  },
  {
   "cell_type": "code",
   "execution_count": 7,
   "metadata": {},
   "outputs": [
    {
     "name": "stdout",
     "output_type": "stream",
     "text": [
      "<class 'str'>\n",
      "<class 'str'>\n"
     ]
    }
   ],
   "source": [
    "# Exo 3\n",
    "x = 3\n",
    "y = 8.5\n",
    "\n",
    "x = str(x)\n",
    "y = str(y)\n",
    "\n",
    "print(type(x))\n",
    "print(type(y))"
   ]
  },
  {
   "cell_type": "code",
   "execution_count": 14,
   "metadata": {},
   "outputs": [
    {
     "name": "stdout",
     "output_type": "stream",
     "text": [
      "Le poids de l'utilisateur est de : 95kg\n"
     ]
    }
   ],
   "source": [
    "# Exo 4\n",
    "poids = input(\"Quel est votre poids ?\")\n",
    "\n",
    "print(\"Le poids de l'utilisateur est de : \" + poids + \"kg\")"
   ]
  },
  {
   "cell_type": "code",
   "execution_count": 15,
   "metadata": {},
   "outputs": [
    {
     "name": "stdout",
     "output_type": "stream",
     "text": [
      "Chaîne de caractères\n"
     ]
    }
   ],
   "source": [
    "# Exo 5\n",
    "var = \"Bonjour\"\n",
    "\n",
    "if type(var) is int:\n",
    "    print(\"Entier\")\n",
    "elif type(var) is str:\n",
    "    print(\"Chaîne de caractères\")"
   ]
  },
  {
   "cell_type": "code",
   "execution_count": 16,
   "metadata": {},
   "outputs": [
    {
     "name": "stdout",
     "output_type": "stream",
     "text": [
      "Positive\n"
     ]
    }
   ],
   "source": [
    "# Exo 6\n",
    "d = 5\n",
    "\n",
    "if d > 0: \n",
    "    print(\"Positive\")\n",
    "\n",
    "else :\n",
    "    print(\"Négative\")"
   ]
  },
  {
   "cell_type": "code",
   "execution_count": 19,
   "metadata": {},
   "outputs": [
    {
     "name": "stdout",
     "output_type": "stream",
     "text": [
      "L'utilisateur est mineur\n"
     ]
    }
   ],
   "source": [
    "# Exo 7\n",
    "age = int(input(\"Quel âge avez-vous ?\"))\n",
    "\n",
    "if age >= 18 :\n",
    "    print(\"L'utilisateur est majeur\")\n",
    "else :\n",
    "    print(\"L'utilisateur est mineur\")"
   ]
  },
  {
   "cell_type": "code",
   "execution_count": 20,
   "metadata": {},
   "outputs": [
    {
     "name": "stdout",
     "output_type": "stream",
     "text": [
      "1\n",
      "2\n",
      "3\n",
      "4\n",
      "5\n",
      "6\n",
      "7\n",
      "8\n",
      "9\n",
      "10\n",
      "11\n",
      "12\n",
      "13\n",
      "14\n",
      "15\n",
      "16\n",
      "17\n",
      "18\n",
      "19\n",
      "20\n",
      "1\n",
      "2\n",
      "3\n",
      "4\n",
      "5\n",
      "6\n",
      "7\n",
      "8\n",
      "9\n",
      "10\n",
      "11\n",
      "12\n",
      "13\n",
      "14\n",
      "15\n",
      "16\n",
      "17\n",
      "18\n",
      "19\n",
      "20\n"
     ]
    }
   ],
   "source": [
    "# Exo 8\n",
    "for i in range(1,21):\n",
    "    print(i)\n",
    "\n",
    "i=1\n",
    "while i < 21 :\n",
    "    print(i)\n",
    "    i+=1"
   ]
  },
  {
   "cell_type": "code",
   "execution_count": 21,
   "metadata": {},
   "outputs": [
    {
     "name": "stdout",
     "output_type": "stream",
     "text": [
      "10\n",
      "12\n",
      "14\n",
      "16\n",
      "18\n",
      "20\n",
      "10\n",
      "12\n",
      "14\n",
      "16\n",
      "18\n",
      "20\n"
     ]
    }
   ],
   "source": [
    "# Exo 9\n",
    "for i in range(10, 21, 2):\n",
    "    print(i)\n",
    "\n",
    "i=10\n",
    "while i < 21 :\n",
    "    print(i)\n",
    "    i+=2"
   ]
  },
  {
   "cell_type": "code",
   "execution_count": 25,
   "metadata": {},
   "outputs": [
    {
     "data": {
      "text/plain": [
       "[1, 2, 3, 4, 5, 6, 7, 8, 9, 10]"
      ]
     },
     "execution_count": 25,
     "metadata": {},
     "output_type": "execute_result"
    }
   ],
   "source": [
    "# Exo 10\n",
    "\n",
    "[x for x in range(1,11)]"
   ]
  },
  {
   "cell_type": "code",
   "execution_count": 27,
   "metadata": {},
   "outputs": [
    {
     "data": {
      "text/plain": [
       "[0, 2, 4, 6, 8, 10]"
      ]
     },
     "execution_count": 27,
     "metadata": {},
     "output_type": "execute_result"
    }
   ],
   "source": [
    "# Exo 11\n",
    "[x for x in range(0,11,2)]"
   ]
  },
  {
   "cell_type": "code",
   "execution_count": 30,
   "metadata": {},
   "outputs": [
    {
     "data": {
      "text/plain": [
       "[1, 2, 2, 3, 4, 6, 8, 9, 12]"
      ]
     },
     "execution_count": 30,
     "metadata": {},
     "output_type": "execute_result"
    }
   ],
   "source": [
    "# Exo 12\n",
    "L = [6,8,3,4,1,12,2,9,2]\n",
    "L.sort()\n",
    "L"
   ]
  },
  {
   "cell_type": "code",
   "execution_count": 31,
   "metadata": {},
   "outputs": [
    {
     "data": {
      "text/plain": [
       "1"
      ]
     },
     "execution_count": 31,
     "metadata": {},
     "output_type": "execute_result"
    }
   ],
   "source": [
    "# Exo 13\n",
    "L = [6,8,3,4,1,12,2,9,2]\n",
    "L.count(1)\n"
   ]
  },
  {
   "cell_type": "code",
   "execution_count": 32,
   "metadata": {},
   "outputs": [
    {
     "name": "stdout",
     "output_type": "stream",
     "text": [
      "[10, 25, 30, 45, 90, 'ab', 'cd', 'ef']\n",
      "[10, 25, 30, 45, 90, 'ab', 'cd', 'ef']\n",
      "[10, 25, 30, 45, 90, 'ab', 'cd', 'ef']\n"
     ]
    }
   ],
   "source": [
    "# Exo 14\n",
    "L = []\n",
    "L.extend([10,25,30,45,90, \"ab\", \"cd\", \"ef\"])\n",
    "print(L)\n",
    "\n",
    "# ou\n",
    "L = []\n",
    "L += [10,25,30,45,90, \"ab\", \"cd\", \"ef\"]\n",
    "print(L)\n",
    "\n",
    "# ou\n",
    "L = []\n",
    "L_extend = [10,25,30,45,90, \"ab\", \"cd\", \"ef\"]\n",
    "for elem in L_extend:\n",
    "    L.append(elem)\n",
    "print(L)"
   ]
  },
  {
   "cell_type": "code",
   "execution_count": 52,
   "metadata": {},
   "outputs": [
    {
     "data": {
      "text/plain": [
       "[1, 4, 7, 10]"
      ]
     },
     "execution_count": 52,
     "metadata": {},
     "output_type": "execute_result"
    }
   ],
   "source": [
    "#Exo 15\n",
    "L = [x for x in range(1,11)]\n",
    "L1 =L[::3]\n",
    "L1"
   ]
  },
  {
   "cell_type": "code",
   "execution_count": 65,
   "metadata": {},
   "outputs": [
    {
     "data": {
      "text/plain": [
       "'acefnr'"
      ]
     },
     "execution_count": 65,
     "metadata": {},
     "output_type": "execute_result"
    }
   ],
   "source": [
    "# Exo 16\n",
    "c = 'france'\n",
    "c = list(c)\n",
    "c.sort()\n",
    "c = \"\".join(c)\n",
    "c\n",
    "\n",
    "# ----- #\n",
    "\n",
    "c = 'france'\n",
    "c = sorted(c)\n",
    "c = \"\".join(c)\n",
    "c"
   ]
  },
  {
   "cell_type": "code",
   "execution_count": 67,
   "metadata": {},
   "outputs": [
    {
     "name": "stdout",
     "output_type": "stream",
     "text": [
      "[9, 3, 'p', 'b']\n"
     ]
    }
   ],
   "source": [
    "# Exo 17\n",
    "L1 = [9, 8, 7, 14, 3, 2, \"a\", \"p\", \"bonjour\", \"b\"]\n",
    "L2 = [\"b\", 1, 9.2, 6, 3, 9, \"p\"]\n",
    "\n",
    "L3_set = set(L1) & set(L2)\n",
    "L3 = list(L3_set) \n",
    "print(L3)"
   ]
  },
  {
   "cell_type": "code",
   "execution_count": 83,
   "metadata": {},
   "outputs": [
    {
     "data": {
      "text/plain": [
       "[2, 8, 9, 12, 15]"
      ]
     },
     "execution_count": 83,
     "metadata": {},
     "output_type": "execute_result"
    }
   ],
   "source": [
    "list(map(lambda x : x[1], L))"
   ]
  },
  {
   "cell_type": "code",
   "execution_count": 87,
   "metadata": {},
   "outputs": [],
   "source": [
    "# 18\n",
    "\n",
    "L = [(\"Pomme\", 15), (\"Banane\", 8), (\"Fraise\", 12), (\"Kiwi\", 9), (\"Peche\", 2)]\n",
    "\n",
    "L.sort(key=lambda x : x[1])\n",
    "\n",
    "# ou\n",
    "\n",
    "L = [(\"Pomme\", 15), (\"Banane\", 8), (\"Fraise\", 12), (\"Kiwi\", 9), (\"Peche\", 2)]\n",
    "\n",
    "def sort_second_elem(elem):\n",
    "    return elem[1]\n",
    "\n",
    "L.sort(key=sort_second_elem)"
   ]
  },
  {
   "cell_type": "code",
   "execution_count": 89,
   "metadata": {},
   "outputs": [
    {
     "data": {
      "text/plain": [
       "'ednom el tuot ruojnoB'"
      ]
     },
     "execution_count": 89,
     "metadata": {},
     "output_type": "execute_result"
    }
   ],
   "source": [
    "# 19\n",
    "ch = \"Bonjour tout le monde\"\n",
    "\n",
    "ch[::-1]"
   ]
  },
  {
   "cell_type": "code",
   "execution_count": 90,
   "metadata": {},
   "outputs": [
    {
     "name": "stdout",
     "output_type": "stream",
     "text": [
      "3 7\n"
     ]
    }
   ],
   "source": [
    "# Exo 20 \n",
    "mydict = {\"Pomme\": 3,\n",
    "          \"Banane\": 7,\n",
    "          \"Kiwi\": 1}\n",
    "\n",
    "print(mydict[\"Pomme\"], mydict['Banane'])"
   ]
  },
  {
   "cell_type": "code",
   "execution_count": 91,
   "metadata": {},
   "outputs": [
    {
     "data": {
      "text/plain": [
       "34"
      ]
     },
     "execution_count": 91,
     "metadata": {},
     "output_type": "execute_result"
    }
   ],
   "source": [
    "# Exo 21\n",
    "mydict = {\"Pomme\": 15,\n",
    "          \"Banane\": 8,\n",
    "          \"Kiwi\": 9,\n",
    "          \"Peche\":2 }\n",
    "\n",
    "sum([x for x in mydict.values()])"
   ]
  },
  {
   "cell_type": "code",
   "execution_count": 102,
   "metadata": {},
   "outputs": [
    {
     "name": "stdout",
     "output_type": "stream",
     "text": [
      "187.63\n",
      "187.63\n"
     ]
    }
   ],
   "source": [
    "# Exo 22\n",
    "\n",
    "c = 187.632587\n",
    "\n",
    "\"{:.2f}\".format(c)\n",
    "\n",
    "# ---\n",
    "\n",
    "print(f\"{c:.2f}\")\n",
    "\n",
    "# ---\n",
    "\n",
    "print(f\"{187.632587:.2f}\")"
   ]
  },
  {
   "cell_type": "code",
   "execution_count": 105,
   "metadata": {},
   "outputs": [
    {
     "name": "stdout",
     "output_type": "stream",
     "text": [
      "Je m'appelle Julien et j'ai 32 ans, J'apprends le langage Python\n"
     ]
    }
   ],
   "source": [
    "# Exo 23\n",
    "monNom = \"Julien\"\n",
    "age = 32\n",
    "nomLangage = \"Python\"\n",
    "\n",
    "print(f\"Je m'appelle {monNom} et j'ai {age} ans, J'apprends le langage {nomLangage}\".format())\n"
   ]
  },
  {
   "cell_type": "code",
   "execution_count": 109,
   "metadata": {},
   "outputs": [
    {
     "name": "stdout",
     "output_type": "stream",
     "text": [
      "8 x 0 = 0\n",
      "8 x 1 = 8\n",
      "8 x 2 = 16\n",
      "8 x 3 = 24\n",
      "8 x 4 = 32\n",
      "8 x 5 = 40\n",
      "8 x 6 = 48\n",
      "8 x 7 = 56\n",
      "8 x 8 = 64\n",
      "8 x 9 = 72\n",
      "8 x 10 = 80\n"
     ]
    }
   ],
   "source": [
    "# Exo 24\n",
    "for i in range(11):\n",
    "    print(\"{} x {} = {}\".format(8, i, 8*i))"
   ]
  },
  {
   "cell_type": "code",
   "execution_count": null,
   "metadata": {},
   "outputs": [],
   "source": []
  }
 ],
 "metadata": {
  "kernelspec": {
   "display_name": "Python 3",
   "language": "python",
   "name": "python3"
  },
  "language_info": {
   "codemirror_mode": {
    "name": "ipython",
    "version": 3
   },
   "file_extension": ".py",
   "mimetype": "text/x-python",
   "name": "python",
   "nbconvert_exporter": "python",
   "pygments_lexer": "ipython3",
   "version": "3.10.12"
  },
  "orig_nbformat": 4
 },
 "nbformat": 4,
 "nbformat_minor": 2
}
