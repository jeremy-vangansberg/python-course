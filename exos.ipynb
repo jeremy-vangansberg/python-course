{
 "cells": [
  {
   "cell_type": "code",
   "execution_count": 13,
   "metadata": {},
   "outputs": [
    {
     "name": "stdout",
     "output_type": "stream",
     "text": [
      "1 France 36.2\n"
     ]
    }
   ],
   "source": [
    "# Exo 1\n",
    "a = 1\n",
    "b = 'France'\n",
    "c = 36.2\n",
    "\n",
    "a, b, c = 1, \"France\", 36.2\n",
    "\n",
    "print(a,b,c)"
   ]
  },
  {
   "cell_type": "code",
   "execution_count": 3,
   "metadata": {},
   "outputs": [
    {
     "name": "stdout",
     "output_type": "stream",
     "text": [
      "ça va\n"
     ]
    }
   ],
   "source": [
    "# Exo 2\n",
    "ch = \"Salut\"\n",
    "ch = \"ça va\"\n",
    "print(ch)"
   ]
  },
  {
   "cell_type": "code",
   "execution_count": 7,
   "metadata": {},
   "outputs": [
    {
     "name": "stdout",
     "output_type": "stream",
     "text": [
      "<class 'str'>\n",
      "<class 'str'>\n"
     ]
    }
   ],
   "source": [
    "# Exo 3\n",
    "x = 3\n",
    "y = 8.5\n",
    "\n",
    "x = str(x)\n",
    "y = str(y)\n",
    "\n",
    "print(type(x))\n",
    "print(type(y))"
   ]
  },
  {
   "cell_type": "code",
   "execution_count": 14,
   "metadata": {},
   "outputs": [
    {
     "name": "stdout",
     "output_type": "stream",
     "text": [
      "Le poids de l'utilisateur est de : 95kg\n"
     ]
    }
   ],
   "source": [
    "# Exo 4\n",
    "poids = input(\"Quel est votre poids ?\")\n",
    "\n",
    "print(\"Le poids de l'utilisateur est de : \" + poids + \"kg\")"
   ]
  },
  {
   "cell_type": "code",
   "execution_count": 15,
   "metadata": {},
   "outputs": [
    {
     "name": "stdout",
     "output_type": "stream",
     "text": [
      "Chaîne de caractères\n"
     ]
    }
   ],
   "source": [
    "# Exo 5\n",
    "var = \"Bonjour\"\n",
    "\n",
    "if type(var) is int:\n",
    "    print(\"Entier\")\n",
    "elif type(var) is str:\n",
    "    print(\"Chaîne de caractères\")"
   ]
  },
  {
   "cell_type": "code",
   "execution_count": 16,
   "metadata": {},
   "outputs": [
    {
     "name": "stdout",
     "output_type": "stream",
     "text": [
      "Positive\n"
     ]
    }
   ],
   "source": [
    "# Exo 6\n",
    "d = 5\n",
    "\n",
    "if d > 0: \n",
    "    print(\"Positive\")\n",
    "\n",
    "else :\n",
    "    print(\"Négative\")"
   ]
  },
  {
   "cell_type": "code",
   "execution_count": 19,
   "metadata": {},
   "outputs": [
    {
     "name": "stdout",
     "output_type": "stream",
     "text": [
      "L'utilisateur est mineur\n"
     ]
    }
   ],
   "source": [
    "# Exo 7\n",
    "age = int(input(\"Quel âge avez-vous ?\"))\n",
    "\n",
    "if age >= 18 :\n",
    "    print(\"L'utilisateur est majeur\")\n",
    "else :\n",
    "    print(\"L'utilisateur est mineur\")"
   ]
  },
  {
   "cell_type": "code",
   "execution_count": 20,
   "metadata": {},
   "outputs": [
    {
     "name": "stdout",
     "output_type": "stream",
     "text": [
      "1\n",
      "2\n",
      "3\n",
      "4\n",
      "5\n",
      "6\n",
      "7\n",
      "8\n",
      "9\n",
      "10\n",
      "11\n",
      "12\n",
      "13\n",
      "14\n",
      "15\n",
      "16\n",
      "17\n",
      "18\n",
      "19\n",
      "20\n",
      "1\n",
      "2\n",
      "3\n",
      "4\n",
      "5\n",
      "6\n",
      "7\n",
      "8\n",
      "9\n",
      "10\n",
      "11\n",
      "12\n",
      "13\n",
      "14\n",
      "15\n",
      "16\n",
      "17\n",
      "18\n",
      "19\n",
      "20\n"
     ]
    }
   ],
   "source": [
    "# Exo 8\n",
    "for i in range(1,21):\n",
    "    print(i)\n",
    "\n",
    "i=1\n",
    "while i < 21 :\n",
    "    print(i)\n",
    "    i+=1"
   ]
  },
  {
   "cell_type": "code",
   "execution_count": 112,
   "metadata": {},
   "outputs": [
    {
     "name": "stdout",
     "output_type": "stream",
     "text": [
      "11\n",
      "13\n",
      "15\n",
      "17\n",
      "19\n"
     ]
    }
   ],
   "source": [
    "# # Exo 9\n",
    "# for i in range(11, 20, 2):\n",
    "#     print(i)\n",
    "\n",
    "i=11\n",
    "while i < 21 :\n",
    "    print(i)\n",
    "    i+=2"
   ]
  },
  {
   "cell_type": "code",
   "execution_count": 25,
   "metadata": {},
   "outputs": [
    {
     "data": {
      "text/plain": [
       "[1, 2, 3, 4, 5, 6, 7, 8, 9, 10]"
      ]
     },
     "execution_count": 25,
     "metadata": {},
     "output_type": "execute_result"
    }
   ],
   "source": [
    "# Exo 10\n",
    "\n",
    "[x for x in range(1,11)]"
   ]
  },
  {
   "cell_type": "code",
   "execution_count": 27,
   "metadata": {},
   "outputs": [
    {
     "data": {
      "text/plain": [
       "[0, 2, 4, 6, 8, 10]"
      ]
     },
     "execution_count": 27,
     "metadata": {},
     "output_type": "execute_result"
    }
   ],
   "source": [
    "# Exo 11\n",
    "[x for x in range(0,11,2)]\n",
    "\n",
    "# -- \n",
    "list(range(0,11,2))\n",
    "\n",
    "# --\n",
    "[x for x in range(0,11) if x % 2 == 0]"
   ]
  },
  {
   "cell_type": "code",
   "execution_count": 30,
   "metadata": {},
   "outputs": [
    {
     "data": {
      "text/plain": [
       "[1, 2, 2, 3, 4, 6, 8, 9, 12]"
      ]
     },
     "execution_count": 30,
     "metadata": {},
     "output_type": "execute_result"
    }
   ],
   "source": [
    "# Exo 12\n",
    "L = [6,8,3,4,1,12,2,9,2]\n",
    "L.sort()\n",
    "L"
   ]
  },
  {
   "cell_type": "code",
   "execution_count": 31,
   "metadata": {},
   "outputs": [
    {
     "data": {
      "text/plain": [
       "1"
      ]
     },
     "execution_count": 31,
     "metadata": {},
     "output_type": "execute_result"
    }
   ],
   "source": [
    "# Exo 13\n",
    "L = [6,8,3,4,1,12,2,9,2]\n",
    "L.count(1)\n"
   ]
  },
  {
   "cell_type": "code",
   "execution_count": 32,
   "metadata": {},
   "outputs": [
    {
     "name": "stdout",
     "output_type": "stream",
     "text": [
      "[10, 25, 30, 45, 90, 'ab', 'cd', 'ef']\n",
      "[10, 25, 30, 45, 90, 'ab', 'cd', 'ef']\n",
      "[10, 25, 30, 45, 90, 'ab', 'cd', 'ef']\n"
     ]
    }
   ],
   "source": [
    "# Exo 14\n",
    "L = []\n",
    "L.extend([10,25,30,45,90, \"ab\", \"cd\", \"ef\"])\n",
    "print(L)\n",
    "\n",
    "# ou\n",
    "L = []\n",
    "L += [10,25,30,45,90, \"ab\", \"cd\", \"ef\"]\n",
    "print(L)\n",
    "\n",
    "# ou\n",
    "L = []\n",
    "L_extend = [10,25,30,45,90, \"ab\", \"cd\", \"ef\"]\n",
    "for elem in L_extend:\n",
    "    L.append(elem)\n",
    "print(L)"
   ]
  },
  {
   "cell_type": "code",
   "execution_count": 324,
   "metadata": {},
   "outputs": [
    {
     "data": {
      "text/plain": [
       "[1, 4, 7, 10]"
      ]
     },
     "execution_count": 324,
     "metadata": {},
     "output_type": "execute_result"
    }
   ],
   "source": [
    "#Exo 15\n",
    "L = [x for x in range(1,11)]\n",
    "L1 = L[::3]\n",
    "L1"
   ]
  },
  {
   "cell_type": "code",
   "execution_count": 65,
   "metadata": {},
   "outputs": [
    {
     "data": {
      "text/plain": [
       "'acefnr'"
      ]
     },
     "execution_count": 65,
     "metadata": {},
     "output_type": "execute_result"
    }
   ],
   "source": [
    "# Exo 16\n",
    "c = 'france'\n",
    "c = list(c)\n",
    "c.sort()\n",
    "c = \"\".join(c)\n",
    "c\n",
    "\n",
    "# ----- #\n",
    "\n",
    "c = 'france'\n",
    "c = sorted(c)\n",
    "c = \"\".join(c)\n",
    "c"
   ]
  },
  {
   "cell_type": "code",
   "execution_count": 67,
   "metadata": {},
   "outputs": [
    {
     "name": "stdout",
     "output_type": "stream",
     "text": [
      "[9, 3, 'p', 'b']\n"
     ]
    }
   ],
   "source": [
    "# Exo 17\n",
    "L1 = [9, 8, 7, 14, 3, 2, \"a\", \"p\", \"bonjour\", \"b\"]\n",
    "L2 = [\"b\", 1, 9.2, 6, 3, 9, \"p\"]\n",
    "\n",
    "L3_set = set(L1) & set(L2)\n",
    "L3 = list(L3_set) \n",
    "print(L3)"
   ]
  },
  {
   "cell_type": "code",
   "execution_count": 83,
   "metadata": {},
   "outputs": [
    {
     "data": {
      "text/plain": [
       "[2, 8, 9, 12, 15]"
      ]
     },
     "execution_count": 83,
     "metadata": {},
     "output_type": "execute_result"
    }
   ],
   "source": [
    "list(map(lambda x : x[1], L))"
   ]
  },
  {
   "cell_type": "code",
   "execution_count": 87,
   "metadata": {},
   "outputs": [],
   "source": [
    "# 18\n",
    "\n",
    "L = [(\"Pomme\", 15), (\"Banane\", 8), (\"Fraise\", 12), (\"Kiwi\", 9), (\"Peche\", 2)]\n",
    "\n",
    "L.sort(key=lambda x : x[1])\n",
    "\n",
    "# ou\n",
    "\n",
    "L = [(\"Pomme\", 15), (\"Banane\", 8), (\"Fraise\", 12), (\"Kiwi\", 9), (\"Peche\", 2)]\n",
    "\n",
    "def sort_second_elem(elem):\n",
    "    return elem[1]\n",
    "\n",
    "L.sort(key=sort_second_elem)"
   ]
  },
  {
   "cell_type": "code",
   "execution_count": 89,
   "metadata": {},
   "outputs": [
    {
     "data": {
      "text/plain": [
       "'ednom el tuot ruojnoB'"
      ]
     },
     "execution_count": 89,
     "metadata": {},
     "output_type": "execute_result"
    }
   ],
   "source": [
    "# 19\n",
    "ch = \"Bonjour tout le monde\"\n",
    "\n",
    "ch[::-1]"
   ]
  },
  {
   "cell_type": "code",
   "execution_count": 90,
   "metadata": {},
   "outputs": [
    {
     "name": "stdout",
     "output_type": "stream",
     "text": [
      "3 7\n"
     ]
    }
   ],
   "source": [
    "# Exo 20 \n",
    "mydict = {\"Pomme\": 3,\n",
    "          \"Banane\": 7,\n",
    "          \"Kiwi\": 1}\n",
    "\n",
    "print(mydict[\"Pomme\"], mydict['Banane'])"
   ]
  },
  {
   "cell_type": "code",
   "execution_count": 91,
   "metadata": {},
   "outputs": [
    {
     "data": {
      "text/plain": [
       "34"
      ]
     },
     "execution_count": 91,
     "metadata": {},
     "output_type": "execute_result"
    }
   ],
   "source": [
    "# Exo 21\n",
    "mydict = {\"Pomme\": 15,\n",
    "          \"Banane\": 8,\n",
    "          \"Kiwi\": 9,\n",
    "          \"Peche\":2 }\n",
    "\n",
    "sum([x for x in mydict.values()])"
   ]
  },
  {
   "cell_type": "code",
   "execution_count": 102,
   "metadata": {},
   "outputs": [
    {
     "name": "stdout",
     "output_type": "stream",
     "text": [
      "187.63\n",
      "187.63\n"
     ]
    }
   ],
   "source": [
    "# Exo 22\n",
    "\n",
    "c = 187.632587\n",
    "\n",
    "\"{:.2f}\".format(c)\n",
    "\n",
    "# ---\n",
    "\n",
    "print(f\"{c:.2f}\")\n",
    "\n",
    "# ---\n",
    "\n",
    "print(f\"{187.632587:.2f}\")"
   ]
  },
  {
   "cell_type": "code",
   "execution_count": 105,
   "metadata": {},
   "outputs": [
    {
     "name": "stdout",
     "output_type": "stream",
     "text": [
      "Je m'appelle Julien et j'ai 32 ans, J'apprends le langage Python\n"
     ]
    }
   ],
   "source": [
    "# Exo 23\n",
    "monNom = \"Julien\"\n",
    "age = 32\n",
    "nomLangage = \"Python\"\n",
    "\n",
    "print(f\"Je m'appelle {monNom} et j'ai {age} ans, J'apprends le langage {nomLangage}\".format())\n"
   ]
  },
  {
   "cell_type": "code",
   "execution_count": 109,
   "metadata": {},
   "outputs": [
    {
     "name": "stdout",
     "output_type": "stream",
     "text": [
      "8 x 0 = 0\n",
      "8 x 1 = 8\n",
      "8 x 2 = 16\n",
      "8 x 3 = 24\n",
      "8 x 4 = 32\n",
      "8 x 5 = 40\n",
      "8 x 6 = 48\n",
      "8 x 7 = 56\n",
      "8 x 8 = 64\n",
      "8 x 9 = 72\n",
      "8 x 10 = 80\n"
     ]
    }
   ],
   "source": [
    "# Exo 24\n",
    "for i in range(11):\n",
    "    print(\"{} x {} = {}\".format(8, i, 8*i))"
   ]
  },
  {
   "cell_type": "code",
   "execution_count": 2,
   "metadata": {},
   "outputs": [
    {
     "name": "stdout",
     "output_type": "stream",
     "text": [
      "/Users/jeremyvangansbeg/Documents/project/intro_python/python-course\n"
     ]
    }
   ],
   "source": [
    "# Exo 25\n",
    "import os\n",
    "\n",
    "print(os.getcwd())"
   ]
  },
  {
   "cell_type": "code",
   "execution_count": 5,
   "metadata": {},
   "outputs": [
    {
     "name": "stdout",
     "output_type": "stream",
     "text": [
      "[2, 3, 4, 5]\n"
     ]
    }
   ],
   "source": [
    "# Exo 26\n",
    "L = [1,2,3,4,5]\n",
    "\n",
    "L.remove(1)\n",
    "\n",
    "print(L)"
   ]
  },
  {
   "cell_type": "code",
   "execution_count": 6,
   "metadata": {},
   "outputs": [
    {
     "name": "stdout",
     "output_type": "stream",
     "text": [
      "('my_file', '.txt')\n",
      "File Name:  my_file\n",
      "File Extension:  .txt\n"
     ]
    }
   ],
   "source": [
    "# Exo 27\n",
    "import os\n",
    " \n",
    "# this will return a tuple of root and extension\n",
    "split_tup = os.path.splitext('my_file.txt')\n",
    "print(split_tup)\n",
    " \n",
    "# extract the file name and extension\n",
    "file_name = split_tup[0]\n",
    "file_extension = split_tup[1]\n",
    " \n",
    "print(\"File Name: \", file_name)\n",
    "print(\"File Extension: \", file_extension)"
   ]
  },
  {
   "cell_type": "code",
   "execution_count": 13,
   "metadata": {},
   "outputs": [
    {
     "name": "stdout",
     "output_type": "stream",
     "text": [
      "8 x 0 = 0\n",
      "8 x 1 = 8\n",
      "8 x 2 = 16\n",
      "8 x 3 = 24\n",
      "8 x 4 = 32\n",
      "8 x 5 = 40\n",
      "8 x 6 = 48\n",
      "8 x 7 = 56\n",
      "8 x 8 = 64\n",
      "8 x 9 = 72\n",
      "8 x 10 = 80\n",
      "Temps d'execution du programme (secondes) : 6.198883056640625e-05\n"
     ]
    }
   ],
   "source": [
    "# Exo 28\n",
    "import time\n",
    "\n",
    "start_time = time.time()\n",
    "\n",
    "for i in range(11):\n",
    "    print(\"{} x {} = {}\".format(8, i, 8*i))\n",
    "\n",
    "execution_time = time.time() - start_time\n",
    "\n",
    "print(\"Temps d'execution du programme (secondes) :\", execution_time)"
   ]
  },
  {
   "cell_type": "code",
   "execution_count": 16,
   "metadata": {},
   "outputs": [
    {
     "name": "stdout",
     "output_type": "stream",
     "text": [
      "['d', 8, 3, 'ch', 6, 2, 's', 7]\n"
     ]
    }
   ],
   "source": [
    "# Exo 29\n",
    "import random\n",
    "\n",
    "L = [3,6,8,7,2, \"s\", \"ch\", \"d\"]\n",
    "\n",
    "random.shuffle(L)\n",
    "\n",
    "print(L)"
   ]
  },
  {
   "cell_type": "code",
   "execution_count": 24,
   "metadata": {},
   "outputs": [
    {
     "name": "stdout",
     "output_type": "stream",
     "text": [
      "30\n"
     ]
    }
   ],
   "source": [
    "# Exo 30\n",
    "import random\n",
    "\n",
    "print(random.randint(20,30))"
   ]
  },
  {
   "cell_type": "code",
   "execution_count": 29,
   "metadata": {},
   "outputs": [
    {
     "name": "stdout",
     "output_type": "stream",
     "text": [
      "5 6 7 8 9 10 11 12 13 14 15 16 17 18 19 20\n",
      "5 6 7 8 9 10 11 12 13 14 15 16 17 18 19 20\n",
      "5 6 7 8 9 10 11 12 13 14 15 16 17 18 19 20\n",
      "5 6 7 8 9 10 11 12 13 14 15 16 17 18 19 20\n",
      "5 6 7 8 9 10 11 12 13 14 15 16 17 18 19 20\n",
      "5 6 7 8 9 10 11 12 13 14 15 16 17 18 19 20\n",
      "5 6 7 8 9 10 11 12 13 14 15 16 17 18 19 20\n",
      "5 6 7 8 9 10 11 12 13 14 15 16 17 18 19 20\n"
     ]
    }
   ],
   "source": [
    "# Exo 31\n",
    "for j in range(8) :\n",
    "    print(*[i for i in range(5,21)]) "
   ]
  },
  {
   "cell_type": "code",
   "execution_count": 35,
   "metadata": {},
   "outputs": [
    {
     "name": "stdout",
     "output_type": "stream",
     "text": [
      "[3, 6, 9, 12, 15, 18, 21, 24]\n",
      "[1, 2, 3, 4, 5, 6, 7, 8]\n"
     ]
    }
   ],
   "source": [
    "# Exo 32\n",
    "L = [i for i in range(3,25,3)]\n",
    "print(L)\n",
    "L1 = [int(i/3) for i in range(3,25,3)]\n",
    "print(L1)"
   ]
  },
  {
   "cell_type": "code",
   "execution_count": 37,
   "metadata": {},
   "outputs": [
    {
     "name": "stdout",
     "output_type": "stream",
     "text": [
      "[5, 2, 8]\n"
     ]
    }
   ],
   "source": [
    "# Exo 33\n",
    "L= [-6, 5, -3, -1, 2, 8, -3.6]\n",
    "\n",
    "L1 = [i for i in L if i > 0 ]\n",
    "print(L1)"
   ]
  },
  {
   "cell_type": "code",
   "execution_count": 39,
   "metadata": {},
   "outputs": [
    {
     "name": "stdout",
     "output_type": "stream",
     "text": [
      "9\n",
      "2\n"
     ]
    }
   ],
   "source": [
    "# Exo 34\n",
    "def f(a,b,x):\n",
    "    return a*(x**3) + 2*a*(x**2) +b\n",
    "\n",
    "print(f(3,0,1))\n",
    "print(f(0,2,2))"
   ]
  },
  {
   "cell_type": "code",
   "execution_count": 42,
   "metadata": {},
   "outputs": [
    {
     "name": "stdout",
     "output_type": "stream",
     "text": [
      "True\n",
      "False\n"
     ]
    }
   ],
   "source": [
    "# Exo 35\n",
    "def verif_presence(a,L):\n",
    "    if a in L :\n",
    "        return True\n",
    "    else:\n",
    "        return False\n",
    "    \n",
    "print(verif_presence(2, list(range(7))))\n",
    "print(verif_presence(-1, [3,6,9,7,\"abcr\"]))\n"
   ]
  },
  {
   "cell_type": "code",
   "execution_count": 43,
   "metadata": {},
   "outputs": [
    {
     "name": "stdout",
     "output_type": "stream",
     "text": [
      "14\n",
      "12\n"
     ]
    }
   ],
   "source": [
    "# Exo 36\n",
    "def somme_des_chiffres(num):\n",
    "    str_num = str(num)\n",
    "    return sum([int(chiffre) for chiffre in str_num])\n",
    "    \n",
    "print(somme_des_chiffres(149))\n",
    "print(somme_des_chiffres(3018))\n"
   ]
  },
  {
   "cell_type": "code",
   "execution_count": 46,
   "metadata": {},
   "outputs": [
    {
     "name": "stdout",
     "output_type": "stream",
     "text": [
      "24\n",
      "1\n"
     ]
    }
   ],
   "source": [
    "# Exo 37\n",
    "def calcul_somme(L):\n",
    "    \n",
    "    return sum(L)\n",
    "    \n",
    "print(calcul_somme([3,2,6,9,-1,5]))\n",
    "print(calcul_somme([-3, -6,0,1,2,7]))"
   ]
  },
  {
   "cell_type": "code",
   "execution_count": 49,
   "metadata": {},
   "outputs": [
    {
     "name": "stdout",
     "output_type": "stream",
     "text": [
      "[-1, 0, 1, 3, 5, 7]\n",
      "[-3, 0, 1, 3.2, 5, 9, 10]\n"
     ]
    }
   ],
   "source": [
    "# Exo 38\n",
    "def supprimer_doublons(L):\n",
    "    L_cleaned = list(set(L))\n",
    "    L_cleaned.sort()\n",
    "    return L_cleaned\n",
    "    \n",
    "print(supprimer_doublons([0,3,5,7,3,5,1,-1]))\n",
    "print(supprimer_doublons([0,5,9,10,3.2,1,-3]))"
   ]
  },
  {
   "cell_type": "code",
   "execution_count": 53,
   "metadata": {},
   "outputs": [
    {
     "name": "stdout",
     "output_type": "stream",
     "text": [
      "{'julien': 14, 'laurent': 31, 'baptiste': 29}\n",
      "{'poids': 65.3}\n"
     ]
    }
   ],
   "source": [
    "# Exo 39\n",
    "def ajout_element_dict(cle, valeur,d):\n",
    "    d[cle] = valeur\n",
    "    return d\n",
    "print(ajout_element_dict(\"baptiste\", 29, {\"julien\" :14, \"laurent\"\n",
    "                   :31}))\n",
    "print(ajout_element_dict(\"poids\", 65.3, {}))"
   ]
  },
  {
   "cell_type": "code",
   "execution_count": 57,
   "metadata": {},
   "outputs": [
    {
     "name": "stdout",
     "output_type": "stream",
     "text": [
      "8\n",
      "7\n",
      "8\n",
      "7\n"
     ]
    }
   ],
   "source": [
    "# Exo 40\n",
    "def maximum(L):\n",
    "    L.sort()\n",
    "    return L[-1]\n",
    "print(maximum([-9,2,4,1,8]))\n",
    "print(maximum([-3,1,7,6,2,3]))\n",
    "\n",
    "# ---\n",
    "def maximum(L):\n",
    "    maximum = L[0]\n",
    "    for value in L :\n",
    "        if value > maximum :\n",
    "            maximum = value\n",
    "    return maximum\n",
    "print(maximum([-9,2,4,1,8]))\n",
    "print(maximum([-3,1,7,6,2,3]))"
   ]
  },
  {
   "cell_type": "code",
   "execution_count": 61,
   "metadata": {},
   "outputs": [
    {
     "name": "stdout",
     "output_type": "stream",
     "text": [
      "46\n",
      "12\n"
     ]
    }
   ],
   "source": [
    "# Exo 41\n",
    "def somme_sous_liste(L,i,j):\n",
    "    L = L[i:j+1]\n",
    "    return sum(L)\n",
    "print(somme_sous_liste([4,10,12,16,18], 2, 4))\n",
    "print(somme_sous_liste(list((range(2,13,2))), 0, 2))"
   ]
  },
  {
   "cell_type": "code",
   "execution_count": 69,
   "metadata": {},
   "outputs": [
    {
     "name": "stdout",
     "output_type": "stream",
     "text": [
      "*\n",
      "**\n",
      "****\n",
      "******\n",
      "********\n",
      "**********\n",
      "\n",
      "*\n",
      "**\n",
      "****\n",
      "******\n",
      "********\n",
      "**********\n"
     ]
    }
   ],
   "source": [
    "# Exo 42\n",
    "print(\"*\") \n",
    "for i in range(2,11,2):\n",
    "    print(\"*\" * i) \n",
    "\n",
    "\n",
    "for i in range(0,11):\n",
    "    if i % 2 == 0 or i == 1:\n",
    "        print(\"*\" * i) "
   ]
  },
  {
   "cell_type": "code",
   "execution_count": 73,
   "metadata": {},
   "outputs": [
    {
     "name": "stdout",
     "output_type": "stream",
     "text": [
      "-9\n",
      "-3\n"
     ]
    }
   ],
   "source": [
    "# Exo 43\n",
    "def minimum(L):\n",
    "    minimum = L[0]\n",
    "    for value in L:\n",
    "        if value < minimum :\n",
    "            minimum = value\n",
    "    return minimum\n",
    "\n",
    "print(minimum([-9,2,4,1,8]))\n",
    "print(minimum([-3,1,7,6,2,3]))"
   ]
  },
  {
   "cell_type": "code",
   "execution_count": 76,
   "metadata": {},
   "outputs": [
    {
     "name": "stdout",
     "output_type": "stream",
     "text": [
      "6\n",
      "0\n"
     ]
    }
   ],
   "source": [
    "# Exo 44\n",
    "def longueur(L):\n",
    "    i = 0\n",
    "    for v in L:\n",
    "        i+=1\n",
    "    return i\n",
    "\n",
    "print(longueur([3,6,7,\"abde\", [1,3,57], True]))\n",
    "print(longueur([]))\n"
   ]
  },
  {
   "cell_type": "code",
   "execution_count": 81,
   "metadata": {},
   "outputs": [
    {
     "name": "stdout",
     "output_type": "stream",
     "text": [
      "4.0\n",
      "5.571428571428571\n",
      "4.0\n",
      "5.571428571428571\n"
     ]
    }
   ],
   "source": [
    "# Exo 45\n",
    "def moyenne_liste(L):\n",
    "    return sum(L) / len(L)\n",
    "\n",
    "print(moyenne_liste(list(range(1,8))))\n",
    "print(moyenne_liste([3,0,-1,5,6,9,17]))\n",
    "\n",
    "#---\n",
    "def moyenne_liste(L):\n",
    "    total = 0\n",
    "    i = 0\n",
    "    for value in L :\n",
    "        total += value\n",
    "        i+=1\n",
    "    if i ==0:\n",
    "        return 0\n",
    "    return total / i\n",
    "\n",
    "print(moyenne_liste(list(range(1,8))))\n",
    "print(moyenne_liste([3,0,-1,5,6,9,17]))\n"
   ]
  },
  {
   "cell_type": "code",
   "execution_count": 101,
   "metadata": {},
   "outputs": [
    {
     "name": "stdout",
     "output_type": "stream",
     "text": [
      "[1, 3]\n",
      "[1, 3, 9]\n"
     ]
    }
   ],
   "source": [
    "# Exo 46\n",
    "def diviseur(n):\n",
    "    return [x for x in range(1, n+1) if n%x == 0]\n",
    "\n",
    "print(diviseur(3))\n",
    "print(diviseur(9))"
   ]
  },
  {
   "cell_type": "code",
   "execution_count": 105,
   "metadata": {},
   "outputs": [
    {
     "name": "stdout",
     "output_type": "stream",
     "text": [
      "True\n",
      "False\n"
     ]
    }
   ],
   "source": [
    "# Exo 47\n",
    "def verif_maj(phrase):\n",
    "    for letter in phrase :\n",
    "        if letter.isupper():\n",
    "            return True\n",
    "        else:\n",
    "            return False\n",
    "\n",
    "print(verif_maj(\"Les légumes sont bons pour la santé\"))\n",
    "print(verif_maj(\"j'apprends le langage python\"))"
   ]
  },
  {
   "cell_type": "code",
   "execution_count": 109,
   "metadata": {},
   "outputs": [
    {
     "name": "stdout",
     "output_type": "stream",
     "text": [
      "[0, 9, 8, 2, 6, 9, True, False, 'abc']\n",
      "[[39, -1], 3, -9, 'xz', 'France']\n"
     ]
    }
   ],
   "source": [
    "# Exo 48\n",
    "def concat_liste(L1,L2,L3):\n",
    "    L1 += L2\n",
    "    L1 += L3\n",
    "    return L1\n",
    "\n",
    "print(concat_liste([0,9,8],[2,6,9],[True,False,\"abc\"]))\n",
    "print(concat_liste([[38,-1], 3, -9],[\"xz\",\"France\"],[]))"
   ]
  },
  {
   "cell_type": "code",
   "execution_count": 111,
   "metadata": {},
   "outputs": [
    {
     "name": "stdout",
     "output_type": "stream",
     "text": [
      "6\n",
      "4\n"
     ]
    }
   ],
   "source": [
    "# Exo 49\n",
    "def nbr_valeur_dict(d):\n",
    "    compteur = 0\n",
    "    for values in d.values():\n",
    "        compteur += len(values)\n",
    "\n",
    "    return compteur\n",
    "\n",
    "\n",
    "print(nbr_valeur_dict({'a':[1,2,3], 'b' :[3,'p'], \"c\":[8]}))\n",
    "print(nbr_valeur_dict({'Julie':[12, 60.1], 'Fred' :[26, 75.6], \"David\":[]}))"
   ]
  },
  {
   "cell_type": "code",
   "execution_count": 113,
   "metadata": {},
   "outputs": [],
   "source": [
    "d1 = {\"test1\":\"value1\"}\n",
    "d2 = {\"test2\":\"value2\"}\n",
    "\n",
    "for k,v in d2.items():\n",
    "    d1[k] =v"
   ]
  },
  {
   "cell_type": "code",
   "execution_count": 115,
   "metadata": {},
   "outputs": [
    {
     "name": "stdout",
     "output_type": "stream",
     "text": [
      "{'a': 3, 'b': 6, 'c': 2, 'd': -1}\n",
      "{'d': [2.9, 4.1], 'p': []}\n"
     ]
    }
   ],
   "source": [
    "# Exo 50\n",
    "def concat_dict(d1,d2):\n",
    "    for k,v in d2.items():\n",
    "        d1[k] =v\n",
    "\n",
    "    return d1\n",
    "\n",
    "print(concat_dict({\"a\":3, \"b\":6},{\"c\":2, \"d\":-1}))\n",
    "print(concat_dict({\"d\":[2.9,4.1]}, {'p':[]}))"
   ]
  },
  {
   "cell_type": "code",
   "execution_count": 120,
   "metadata": {},
   "outputs": [
    {
     "name": "stdout",
     "output_type": "stream",
     "text": [
      "6\n",
      "362880\n",
      "1\n"
     ]
    }
   ],
   "source": [
    "# Exo 51\n",
    "def calcul_factoriel(n):\n",
    "    total = 1\n",
    "    for i in range(1, n+1) :\n",
    "        total *= i\n",
    "    return total\n",
    "\n",
    "\n",
    "print(calcul_factoriel(3))\n",
    "print(calcul_factoriel(9))\n",
    "print(calcul_factoriel(0))"
   ]
  },
  {
   "cell_type": "code",
   "execution_count": 126,
   "metadata": {},
   "outputs": [
    {
     "name": "stdout",
     "output_type": "stream",
     "text": [
      "[5, 15, 25, 35, 45, 55, 65, 75, 85, 95]\n",
      "[11, 22, 44, 55, 77]\n"
     ]
    }
   ],
   "source": [
    "# Exo 52\n",
    "def diviseur_mult(n,a,nbr_seuil):\n",
    "    result_list = []\n",
    "    for i in range(1,nbr_seuil) :\n",
    "        if i%n ==0 and i%a !=0:\n",
    "            result_list.append(i)\n",
    "\n",
    "    return result_list\n",
    "\n",
    "\n",
    "print(diviseur_mult(5,2,100))\n",
    "print(diviseur_mult(11,3,85))"
   ]
  },
  {
   "cell_type": "code",
   "execution_count": 137,
   "metadata": {},
   "outputs": [
    {
     "name": "stdout",
     "output_type": "stream",
     "text": [
      "True\n",
      "False\n"
     ]
    }
   ],
   "source": [
    "# Exo 53\n",
    "def presence_voyelle(phrase):\n",
    "    voyelles = [\"a\", \"e\", \"i\", \"o\", \"u\", \"y\"]\n",
    "\n",
    "    test = [True for x in phrase if x in voyelles]\n",
    "\n",
    "    return any(test)\n",
    "\n",
    "print(presence_voyelle(\"Je vais prendre ma douche\"))\n",
    "print(presence_voyelle(\"rbhpm\"))"
   ]
  },
  {
   "cell_type": "code",
   "execution_count": 141,
   "metadata": {},
   "outputs": [
    {
     "name": "stdout",
     "output_type": "stream",
     "text": [
      "LaFranceestbelle!\n",
      "Jevaisprendremonvélo\n"
     ]
    }
   ],
   "source": [
    "# Exo 54\n",
    "def suppr_espace(phrase):\n",
    "    phrase = phrase.replace(\" \", \"\")\n",
    "    return phrase\n",
    "\n",
    "print(suppr_espace(\"La France est belle !\"))\n",
    "print(suppr_espace(\"Je vais prendre mon vélo\"))"
   ]
  },
  {
   "cell_type": "code",
   "execution_count": 156,
   "metadata": {},
   "outputs": [
    {
     "name": "stdout",
     "output_type": "stream",
     "text": [
      "[2, 6]\n",
      "L'élément -1 ne se trouve pas dans la liste [6, 8, 9, 1, 3, 7]\n",
      "None\n"
     ]
    }
   ],
   "source": [
    "# Exo 55\n",
    "def position_elt_liste(L,x) :\n",
    "    indices = []\n",
    "    for i in range(len(L)):\n",
    "        if L[i] == x :\n",
    "            indices.append(i)\n",
    "    if len(indices) :\n",
    "        return indices\n",
    "    else :\n",
    "        return print(f\"L'élément {x} ne se trouve pas dans la liste {L}\")\n",
    "\n",
    "    \n",
    "print(position_elt_liste([1,2,3,6,8,7,3],3))\n",
    "print(position_elt_liste([6,8,9,1,3,7],-1))"
   ]
  },
  {
   "cell_type": "code",
   "execution_count": 159,
   "metadata": {},
   "outputs": [
    {
     "name": "stdout",
     "output_type": "stream",
     "text": [
      "Salut\n",
      "origine\n"
     ]
    }
   ],
   "source": [
    "# Exo 56\n",
    "def filtrer_mots(phrase, longueur_mini) :\n",
    "    liste_de_mots = phrase.split(\" \")\n",
    "    liste_de_mots_sup_longueur_mini = [word for word in liste_de_mots if len(word) > longueur_mini ]\n",
    "    return \" \".join(liste_de_mots_sup_longueur_mini)\n",
    "\n",
    "\n",
    "    \n",
    "print(filtrer_mots(\"Salut toi\",4))\n",
    "print(filtrer_mots(\"Quel est ton origine ?\",5))"
   ]
  },
  {
   "cell_type": "code",
   "execution_count": 161,
   "metadata": {},
   "outputs": [
    {
     "name": "stdout",
     "output_type": "stream",
     "text": [
      "monde le tout bonjour\n",
      "Pomme\n"
     ]
    }
   ],
   "source": [
    "# Exo 57\n",
    "def inverser_phrase(phrase) :\n",
    "    liste_de_mots = phrase.split(\" \")\n",
    "    liste_de_mots_inversee = liste_de_mots[::-1]\n",
    "    return \" \".join(liste_de_mots_inversee)\n",
    "\n",
    "\n",
    "    \n",
    "print(inverser_phrase(\"bonjour tout le monde\"))\n",
    "print(inverser_phrase(\"Pomme\"))"
   ]
  },
  {
   "cell_type": "code",
   "execution_count": 167,
   "metadata": {},
   "outputs": [
    {
     "name": "stdout",
     "output_type": "stream",
     "text": [
      "[(1, 2), (-4, 1), (2, 2), (-3, 2), (8, 2), (9, 1)]\n",
      "[(3, 2), (4, 1), ('b', 1), ('a', 2)]\n",
      "[(-4, 1), (8, 2), (-3, 2), (2, 2), (1, 2), (9, 1)]\n",
      "[('a', 2), (3, 2), (4, 1), ('b', 1)]\n"
     ]
    }
   ],
   "source": [
    "# Exo 58\n",
    "def nombre_occurence(L):\n",
    "    return list(set([(x,L.count(x)) for x in L]))\n",
    "\n",
    "print(nombre_occurence([-4,8,-3,2,1,2,9,-3,8,1]))\n",
    "print(nombre_occurence([\"a\",3,4,\"b\",\"a\",3]))\n",
    "\n",
    "\n",
    "# Exo 58\n",
    "def nombre_occurence(L):\n",
    "    occurences = []\n",
    "    for value in L:\n",
    "        if (value,L.count(value)) not in occurences :\n",
    "            occurences.append((value,L.count(value)))\n",
    "    return occurences\n",
    "\n",
    "print(nombre_occurence([-4,8,-3,2,1,2,9,-3,8,1]))\n",
    "print(nombre_occurence([\"a\",3,4,\"b\",\"a\",3]))"
   ]
  },
  {
   "cell_type": "code",
   "execution_count": 169,
   "metadata": {},
   "outputs": [
    {
     "name": "stdout",
     "output_type": "stream",
     "text": [
      "[0, 1, 3, 6, 9, 12]\n",
      "[-3, 2, 7, 44]\n"
     ]
    }
   ],
   "source": [
    "# Exo 59\n",
    "def union_list(L1,L2,L3):\n",
    "    new_list = list(set(L1) | set(L2) | set(L3))\n",
    "    new_list.sort()\n",
    "    return new_list\n",
    "\n",
    "print(union_list([3,6,9,3], [1,0,3], [12,6,0]))\n",
    "print(union_list([7,44,-3], [], [7,2,7]))"
   ]
  },
  {
   "cell_type": "code",
   "execution_count": 185,
   "metadata": {},
   "outputs": [
    {
     "name": "stdout",
     "output_type": "stream",
     "text": [
      "3\n",
      "5\n"
     ]
    }
   ],
   "source": [
    "# Exo 60\n",
    "def calcul_PGCD(a,b):\n",
    "    min_number = min([a,b])\n",
    "    max_number = max([a,b])\n",
    "    r = max_number % min_number\n",
    "    b = max_number // min_number\n",
    "    q = (max_number - r) / b\n",
    "    return int(q)\n",
    "\n",
    "print(calcul_PGCD(3,5))\n",
    "print(calcul_PGCD(5,15))"
   ]
  },
  {
   "cell_type": "code",
   "execution_count": 188,
   "metadata": {},
   "outputs": [
    {
     "name": "stdout",
     "output_type": "stream",
     "text": [
      "Ceci est\n",
      "un \n",
      "text\n",
      "None\n"
     ]
    }
   ],
   "source": [
    "# Exo 61\n",
    "def lire_fichier(chemin_fichier):\n",
    "    with open(chemin_fichier) as my_file:\n",
    "        print(my_file.read())\n",
    "\n",
    "\n",
    "print(lire_fichier('test.txt'))"
   ]
  },
  {
   "cell_type": "code",
   "execution_count": 197,
   "metadata": {},
   "outputs": [
    {
     "name": "stdout",
     "output_type": "stream",
     "text": [
      "['Je', 'suis', 'jeremy.\\nJe', 'suis', 'un', 'formateur']\n",
      "0\n",
      "['Je', 'suis', 'jeremy.', 'Je', 'suis', 'un', 'formateur']\n",
      "0\n"
     ]
    }
   ],
   "source": [
    "# Exo 62\n",
    "def nbr_occ_fichier(chemin_fichier, mot):\n",
    "    with open(chemin_fichier) as my_file:\n",
    "        my_list_of_words = my_file.read().split(\" \")\n",
    "        print(my_list_of_words)\n",
    "        \n",
    "        return my_list_of_words.count(mot)\n",
    "\n",
    "\n",
    "print(nbr_occ_fichier('test.txt', \"je\"))\n",
    "\n",
    "import re\n",
    "\n",
    "def nbr_occ_fichier(chemin_fichier, mot):\n",
    "    with open(chemin_fichier) as my_file:\n",
    "        # Dans cette version on sépare quand il y a un espace\n",
    "        # ou un retour à la ligne.\n",
    "        my_list_of_words = re.split(r' |\\n', my_file.read())\n",
    "        print(my_list_of_words)\n",
    "        \n",
    "        return my_list_of_words.count(mot)\n",
    "\n",
    "\n",
    "print(nbr_occ_fichier('test.txt', \"je\"))"
   ]
  },
  {
   "cell_type": "code",
   "execution_count": 202,
   "metadata": {},
   "outputs": [
    {
     "data": {
      "text/plain": [
       "'Je suis jeremy.\\nJe suis un ormateur'"
      ]
     },
     "execution_count": 202,
     "metadata": {},
     "output_type": "execute_result"
    }
   ],
   "source": [
    "# Exo 63\n",
    " \n",
    "def suppr_carac(chemin_fichier, caractere):\n",
    "    \n",
    "    with open(chemin_fichier, 'r') as my_file:\n",
    "        to_return = my_file.read().replace(caractere,\"\")\n",
    "\n",
    "    with open(chemin_fichier, 'w') as my_file:\n",
    "        my_file.write(to_return)\n",
    "\n",
    "    return to_return\n",
    "    \n",
    "suppr_carac(\"test.txt\", \"f\")"
   ]
  },
  {
   "cell_type": "code",
   "execution_count": 204,
   "metadata": {},
   "outputs": [
    {
     "data": {
      "text/plain": [
       "True"
      ]
     },
     "execution_count": 204,
     "metadata": {},
     "output_type": "execute_result"
    }
   ],
   "source": [
    "# Exo 64\n",
    " \n",
    "def presence_nombre(chemin_fichier):\n",
    "    \n",
    "    with open(chemin_fichier, 'r') as my_file:\n",
    "        text = my_file.read()\n",
    "        for letter in text:\n",
    "            if letter.isdigit():\n",
    "                return True\n",
    "        return False\n",
    "    \n",
    "presence_nombre(\"test.txt\")"
   ]
  },
  {
   "cell_type": "code",
   "execution_count": 210,
   "metadata": {},
   "outputs": [
    {
     "data": {
      "text/plain": [
       "26"
      ]
     },
     "execution_count": 210,
     "metadata": {},
     "output_type": "execute_result"
    }
   ],
   "source": [
    "# Exo 65\n",
    "def nombre_fichier(chemin_dossier=\".\"):\n",
    "    return len(os.listdir(path=chemin_dossier))\n",
    "    \n",
    "nombre_fichier()\n"
   ]
  },
  {
   "cell_type": "code",
   "execution_count": 212,
   "metadata": {},
   "outputs": [
    {
     "data": {
      "text/plain": [
       "'Bonjour, ...'"
      ]
     },
     "execution_count": 212,
     "metadata": {},
     "output_type": "execute_result"
    }
   ],
   "source": [
    "# Exo 66\n",
    "\n",
    "def ecrire_fichier(nom_fichier, text):\n",
    "    with open(nom_fichier, 'w') as my_file:\n",
    "        my_file.write(text)\n",
    "    return text\n",
    "    \n",
    "ecrire_fichier(\"test.txt\", \"Bonjour, ...\")"
   ]
  },
  {
   "cell_type": "code",
   "execution_count": 216,
   "metadata": {},
   "outputs": [
    {
     "name": "stdout",
     "output_type": "stream",
     "text": [
      "a\n",
      "dtg\n"
     ]
    }
   ],
   "source": [
    "# Exo 67\n",
    "\n",
    "def cle_max_valeur_dict(d):\n",
    "    max_len = 0\n",
    "    key = \"\"\n",
    "    for k, v in d.items():\n",
    "        curr_len = len(set(v))\n",
    "        if curr_len > max_len :\n",
    "            max_len = curr_len\n",
    "            key = k\n",
    "    return key\n",
    "\n",
    "\n",
    "    \n",
    "print(cle_max_valeur_dict({'a' : [9,10,9,7,3,1],\n",
    "                     'b':[5,3,2,2,2],\n",
    "                     'c': [1,1,1,1,1,1,8,2]}))\n",
    "\n",
    "print(cle_max_valeur_dict({'dtg' : [6,8,1],\n",
    "                     'fgb':[2.5,\"a\"],\n",
    "                     'klm': [\"p\", 3.3]}))"
   ]
  },
  {
   "cell_type": "code",
   "execution_count": 220,
   "metadata": {},
   "outputs": [
    {
     "name": "stdout",
     "output_type": "stream",
     "text": [
      "<class 'list'>\n",
      "['3', '2']\n"
     ]
    }
   ],
   "source": [
    "# Exo 68\n",
    "\n",
    "list_user = input(\"Entrer une liste d'utilisateur\")\n",
    "list_user = list_user.replace('[','').replace(']','').split(',')\n",
    "\n",
    "print(type(list_user))\n",
    "print(list_user)"
   ]
  },
  {
   "cell_type": "code",
   "execution_count": 257,
   "metadata": {},
   "outputs": [],
   "source": [
    "# Exo 69\n",
    "\n",
    "def nbr_jour_heure(date_debut, date_fin):\n",
    "    import datetime\n",
    "    date_debut = date_debut.split(\"/\")\n",
    "    date_fin = date_fin.split(\"/\")\n",
    "    date_debut = datetime.datetime(year=int(date_debut[0]), month=int(date_debut[1]), day=int(date_debut[2]))\n",
    "    date_fin = datetime.datetime(year=int(date_fin[0]), month=int(date_fin[1]), day=int(date_fin[2]))\n",
    "\n",
    "    nb_jours = abs((date_fin - date_debut).days)\n",
    "\n",
    "    return (nb_jours, nb_jours*24)\n",
    "\n",
    "\n",
    "print(nbr_jour_heure('2022/05/15', \"2022/06/20\"))\n",
    "print(nbr_jour_heure('2022/04/1', \"2022/04/27\"))"
   ]
  },
  {
   "cell_type": "code",
   "execution_count": 285,
   "metadata": {},
   "outputs": [
    {
     "name": "stdout",
     "output_type": "stream",
     "text": [
      "a2e12b\n",
      "abcdefghijklmnopqrstuvwxyzABCDEFGHIJKLMNOPQRSTUVWXYZ0123456789!@#$%^&*()\n",
      "nghd7^\n"
     ]
    }
   ],
   "source": [
    "# Exo 70\n",
    "\n",
    "def generer_mdp(caracteres, taille_mdp):\n",
    "    import random\n",
    "    return \"\".join(random.choices(caracteres, k=taille_mdp))\n",
    "\n",
    "print(generer_mdp(\"abcdefg1234\", 6))\n",
    "\n",
    "import string\n",
    "liste_caracteres = string.ascii_letters + string.digits + \"!@#$%^&*()\"\n",
    "print(liste_caracteres)\n",
    "print(generer_mdp(liste_caracteres, 6))"
   ]
  },
  {
   "cell_type": "code",
   "execution_count": 288,
   "metadata": {},
   "outputs": [
    {
     "name": "stdout",
     "output_type": "stream",
     "text": [
      "9.207106781186548\n",
      "8.0\n"
     ]
    }
   ],
   "source": [
    "# Exo 71\n",
    "def fonct_trigo(x):\n",
    "    import math\n",
    "    return math.cos(x)*math.sin(x)+math.sin(x)+8\n",
    "\n",
    "import math\n",
    "print(fonct_trigo(math.pi/4))\n",
    "print(fonct_trigo(math.pi))"
   ]
  },
  {
   "cell_type": "code",
   "execution_count": 296,
   "metadata": {},
   "outputs": [
    {
     "name": "stdout",
     "output_type": "stream",
     "text": [
      "[100, 101, 102, 103, 104, 105, 106, 107, 108, 109, 110, 120, 123, 130, 132, 138, 140, 145, 150, 154, 159, 160, 167, 170, 176, 180, 183, 189, 190, 195, 198, 200, 201, 202, 203, 204, 205, 206, 207, 208, 209, 210, 213, 220, 224, 230, 231, 235, 240, 242, 246, 250, 253, 257, 260, 264, 268, 270, 275, 279, 280, 286, 290, 297, 300, 301, 302, 303, 304, 305, 306, 307, 308, 309, 310, 312, 318, 320, 321, 325, 330, 333, 340, 345, 347, 350, 352, 354, 357, 360, 369, 370, 374, 375, 380, 381, 390, 396, 400, 401, 402, 403, 404, 405, 406, 407, 408, 409, 410, 415, 420, 422, 426, 430, 435, 437, 440, 448, 450, 451, 453, 456, 459, 460, 462, 465, 466, 470, 473, 480, 484, 490, 495, 500, 501, 502, 503, 504, 505, 506, 507, 508, 509, 510, 514, 519, 520, 523, 527, 530, 532, 534, 537, 540, 541, 543, 546, 549, 550, 560, 564, 570, 572, 573, 578, 579, 580, 587, 590, 591, 594, 597, 600, 601, 602, 603, 604, 605, 606, 607, 608, 609, 610, 617, 620, 624, 628, 630, 639, 640, 642, 645, 646, 650, 654, 660, 664, 666, 670, 671, 678, 680, 682, 687, 690, 693, 700, 701, 702, 703, 704, 705, 706, 707, 708, 709, 710, 716, 720, 725, 729, 730, 734, 735, 740, 743, 750, 752, 753, 758, 759, 760, 761, 768, 770, 780, 785, 786, 789, 790, 792, 795, 798, 800, 801, 802, 803, 804, 805, 806, 807, 808, 809, 810, 813, 819, 820, 826, 830, 831, 840, 844, 850, 857, 860, 862, 867, 870, 875, 876, 879, 880, 890, 891, 897, 900, 901, 902, 903, 904, 905, 906, 907, 908, 909, 910, 915, 918, 920, 927, 930, 936, 940, 945, 950, 951, 954, 957, 960, 963, 970, 972, 975, 978, 980, 981, 987, 990, 999]\n"
     ]
    }
   ],
   "source": [
    "# Exo 72\n",
    "L = []\n",
    "\n",
    "for i in range(100,1000):\n",
    "    istr = str(i)\n",
    "    a,b,c = istr\n",
    "    a = int(a)\n",
    "    b = int(b)\n",
    "    c = int(c)\n",
    "    somme = a+b+c\n",
    "    produit = a*b*c\n",
    "    if produit%somme == 0:\n",
    "        L.append(int(str(a)+str(b)+str(c)))\n",
    "\n",
    "L.sort()\n",
    "print(list(set(L)))"
   ]
  },
  {
   "cell_type": "code",
   "execution_count": 312,
   "metadata": {},
   "outputs": [
    {
     "data": {
      "text/plain": [
       "10"
      ]
     },
     "execution_count": 312,
     "metadata": {},
     "output_type": "execute_result"
    }
   ],
   "source": [
    "# Exo 73\n",
    "def calcul_somme(L):\n",
    "    if not L:\n",
    "        return 0\n",
    "    else:\n",
    "        return L[0] + calcul_somme(L[1:])\n",
    "\n",
    "calcul_somme([2,3,5])"
   ]
  },
  {
   "cell_type": "markdown",
   "metadata": {},
   "source": [
    "La notation lst[1:] crée en fait une nouvelle sous-liste qui commence à partir du deuxième élément de la liste lst jusqu'à la fin de la liste. Donc, à chaque appel récursif, nous passons une liste qui est plus courte d'un élément.\n",
    "\n",
    "Prenons l'exemple de la liste ma_liste = [1, 2, 3, 4, 5] pour mieux comprendre :\n",
    "\n",
    "Lors du premier appel à somme_recursive(ma_liste), la liste est [1, 2, 3, 4, 5]. Nous prenons 1 (le premier élément) et ajoutons le résultat de somme_recursive([2, 3, 4, 5]) (la liste sans le premier élément).\n",
    "Dans le deuxième appel, la liste est [2, 3, 4, 5]. Nous prenons 2 et ajoutons le résultat de somme_recursive([3, 4, 5]).\n",
    "Dans le troisième appel, la liste est [3, 4, 5]. Nous prenons 3 et ajoutons le résultat de somme_recursive([4, 5]).\n",
    "Dans le quatrième appel, la liste est [4, 5]. Nous prenons 4 et ajoutons le résultat de somme_recursive([5]).\n",
    "Dans le cinquième appel, la liste est [5]. Nous prenons 5 et ajoutons le résultat de somme_recursive([]).\n",
    "Finalement, lors du sixième appel, la liste est vide [], et nous retournons simplement 0 car c'est notre cas de base.\n",
    "Si vous additionnez tous ces appels :\n",
    "1\n",
    "+\n",
    "(\n",
    "2\n",
    "+\n",
    "(\n",
    "3\n",
    "+\n",
    "(\n",
    "4\n",
    "+\n",
    "(\n",
    "5\n",
    "+\n",
    "0\n",
    ")\n",
    ")\n",
    ")\n",
    ")\n",
    "1+(2+(3+(4+(5+0)))) = 15"
   ]
  },
  {
   "cell_type": "code",
   "execution_count": 323,
   "metadata": {},
   "outputs": [
    {
     "data": {
      "text/plain": [
       "2"
      ]
     },
     "execution_count": 323,
     "metadata": {},
     "output_type": "execute_result"
    }
   ],
   "source": [
    "def suite_fibonacci(n):\n",
    "    if n<=1:\n",
    "        return n\n",
    "    else :\n",
    "        return suite_fibonacci(n-1) + suite_fibonacci(n-2)\n",
    "    \n",
    "suite_fibonacci(3)"
   ]
  },
  {
   "cell_type": "code",
   "execution_count": null,
   "metadata": {},
   "outputs": [],
   "source": []
  }
 ],
 "metadata": {
  "kernelspec": {
   "display_name": "Python 3",
   "language": "python",
   "name": "python3"
  },
  "language_info": {
   "codemirror_mode": {
    "name": "ipython",
    "version": 3
   },
   "file_extension": ".py",
   "mimetype": "text/x-python",
   "name": "python",
   "nbconvert_exporter": "python",
   "pygments_lexer": "ipython3",
   "version": "3.10.12"
  },
  "orig_nbformat": 4
 },
 "nbformat": 4,
 "nbformat_minor": 2
}
