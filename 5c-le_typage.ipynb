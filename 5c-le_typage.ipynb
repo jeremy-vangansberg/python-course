{
 "cells": [
  {
   "cell_type": "markdown",
   "metadata": {},
   "source": [
    "# Typage dans les fonctions Python"
   ]
  },
  {
   "cell_type": "markdown",
   "metadata": {},
   "source": [
    "## Introduction"
   ]
  },
  {
   "cell_type": "markdown",
   "metadata": {},
   "source": [
    "À partir de Python 3.5, le langage a introduit un support optionnel pour les annotations de type. Cela vous permet d'indiquer le type attendu des arguments et de la valeur renvoyée d'une fonction. Bien que Python reste un langage à typage dynamique, ces annotations offrent un moyen d'indiquer comment une fonction est censée être utilisée.\n",
    "\n",
    "Syntaxe\n",
    "La syntaxe de base pour annoter une fonction est la suivante:"
   ]
  },
  {
   "cell_type": "code",
   "execution_count": 1,
   "metadata": {},
   "outputs": [
    {
     "ename": "SyntaxError",
     "evalue": "invalid syntax (1725628101.py, line 1)",
     "output_type": "error",
     "traceback": [
      "\u001b[0;36m  Input \u001b[0;32mIn [1]\u001b[0;36m\u001b[0m\n\u001b[0;31m    def function_name(arg: arg_type, ...) -> return_type:\u001b[0m\n\u001b[0m                                     ^\u001b[0m\n\u001b[0;31mSyntaxError\u001b[0m\u001b[0;31m:\u001b[0m invalid syntax\n"
     ]
    }
   ],
   "source": [
    "def function_name(arg: arg_type, ...) -> return_type:\n",
    "    pass"
   ]
  },
  {
   "cell_type": "markdown",
   "metadata": {},
   "source": [
    "## Utilité\n",
    "1. Lisibilité: Les annotations de type améliorent la lisibilité du code en fournissant des informations supplémentaires sur la façon dont une fonction doit être utilisée.\n",
    "2. Détection d'erreurs: Avec des outils comme mypy, les annotations de type peuvent être utilisées pour détecter des erreurs potentielles avant l'exécution du code.\n",
    "3. Documentation: Les annotations agissent comme une forme de documentation pour les autres développeurs (ou pour vous-même à l'avenir)."
   ]
  },
  {
   "cell_type": "markdown",
   "metadata": {},
   "source": [
    "## Exemples\n",
    "### Fonction simple avec typage"
   ]
  },
  {
   "cell_type": "code",
   "execution_count": 2,
   "metadata": {},
   "outputs": [],
   "source": [
    "def greet(name: str) -> str:\n",
    "    return \"Hello, \" + name"
   ]
  },
  {
   "cell_type": "markdown",
   "metadata": {},
   "source": [
    "### Fonction avec plusieurs arguments"
   ]
  },
  {
   "cell_type": "code",
   "execution_count": 3,
   "metadata": {},
   "outputs": [],
   "source": [
    "def add_numbers(a: int, b: int) -> int:\n",
    "    return a + b"
   ]
  },
  {
   "cell_type": "markdown",
   "metadata": {},
   "source": [
    "### Utilisation de types complexes"
   ]
  },
  {
   "cell_type": "markdown",
   "metadata": {},
   "source": [
    "Si vous travaillez avec des listes, des dictionnaires ou d'autres structures de données, vous pouvez également spécifier des types pour eux."
   ]
  },
  {
   "cell_type": "code",
   "execution_count": 5,
   "metadata": {},
   "outputs": [],
   "source": [
    "from typing import List, Dict\n",
    "\n",
    "def average(numbers: List[float]) -> float:\n",
    "    return sum(numbers) / len(numbers)\n",
    "\n",
    "def get_name(person: Dict[str, str]) -> str:\n",
    "    return person[\"name\"]"
   ]
  },
  {
   "cell_type": "code",
   "execution_count": 6,
   "metadata": {},
   "outputs": [],
   "source": [
    "from typing import List, Union\n",
    "\n",
    "def average(numbers: List[Union[int, float]]) -> float:\n",
    "    return sum(numbers) / len(numbers)"
   ]
  }
 ],
 "metadata": {
  "kernelspec": {
   "display_name": "ds",
   "language": "python",
   "name": "python3"
  },
  "language_info": {
   "codemirror_mode": {
    "name": "ipython",
    "version": 3
   },
   "file_extension": ".py",
   "mimetype": "text/x-python",
   "name": "python",
   "nbconvert_exporter": "python",
   "pygments_lexer": "ipython3",
   "version": "3.10.4"
  },
  "orig_nbformat": 4
 },
 "nbformat": 4,
 "nbformat_minor": 2
}
