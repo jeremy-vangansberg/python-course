{
 "cells": [
  {
   "cell_type": "markdown",
   "metadata": {},
   "source": [
    "# Les conditions"
   ]
  },
  {
   "cell_type": "code",
   "execution_count": 6,
   "metadata": {},
   "outputs": [
    {
     "name": "stdout",
     "output_type": "stream",
     "text": [
      "The condition passed\n",
      "The condition passed\n",
      "The condition passed\n"
     ]
    }
   ],
   "source": [
    "if True:\n",
    "    print('The condition passed')\n",
    "\n",
    "if False:\n",
    "    print('The condition not passed')\n",
    "\n",
    "if 0 :\n",
    "    print('The condition not passed')\n",
    "\n",
    "if 1:\n",
    "    print('The condition passed')\n",
    "\n",
    "if 1 == True:\n",
    "    print('The condition passed')"
   ]
  },
  {
   "cell_type": "code",
   "execution_count": null,
   "metadata": {},
   "outputs": [],
   "source": [
    "\"\"\" Structure générale d'une condition if \"\"\"\n",
    "if mon_booleen:\n",
    "   # exécuter le code quand mon_booleen est vrai\n",
    "else:\n",
    "   # exécuter le code quand mon_booleen est faux"
   ]
  },
  {
   "cell_type": "code",
   "execution_count": 15,
   "metadata": {},
   "outputs": [
    {
     "name": "stdout",
     "output_type": "stream",
     "text": [
      "on reste à la maison !\n"
     ]
    }
   ],
   "source": [
    "\"\"\" Exemple \"\"\"\n",
    "\n",
    "ensoleille = False\n",
    "\n",
    "if ensoleille:\n",
    "   print(\"on va à la plage !\")\n",
    "else:\n",
    "   print(\"on reste à la maison !\")"
   ]
  },
  {
   "cell_type": "code",
   "execution_count": 16,
   "metadata": {},
   "outputs": [
    {
     "data": {
      "text/plain": [
       "True"
      ]
     },
     "execution_count": 16,
     "metadata": {},
     "output_type": "execute_result"
    }
   ],
   "source": [
    "0 == 0"
   ]
  },
  {
   "cell_type": "code",
   "execution_count": 10,
   "metadata": {},
   "outputs": [
    {
     "name": "stdout",
     "output_type": "stream",
     "text": [
      "on fait un bonhomme de neige\n",
      "8\n",
      "nothing\n"
     ]
    }
   ],
   "source": [
    "\"\"\" Il est également possible d'ajouter d'autres conditions\"\"\"\n",
    "\n",
    "ensoleille = False\n",
    "neige = True\n",
    "\n",
    "if ensoleille:\n",
    "   print(\"on va à la plage !\")\n",
    "elif neige:\n",
    "   print(\"on fait un bonhomme de neige\")\n",
    "else:\n",
    "   print(\"on reste à la maison !\")\n",
    "\n",
    "a = 8\n",
    "\n"
   ]
  },
  {
   "cell_type": "code",
   "execution_count": 21,
   "metadata": {},
   "outputs": [
    {
     "name": "stdout",
     "output_type": "stream",
     "text": [
      "fin du programme\n"
     ]
    }
   ],
   "source": [
    "a = 1\n",
    "\n",
    "if a > 2:\n",
    "   print(a, \" est plus grand 2\")\n",
    "\n",
    "print(\"fin du programme\")"
   ]
  },
  {
   "cell_type": "markdown",
   "metadata": {},
   "source": [
    "Rappel: Les booléens peuvent être combinés avec des opérateurs logiques (and, or ..) ou issus de comparaisons (<, >, == ...)"
   ]
  },
  {
   "cell_type": "code",
   "execution_count": 25,
   "metadata": {},
   "outputs": [
    {
     "name": "stdout",
     "output_type": "stream",
     "text": [
      "7 est compris entre 3 et 10, non-inclus\n"
     ]
    }
   ],
   "source": [
    "# Exemple\n",
    "x = 7\n",
    "\n",
    "if x < 10 and x > 3 :\n",
    "    print(f\"{x} est compris entre 3 et 10, non-inclus\")"
   ]
  },
  {
   "cell_type": "markdown",
   "metadata": {},
   "source": [
    "**`Exercice 1`**: quelle est la valeur de x?"
   ]
  },
  {
   "cell_type": "code",
   "execution_count": 28,
   "metadata": {},
   "outputs": [
    {
     "name": "stdout",
     "output_type": "stream",
     "text": [
      "8\n"
     ]
    }
   ],
   "source": [
    "a = True\n",
    "b = False\n",
    "c = True\n",
    "\n",
    "if a and b:\n",
    "    x = 5\n",
    "elif not c:\n",
    "    x = 4\n",
    "elif a:\n",
    "    x = 8\n",
    "else:\n",
    "    x = 7\n",
    "\n",
    "print(x)"
   ]
  },
  {
   "cell_type": "markdown",
   "metadata": {},
   "source": [
    "**`Exercice 2`**: devinez ce qui va être affiché"
   ]
  },
  {
   "cell_type": "code",
   "execution_count": 30,
   "metadata": {},
   "outputs": [
    {
     "name": "stdout",
     "output_type": "stream",
     "text": [
      "c'est vrai\n"
     ]
    }
   ],
   "source": [
    "a = 3\n",
    "b = 7\n",
    "c = 5\n",
    "\n",
    "if a < b or b != c and c >= b: #True, True, False\n",
    "    print(\"c'est vrai\")\n",
    "else:\n",
    "    print(\"c'est faux\")"
   ]
  },
  {
   "cell_type": "markdown",
   "metadata": {},
   "source": [
    "# Les boucles"
   ]
  },
  {
   "cell_type": "markdown",
   "metadata": {},
   "source": [
    "## La boucle for"
   ]
  },
  {
   "cell_type": "code",
   "execution_count": 35,
   "metadata": {},
   "outputs": [
    {
     "name": "stdout",
     "output_type": "stream",
     "text": [
      "Pascal  présent\n",
      "Azel  présent\n",
      "Tony  présent\n",
      "Vladimir  présent\n",
      "Sabrina  présent\n"
     ]
    }
   ],
   "source": [
    "#Le principal interet de la boucle for est de parcourir des listes\n",
    "liste_apprenants = [\"Pascal\", \"Azel\", \"Tony\", \"Vladimir\", \"Sabrina\"]\n",
    "\n",
    "for i in liste_apprenants:\n",
    "    print(i, \" présent\")"
   ]
  },
  {
   "cell_type": "markdown",
   "metadata": {},
   "source": [
    "On peut également s'en servir avec la fonction range, cela permet de parcourir une liste d'entiers"
   ]
  },
  {
   "cell_type": "code",
   "execution_count": 36,
   "metadata": {},
   "outputs": [
    {
     "name": "stdout",
     "output_type": "stream",
     "text": [
      "<class 'range'>\n",
      "range(0, 5)\n"
     ]
    }
   ],
   "source": [
    "print(type(range(5)))\n",
    "print(range(5))"
   ]
  },
  {
   "cell_type": "code",
   "execution_count": 3,
   "metadata": {},
   "outputs": [
    {
     "name": "stdout",
     "output_type": "stream",
     "text": [
      "0\n",
      "1\n",
      "2\n",
      "3\n",
      "4\n",
      "5\n",
      "6\n",
      "7\n",
      "8\n",
      "9\n"
     ]
    }
   ],
   "source": [
    "for i in range(10):\n",
    "    print(i)"
   ]
  },
  {
   "cell_type": "code",
   "execution_count": 39,
   "metadata": {},
   "outputs": [
    {
     "name": "stdout",
     "output_type": "stream",
     "text": [
      "j = 2\n",
      "j = 4\n",
      "j = 6\n",
      "j = 8\n",
      "j = 10\n",
      "--------\n",
      "k = 11\n",
      "k = 8\n"
     ]
    }
   ],
   "source": [
    "# la fonction range peut prendre plusieurs arguments:\n",
    "premier_element = 2\n",
    "dernier_element_plus_1 = 11\n",
    "pas = 2 # on compte tous les combien\n",
    "\n",
    "for j in range(premier_element,dernier_element_plus_1,pas):\n",
    "    print(f\"j = {j}\")\n",
    "\n",
    "premier_element = 11\n",
    "dernier_element_plus_1 = 6\n",
    "pas = -3 # on compte tous les combien\n",
    "\n",
    "print('--------')\n",
    "\n",
    "for k in range(premier_element,dernier_element_plus_1,pas):\n",
    "    print(f\"k = {k}\")   "
   ]
  },
  {
   "cell_type": "markdown",
   "metadata": {},
   "source": [
    "**`Exercice 2`**: écrivez un code qui utilise range et la liste \"ma liste\" et qui à la sortie suivante:  \n",
    "canari 1  \n",
    "avion 2  \n",
    "papier 3  \n",
    "ciseaux 4  \n",
    "toiture 5  "
   ]
  },
  {
   "cell_type": "code",
   "execution_count": 41,
   "metadata": {},
   "outputs": [],
   "source": [
    "ma_liste = [\"canari\", \"avion\", \"papier\", \"ciseaux\", \"toiture\"]\n",
    "\n",
    "range(len(ma_liste))"
   ]
  },
  {
   "cell_type": "code",
   "execution_count": 59,
   "metadata": {},
   "outputs": [
    {
     "name": "stdout",
     "output_type": "stream",
     "text": [
      "canari 1\n",
      "avion 2\n",
      "papier 3\n",
      "ciseaux 4\n",
      "toiture 5\n"
     ]
    }
   ],
   "source": [
    "for i in range(len(ma_liste)):\n",
    "    print(ma_liste[i], i+1)"
   ]
  },
  {
   "cell_type": "markdown",
   "metadata": {},
   "source": [
    "## Boucle While"
   ]
  },
  {
   "cell_type": "code",
   "execution_count": 58,
   "metadata": {},
   "outputs": [
    {
     "name": "stdout",
     "output_type": "stream",
     "text": [
      "la condition est encore vraie car i vaut 0\n",
      "la condition est encore vraie car i vaut 1\n",
      "la condition est encore vraie car i vaut 2\n",
      "la condition est encore vraie car i vaut 3\n",
      "la condition est encore vraie car i vaut 4\n",
      "la condition est encore vraie car i vaut 5\n",
      "la condition est encore vraie car i vaut 6\n",
      "la condition est encore vraie car i vaut 7\n",
      "la condition est encore vraie car i vaut 8\n",
      "la condition est encore vraie car i vaut 9\n"
     ]
    }
   ],
   "source": [
    "# La structure générale de la boucle while est la suivante:\n",
    "\n",
    "i = 0\n",
    "\n",
    "while (10 > i) :\n",
    "    print(f\"la condition est encore vraie car i vaut {i}\")\n",
    "    i += 1 # on appelle cela l'incrementation\n"
   ]
  },
  {
   "cell_type": "code",
   "execution_count": null,
   "metadata": {},
   "outputs": [],
   "source": [
    "# l'incrémentation permet de ne pas créer de boucle infinie\n",
    "i=11\n",
    "condition = 12 > i\n",
    "while condition:\n",
    "    print(\"ceci est une boucle infinie\")"
   ]
  },
  {
   "cell_type": "markdown",
   "metadata": {},
   "source": [
    "**`Exercice 1`**: \n",
    "- Utilisez une boucle for et la fonction \"range\" pour calculer la somme des 100 premier entier naturel\n",
    "- Utilisez la boucle while pour calculer le produit des 100 premiers entier naturel"
   ]
  },
  {
   "cell_type": "code",
   "execution_count": 26,
   "metadata": {},
   "outputs": [
    {
     "data": {
      "text/plain": [
       "5050"
      ]
     },
     "execution_count": 26,
     "metadata": {},
     "output_type": "execute_result"
    }
   ],
   "source": [
    "# vous aurez surement besoin d'un counter\n",
    "counter = 0\n",
    "somme = 0\n",
    "\n",
    "#...\n",
    "\n",
    "print(somme)"
   ]
  },
  {
   "cell_type": "code",
   "execution_count": 29,
   "metadata": {},
   "outputs": [
    {
     "data": {
      "text/plain": [
       "93326215443944152681699238856266700490715968264381621468592963895217599993229915608941463976156518286253697920827223758251185210916864000000000000000000000000"
      ]
     },
     "execution_count": 29,
     "metadata": {},
     "output_type": "execute_result"
    }
   ],
   "source": [
    "product = 1\n",
    "i = 1\n",
    "while  \"condition sur i à écrire\":\n",
    "    # ...\n",
    "\n",
    "print(product)"
   ]
  },
  {
   "cell_type": "markdown",
   "metadata": {},
   "source": [
    "**`Exercice 2`**: \n",
    "-  Dans un fichier script, A l'aide de la fonction while et la fonction input (help(input)) écrivez cette blague\n",
    "- \"Si repete et pepete  sont dans un bateau, pepete tombe à l'eau, qu'est ce qui reste?\"\n",
    "- si la personne répond \"repète\", le programme pose la meme question : \"Si repete et pepete sont dans un bateau, pepete tombe à l'eau, qu'est ce qui reste?\"\n",
    "- si la personne répond autre chose le programme pose comme question: \"Mais non tu comprends pas, si repete et pepete  sont dans un bateau, pepete tombe à l'eau, qu'est ce qui reste \"\n",
    "- si la personne répond \"tu es lourd\" enfin le programme s'arrete"
   ]
  },
  {
   "cell_type": "code",
   "execution_count": 69,
   "metadata": {},
   "outputs": [],
   "source": [
    "response = input(\"Si repete et pepete  sont dans un bateau, pepete tombe à l'eau, qu'est ce qui reste?\")\n",
    "\n",
    "while response != \"tu es lourd\" :\n",
    "    if response == \"repete\" :\n",
    "        response = input(\"Si repete et pepete  sont dans un bateau, pepete tombe à l'eau, qu'est ce qui reste?\")\n",
    "    else :\n",
    "        response = input(\"Mais non tu comprends pas, si repete et pepete  sont dans un bateau, pepete tombe à l'eau, qu'est ce qui reste\")"
   ]
  },
  {
   "cell_type": "markdown",
   "metadata": {},
   "source": [
    "**`Exercice 3`**: \n",
    "- Reprenez votre programme en utilisant l'instruction `break`"
   ]
  },
  {
   "cell_type": "code",
   "execution_count": 70,
   "metadata": {},
   "outputs": [],
   "source": [
    "response = input(\"Si repete et pepete  sont dans un bateau, pepete tombe à l'eau, qu'est ce qui reste?\")\n",
    "\n",
    "while True :\n",
    "    if response == \"repete\" :\n",
    "        response = input(\"Si repete et pepete  sont dans un bateau, pepete tombe à l'eau, qu'est ce qui reste?\")\n",
    "\n",
    "    elif response == \"tu es lourd\" :\n",
    "        break\n",
    "\n",
    "    else :\n",
    "        response = input(\"Mais non tu comprends pas, si repete et pepete  sont dans un bateau, pepete tombe à l'eau, qu'est ce qui reste\")"
   ]
  },
  {
   "cell_type": "markdown",
   "metadata": {},
   "source": [
    "**`Exercice 4`**: Plus classique et beaucoup moins drole \n",
    "- écrivez un programme script qui demande deux nombres puis renvoie leur somme si les nombres sont valides sinon il renvoie une erreur et demande à nouveaux deux nombres valides."
   ]
  },
  {
   "cell_type": "code",
   "execution_count": 79,
   "metadata": {},
   "outputs": [
    {
     "name": "stdout",
     "output_type": "stream",
     "text": [
      "Les nombres ne sont pas valides\n"
     ]
    }
   ],
   "source": [
    "num_1 = input(\"Saisissez un premier nombre\")\n",
    "\n",
    "num_2 = input(\"Puis un deuxième\")\n",
    "\n",
    "if num_1.isdigit() and num_1.isdigit() :\n",
    "    print(int(num_1)+ int(num_2))\n",
    "\n",
    "else :\n",
    "    print(\"Les nombres ne sont pas valides\")"
   ]
  },
  {
   "cell_type": "code",
   "execution_count": 83,
   "metadata": {},
   "outputs": [
    {
     "ename": "ValueError",
     "evalue": "invalid literal for int() with base 10: 'fsdf'",
     "output_type": "error",
     "traceback": [
      "\u001b[0;31m---------------------------------------------------------------------------\u001b[0m",
      "\u001b[0;31mValueError\u001b[0m                                Traceback (most recent call last)",
      "\u001b[1;32m/Users/jeremyvangansbeg/Documents/project/intro_python/python-course/4-les_conditions_et_les_boucles.ipynb Cell 36\u001b[0m line \u001b[0;36m7\n\u001b[1;32m      <a href='vscode-notebook-cell:/Users/jeremyvangansbeg/Documents/project/intro_python/python-course/4-les_conditions_et_les_boucles.ipynb#X56sZmlsZQ%3D%3D?line=2'>3</a>\u001b[0m num_2 \u001b[39m=\u001b[39m \u001b[39minput\u001b[39m(\u001b[39m\"\u001b[39m\u001b[39mPuis un deuxième\u001b[39m\u001b[39m\"\u001b[39m)\n\u001b[1;32m      <a href='vscode-notebook-cell:/Users/jeremyvangansbeg/Documents/project/intro_python/python-course/4-les_conditions_et_les_boucles.ipynb#X56sZmlsZQ%3D%3D?line=5'>6</a>\u001b[0m num_1 \u001b[39m=\u001b[39m \u001b[39mint\u001b[39m(num_1)\n\u001b[0;32m----> <a href='vscode-notebook-cell:/Users/jeremyvangansbeg/Documents/project/intro_python/python-course/4-les_conditions_et_les_boucles.ipynb#X56sZmlsZQ%3D%3D?line=6'>7</a>\u001b[0m num_2 \u001b[39m=\u001b[39m \u001b[39mint\u001b[39;49m(num_2)\n\u001b[1;32m      <a href='vscode-notebook-cell:/Users/jeremyvangansbeg/Documents/project/intro_python/python-course/4-les_conditions_et_les_boucles.ipynb#X56sZmlsZQ%3D%3D?line=8'>9</a>\u001b[0m \u001b[39mprint\u001b[39m(num_1 \u001b[39m+\u001b[39m num_2)\n\u001b[1;32m     <a href='vscode-notebook-cell:/Users/jeremyvangansbeg/Documents/project/intro_python/python-course/4-les_conditions_et_les_boucles.ipynb#X56sZmlsZQ%3D%3D?line=9'>10</a>\u001b[0m \u001b[39m# except :\u001b[39;00m\n\u001b[1;32m     <a href='vscode-notebook-cell:/Users/jeremyvangansbeg/Documents/project/intro_python/python-course/4-les_conditions_et_les_boucles.ipynb#X56sZmlsZQ%3D%3D?line=10'>11</a>\u001b[0m \u001b[39m#     print(\"inputs invalides\")\u001b[39;00m\n",
      "\u001b[0;31mValueError\u001b[0m: invalid literal for int() with base 10: 'fsdf'"
     ]
    }
   ],
   "source": [
    "num_1 = input(\"Saisissez un premier nombre\")\n",
    "\n",
    "num_2 = input(\"Puis un deuxième\")\n",
    "\n",
    "\n",
    "num_1 = int(num_1)\n",
    "num_2 = int(num_2)\n",
    "\n",
    "print(num_1 + num_2)\n",
    "# except :\n",
    "#     print(\"inputs invalides\")"
   ]
  },
  {
   "cell_type": "markdown",
   "metadata": {},
   "source": [
    "exercice 5,6,7,8,9,10,11(faire une recherche), 12, 13,14,15, 16, 17, 18, 19, 20, 21, 22, 23, 24"
   ]
  }
 ],
 "metadata": {
  "interpreter": {
   "hash": "4822798685b95d90cac6b9eac85a216cd3011e561666c6311e8088bbadca8e0f"
  },
  "kernelspec": {
   "display_name": "Python 3.8.6 64-bit ('3.8.6': pyenv)",
   "name": "python3"
  },
  "language_info": {
   "codemirror_mode": {
    "name": "ipython",
    "version": 3
   },
   "file_extension": ".py",
   "mimetype": "text/x-python",
   "name": "python",
   "nbconvert_exporter": "python",
   "pygments_lexer": "ipython3",
   "version": "3.10.12"
  },
  "orig_nbformat": 4
 },
 "nbformat": 4,
 "nbformat_minor": 2
}
