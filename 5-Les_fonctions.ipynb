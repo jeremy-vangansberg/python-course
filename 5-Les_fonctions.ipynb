{
 "cells": [
  {
   "cell_type": "markdown",
   "metadata": {},
   "source": [
    "# Les fonctions"
   ]
  },
  {
   "cell_type": "markdown",
   "metadata": {},
   "source": [
    "Une fonction est un bloc de code avec un but spécifique auquel vous pouvez donner un nom. \n",
    "- Elles sont dans un premier temps définies \n",
    "- Puis exécuter. \n",
    "Quand vous appelez une fonction, vous exécutez le code qu’elle contient. Les fonctions vous laissent saisir des paramètres pour exécuter le même code sur différentes valeurs."
   ]
  },
  {
   "cell_type": "markdown",
   "metadata": {},
   "source": [
    "## Les fonctions de base"
   ]
  },
  {
   "cell_type": "markdown",
   "metadata": {},
   "source": [
    "Certaines fonctions sont déja définies dans python, on en a déja rencontré quelques unes:\n",
    "- len(x)\n",
    "- type(x)\n",
    "- max(x)"
   ]
  },
  {
   "cell_type": "markdown",
   "metadata": {},
   "source": [
    "Pour savoir à quoi sert une fonction (ou une classe) il existe une autre fonction:"
   ]
  },
  {
   "cell_type": "code",
   "execution_count": 4,
   "metadata": {},
   "outputs": [
    {
     "name": "stdout",
     "output_type": "stream",
     "text": [
      "Help on built-in function max in module builtins:\n",
      "\n",
      "max(...)\n",
      "    max(iterable, *[, default=obj, key=func]) -> value\n",
      "    max(arg1, arg2, *args, *[, key=func]) -> value\n",
      "    \n",
      "    With a single iterable argument, return its biggest item. The\n",
      "    default keyword-only argument specifies an object to return if\n",
      "    the provided iterable is empty.\n",
      "    With two or more arguments, return the largest argument.\n",
      "\n"
     ]
    }
   ],
   "source": [
    "help(max)"
   ]
  },
  {
   "cell_type": "markdown",
   "metadata": {},
   "source": [
    "Pour les autres fonctions built-in : https://docs.python.org/3/library/functions.html#help"
   ]
  },
  {
   "cell_type": "markdown",
   "metadata": {},
   "source": [
    "## Définir une fonction"
   ]
  },
  {
   "cell_type": "markdown",
   "metadata": {},
   "source": [
    "Il est également possible de créer ses propres fonctions"
   ]
  },
  {
   "cell_type": "code",
   "execution_count": null,
   "metadata": {},
   "outputs": [],
   "source": [
    "\"\"\"Structure générale d'une fonction\"\"\"\n",
    "\n",
    "# étape de la définition\n",
    "def fonction_name(parametre_1,parametre_2):\n",
    "    #instructions\n",
    "    return result\n",
    "\n",
    "# étape de l'appel\n",
    "resultat = fonction_name(\"quelque_chose\",\"autre_chose\")"
   ]
  },
  {
   "cell_type": "code",
   "execution_count": 8,
   "metadata": {},
   "outputs": [
    {
     "name": "stdout",
     "output_type": "stream",
     "text": [
      "7\n"
     ]
    }
   ],
   "source": [
    "\"\"\"Exemple\"\"\"\n",
    "\n",
    "def add(a,b):\n",
    "    return a+b\n",
    "\n",
    "print(add(3,4))"
   ]
  },
  {
   "cell_type": "markdown",
   "metadata": {},
   "source": [
    "**`Exercice`**: "
   ]
  },
  {
   "cell_type": "code",
   "execution_count": null,
   "metadata": {},
   "outputs": [],
   "source": [
    "# Ecrivez une fonction qui permet de calculer le produit des éléments d'une liste contenant des integers.\n",
    "def produit_entiers(liste_entiers):\n",
    "    # écrivez le code ici"
   ]
  },
  {
   "cell_type": "markdown",
   "metadata": {},
   "source": [
    "## Ecrire correctement ses fonctions avec la Pep8"
   ]
  },
  {
   "cell_type": "markdown",
   "metadata": {},
   "source": [
    "Une docstring est un ensemble de mots qui documente un bout de code. Elle commence par trois guillemets ouvrants, le commentaire que vous souhaitez apporter puis trois guillemets fermants."
   ]
  },
  {
   "cell_type": "code",
   "execution_count": null,
   "metadata": {},
   "outputs": [],
   "source": [
    "Exemple :\n",
    "\n",
    "\"\"\" This is a docstring. I'm here to explain what the following code will do.\n",
    "Oh, I'm multiline too!\n",
    "\"\"\""
   ]
  },
  {
   "cell_type": "markdown",
   "metadata": {},
   "source": [
    "Selon la PEP 8, chaque partie de votre code devrait contenir une Docstring.\n",
    "- tous les modules publics\n",
    "- toutes les fonctions\n",
    "- toutes les classes\n",
    "- toutes les méthodes de ces classes"
   ]
  },
  {
   "cell_type": "code",
   "execution_count": 10,
   "metadata": {},
   "outputs": [],
   "source": [
    "def add(a,b):\n",
    "    \"\"\" \n",
    "    This function returns the sum of the two parameters\n",
    "\n",
    "    parameters\n",
    "    ----------\n",
    "    a: int\n",
    "    b: int\n",
    "    \"\"\"\n",
    "    aprime = abs(a)  # on prend la valeur absolue\n",
    "    bprime = abs(b)  \n",
    "    return a + b"
   ]
  },
  {
   "cell_type": "code",
   "execution_count": 11,
   "metadata": {},
   "outputs": [
    {
     "name": "stdout",
     "output_type": "stream",
     "text": [
      "Help on function add in module __main__:\n",
      "\n",
      "add(a, b)\n",
      "    This fonction returns the sum of the two parameters\n",
      "    \n",
      "    parameters\n",
      "    ----------\n",
      "    a: int\n",
      "    b: int\n",
      "\n"
     ]
    }
   ],
   "source": [
    "help(add)"
   ]
  },
  {
   "cell_type": "markdown",
   "metadata": {},
   "source": [
    "Cependant la Pep 8 nous demande également d'être concis dans nos commentaires et de ne pas commenter des évidences. Il faut donc se poser la question de savoir si ce que nous écrivons est évident pour quelqu'un qui n'a pas écrit le code (ici oui), si ce n'est pas évident alors il faut commenter"
   ]
  },
  {
   "cell_type": "markdown",
   "metadata": {},
   "source": [
    "**`règles d'écriture`**:\n",
    "- fonctions: minuscules et tiret du bas : my_function()\n",
    "- arguments des méthodes et fonctions : identique aux fonctions. my_function(param=False)  (attention pas d'espace)"
   ]
  },
  {
   "cell_type": "markdown",
   "metadata": {},
   "source": [
    "## Fonctions et Méthodes"
   ]
  },
  {
   "cell_type": "markdown",
   "metadata": {},
   "source": [
    "Les fonctions et les méthodes sont des objets proches mais qui possèdent des différences et donc ne doivent pas être confondus:\n",
    "- Une fonction est défninie independement de tous objets, les objets auxquels elle s'applique sont tous précisés dans ses paramètres\n",
    "    - **exemple**: round(un_float,2), sum(une_liste), sum(un_int, autre_int)...\n",
    "- Une méthode est liée à une classe d'objet, elle est définie au moment de la défnition de la classe. On applique toujours une méthode à une instance de classe. Comme on appelle la méthode à partir de cette instance, on ne la rappelle pas dans les paramètres:\n",
    "    - **exemple**: une_instance_str.upper(), une_instance_liste.append(3)\n"
   ]
  },
  {
   "cell_type": "markdown",
   "metadata": {},
   "source": [
    "De même que pour les fonctions, on peut obtenir de l'aide sur les méthodes:"
   ]
  },
  {
   "cell_type": "code",
   "execution_count": 1,
   "metadata": {},
   "outputs": [
    {
     "name": "stdout",
     "output_type": "stream",
     "text": [
      "Help on method_descriptor:\n",
      "\n",
      "upper(self, /)\n",
      "    Return a copy of the string converted to uppercase.\n",
      "\n",
      "Help on method_descriptor:\n",
      "\n",
      "append(self, object, /)\n",
      "    Append object to the end of the list.\n",
      "\n"
     ]
    }
   ],
   "source": [
    "help(str.upper)\n",
    "help(list.append)"
   ]
  }
 ],
 "metadata": {
  "interpreter": {
   "hash": "4822798685b95d90cac6b9eac85a216cd3011e561666c6311e8088bbadca8e0f"
  },
  "kernelspec": {
   "display_name": "Python 3.8.6 64-bit ('3.8.6': pyenv)",
   "name": "python3"
  },
  "language_info": {
   "codemirror_mode": {
    "name": "ipython",
    "version": 3
   },
   "file_extension": ".py",
   "mimetype": "text/x-python",
   "name": "python",
   "nbconvert_exporter": "python",
   "pygments_lexer": "ipython3",
   "version": "3.8.6"
  },
  "orig_nbformat": 4
 },
 "nbformat": 4,
 "nbformat_minor": 2
}
