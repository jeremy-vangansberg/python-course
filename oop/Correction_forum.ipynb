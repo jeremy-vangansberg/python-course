{
 "cells": [
  {
   "cell_type": "code",
   "execution_count": 18,
   "metadata": {},
   "outputs": [],
   "source": [
    "class Post:\n",
    "    def __init__(self,texte,user, date,fil):\n",
    "        self.texte = texte\n",
    "        self.user = user\n",
    "        self.date = date\n",
    "        self.fil = fil\n",
    "    \n",
    "    def __repr__(self):\n",
    "        return f\"user:{self.user} date:{self.date} \\n fil de discussion: {self.fil} content : \\n {self.texte}\"\n",
    "\n",
    "class GifPost(Post):\n",
    "    def __init__(self,texte,user,date,fil,file_type,file_path):\n",
    "        super().__init__(texte,user, date,fil,file_type)\n",
    "        self.gif_path=file_path\n",
    "\n",
    "class JpegPost(Post):\n",
    "    def __init__(self,texte,user,date,fil,file_type,file_path):\n",
    "        super().__init__(texte,user, date,fil,file_type)\n",
    "        self.jpeg_path=file_path\n"
   ]
  },
  {
   "cell_type": "code",
   "execution_count": 45,
   "metadata": {},
   "outputs": [],
   "source": [
    "class Fil():\n",
    "    def __init__(self, titre, date, texte_first_content,user,file_type=None,file_path=None):\n",
    "        self.titre = titre\n",
    "        self.date = date\n",
    "        self.collection_post =[]\n",
    "        self.add_post(texte_first_content,user,date,file_type,file_path)\n",
    "\n",
    "    def add_post(self,texte,user,date,file_type=None,file_path=None):\n",
    "        if file_type == \"Gif\":\n",
    "            self.collection_post.append(GifPost(texte,user,date,self,file_type,file_path))\n",
    "        elif file_type == \"Jpeg\":\n",
    "            self.collection_post.append(JpegPost(texte,user,date,self,file_type,file_path))\n",
    "        else:\n",
    "            self.collection_post.append(Post(texte,user,date,self))\n",
    "    \n",
    "    def del_post(self,index_post):\n",
    "        del self.collection_post[index_post]"
   ]
  },
  {
   "cell_type": "code",
   "execution_count": 28,
   "metadata": {},
   "outputs": [],
   "source": [
    "class User:\n",
    "    def __init__(self,identifiant, password, email):\n",
    "        self.identifiant = identifiant\n",
    "        self.password = password\n",
    "        self.email = email\n",
    "    \n",
    "    def new_fil(self,titre, date, texte_first_content,file_type=None,file_path=None):\n",
    "        return Fil(titre, date, texte_first_content,self,file_type=None,file_path=None)\n",
    "\n",
    "    def new_post(self,texte, date, fil, file_type=None,file_path=None):\n",
    "        fil.add_post(texte,date,self,file_type=None,file_path=None)\n"
   ]
  },
  {
   "cell_type": "code",
   "execution_count": 46,
   "metadata": {},
   "outputs": [],
   "source": [
    "class Moderateur(User):\n",
    "    def modify_post(self,fil,index_post,new_content):\n",
    "        fil.collection_post[index_post].texte = new_content\n",
    "    \n",
    "    def delete_post(self,fil,index_post):\n",
    "        fil.del_post(index_post)\n",
    "\n",
    "    def delete_fil(self,fil):\n",
    "        del fil"
   ]
  },
  {
   "cell_type": "code",
   "execution_count": 50,
   "metadata": {},
   "outputs": [],
   "source": [
    "denis = User(\"denis\",\"1234\",\"dd@gmail.com\")"
   ]
  },
  {
   "cell_type": "code",
   "execution_count": 51,
   "metadata": {},
   "outputs": [],
   "source": [
    "first_fil = denis.new_fil(\"mes passions\",\"01012020\",\"J'aimerais mieux connaitre mes passions, avez vous des idées?\")"
   ]
  },
  {
   "cell_type": "code",
   "execution_count": 52,
   "metadata": {},
   "outputs": [
    {
     "data": {
      "text/plain": [
       "[user:<__main__.User object at 0x113af2a30> date:01012020 \n",
       "  fil de discussion: <__main__.Fil object at 0x112786eb0> content : \n",
       "  J'aimerais mieux connaitre mes passions, avez vous des idées?]"
      ]
     },
     "execution_count": 52,
     "metadata": {},
     "output_type": "execute_result"
    }
   ],
   "source": [
    "first_fil.collection_post"
   ]
  },
  {
   "cell_type": "code",
   "execution_count": 53,
   "metadata": {},
   "outputs": [],
   "source": [
    "jeanne = User(\"Jeanne\",\"1234\",\"jeanne@gmail.com\")"
   ]
  },
  {
   "cell_type": "code",
   "execution_count": 54,
   "metadata": {},
   "outputs": [],
   "source": [
    "jeanne.new_post(\"cherche au plus profond de toi\",\"lendemain\",first_fil,\"Gif\",\"the path\") "
   ]
  },
  {
   "cell_type": "code",
   "execution_count": 58,
   "metadata": {},
   "outputs": [
    {
     "data": {
      "text/plain": [
       "[user:<__main__.User object at 0x113af2a30> date:01012020 \n",
       "  fil de discussion: <__main__.Fil object at 0x112786eb0> content : \n",
       "  J'aimerais mieux connaitre mes passions, avez vous des idées?]"
      ]
     },
     "execution_count": 58,
     "metadata": {},
     "output_type": "execute_result"
    }
   ],
   "source": [
    "first_fil.collection_post"
   ]
  },
  {
   "cell_type": "code",
   "execution_count": 56,
   "metadata": {},
   "outputs": [],
   "source": [
    "anais = Moderateur(\"Anais\",\"12345\",\"ana@gmail.com\")"
   ]
  },
  {
   "cell_type": "code",
   "execution_count": 57,
   "metadata": {},
   "outputs": [],
   "source": [
    "anais.delete_post(first_fil,1)"
   ]
  },
  {
   "cell_type": "code",
   "execution_count": null,
   "metadata": {},
   "outputs": [],
   "source": []
  }
 ],
 "metadata": {
  "interpreter": {
   "hash": "949777d72b0d2535278d3dc13498b2535136f6dfe0678499012e853ee9abcab1"
  },
  "kernelspec": {
   "display_name": "Python 3.8.6 64-bit",
   "language": "python",
   "name": "python3"
  },
  "language_info": {
   "codemirror_mode": {
    "name": "ipython",
    "version": 3
   },
   "file_extension": ".py",
   "mimetype": "text/x-python",
   "name": "python",
   "nbconvert_exporter": "python",
   "pygments_lexer": "ipython3",
   "version": "3.8.6"
  },
  "orig_nbformat": 4
 },
 "nbformat": 4,
 "nbformat_minor": 2
}
