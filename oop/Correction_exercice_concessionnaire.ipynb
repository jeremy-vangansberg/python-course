{
 "cells": [
  {
   "cell_type": "code",
   "execution_count": 16,
   "metadata": {},
   "outputs": [],
   "source": [
    "class Voiture:\n",
    "    def __init__(self, marque, couleur, prix):\n",
    "        self.marque = marque\n",
    "        self.couleur = couleur\n",
    "        self.prix = prix\n",
    "\n",
    "    def __str__(self):\n",
    "        return f'{self.marque} {self.couleur} à {self.prix}'\n",
    "\n",
    "    def __repr__(self):\n",
    "        return f'{self.marque} {self.couleur} à {self.prix}'\n",
    "\n",
    "    def drive(self):\n",
    "        print(f\"je conduis ma super {self.marque}€\")"
   ]
  },
  {
   "cell_type": "code",
   "execution_count": 45,
   "metadata": {},
   "outputs": [],
   "source": [
    "class Magasin:\n",
    "    def __init__(self, nom):\n",
    "        self.nom = nom\n",
    "        self.inventaire = {}\n",
    "        self.stock = []\n",
    "\n",
    "    def ajout_voiture(self,voiture):\n",
    "        self.stock.append(str(voiture))\n",
    "        if voiture.marque not in self.inventaire:\n",
    "            self.inventaire[voiture.marque] = 0\n",
    "        self.inventaire[voiture.marque] += 1\n",
    "        print(f\"la {voiture.marque} a été ajoutée à l'inventaire\")\n",
    "\n",
    "    def delete_voiture(self,voiture):\n",
    "        self.stock.remove(str(voiture))\n",
    "        self.inventaire[voiture.marque] -= 1\n",
    "        print(f\"la {voiture.marque} a été retirée de l'inventaire\")\n",
    "\n"
   ]
  },
  {
   "cell_type": "code",
   "execution_count": 56,
   "metadata": {},
   "outputs": [
    {
     "name": "stdout",
     "output_type": "stream",
     "text": [
      "la Toyota a été ajoutée à l'inventaire\n",
      "la Toyota a été ajoutée à l'inventaire\n",
      "la Toyota a été ajoutée à l'inventaire\n",
      "la Toyota a été ajoutée à l'inventaire\n",
      "la BMW a été ajoutée à l'inventaire\n",
      "la BMW a été ajoutée à l'inventaire\n",
      "la Honda a été ajoutée à l'inventaire\n",
      "la Honda a été ajoutée à l'inventaire\n",
      "{'Toyota': 4, 'BMW': 2, 'Honda': 2}\n",
      "['Toyota rouge à 20000', 'Toyota bleue à 20000', 'Toyota noire à 20000', 'Toyota grise à 20000', 'BMW rouge à 20000', 'BMW kaki à 20000', 'Honda verte à 20000', 'Honda noire à 20000']\n"
     ]
    }
   ],
   "source": [
    "mon_magasin = Magasin(\"Simplon shop\")\n",
    "\n",
    "mon_magasin.ajout_voiture(Voiture(\"Toyota\",\"rouge\", 20000))\n",
    "mon_magasin.ajout_voiture(Voiture(\"Toyota\",\"bleue\", 20000))\n",
    "mon_magasin.ajout_voiture(Voiture(\"Toyota\",\"noire\", 20000))\n",
    "mon_magasin.ajout_voiture(Voiture(\"Toyota\",\"grise\", 20000))\n",
    "mon_magasin.ajout_voiture(Voiture(\"BMW\",\"rouge\", 20000))\n",
    "mon_magasin.ajout_voiture(Voiture(\"BMW\",\"kaki\", 20000))\n",
    "mon_magasin.ajout_voiture(Voiture(\"Honda\",\"verte\", 20000))\n",
    "mon_magasin.ajout_voiture(Voiture(\"Honda\",\"noire\", 20000))\n",
    "\n",
    "print(mon_magasin.inventaire)\n",
    "print(mon_magasin.stock)"
   ]
  },
  {
   "cell_type": "code",
   "execution_count": 44,
   "metadata": {},
   "outputs": [],
   "source": [
    "class Client:\n",
    "    def __init__(self, name, id, email):\n",
    "        self.name = name\n",
    "        self.id = id\n",
    "        self.email = email\n",
    "    \n"
   ]
  },
  {
   "cell_type": "code",
   "execution_count": 55,
   "metadata": {},
   "outputs": [],
   "source": [
    "class Vente:\n",
    "    def __init__(self,magasin,voiture,client,vendeur):\n",
    "        self.magasin = magasin\n",
    "        self.voiture =voiture\n",
    "        self.client = client\n",
    "        self.vendeur = vendeur\n",
    "    "
   ]
  },
  {
   "cell_type": "code",
   "execution_count": 53,
   "metadata": {},
   "outputs": [],
   "source": [
    "class Vendeur:\n",
    "    def __init__(self,name):\n",
    "        self.name = name\n",
    "        self.nb_vente = 0\n",
    "\n",
    "    @staticmethod\n",
    "    def checkstock(magasin,voiture):\n",
    "        return str(voiture) in magasin.stock\n",
    "\n",
    "    def creer_vente(self,magasin,voiture,client):\n",
    "        if self.checkstock(magasin,voiture):\n",
    "            self.nb_vente +=1\n",
    "            magasin.delete_voiture(voiture)\n",
    "            return Vente(magasin,voiture,client,self)\n",
    "        else:\n",
    "            print(\"la voiture n'est pas dans le stock, la vente ne peut être effectuée\")\n"
   ]
  },
  {
   "cell_type": "code",
   "execution_count": 57,
   "metadata": {},
   "outputs": [
    {
     "name": "stdout",
     "output_type": "stream",
     "text": [
      "la Honda a été retirée de l'inventaire\n"
     ]
    }
   ],
   "source": [
    "denis = Vendeur(\"Denis\")\n",
    "\n",
    "ma_vente = denis.creer_vente(mon_magasin,Voiture(\"Honda\",\"noire\",20000),Client(\"robert\",324342,\"rb@gmail.com\"))\n"
   ]
  },
  {
   "cell_type": "code",
   "execution_count": 60,
   "metadata": {},
   "outputs": [
    {
     "data": {
      "text/plain": [
       "{'Toyota': 4, 'BMW': 2, 'Honda': 1}"
      ]
     },
     "execution_count": 60,
     "metadata": {},
     "output_type": "execute_result"
    }
   ],
   "source": [
    "mon_magasin.inventaire"
   ]
  }
 ],
 "metadata": {
  "interpreter": {
   "hash": "949777d72b0d2535278d3dc13498b2535136f6dfe0678499012e853ee9abcab1"
  },
  "kernelspec": {
   "display_name": "Python 3.8.6 64-bit",
   "language": "python",
   "name": "python3"
  },
  "language_info": {
   "codemirror_mode": {
    "name": "ipython",
    "version": 3
   },
   "file_extension": ".py",
   "mimetype": "text/x-python",
   "name": "python",
   "nbconvert_exporter": "python",
   "pygments_lexer": "ipython3",
   "version": "3.8.6"
  },
  "orig_nbformat": 4
 },
 "nbformat": 4,
 "nbformat_minor": 2
}
