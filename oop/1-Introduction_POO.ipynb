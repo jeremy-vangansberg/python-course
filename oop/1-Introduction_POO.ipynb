{
 "cells": [
  {
   "cell_type": "markdown",
   "metadata": {},
   "source": [
    "# I Introduction"
   ]
  },
  {
   "cell_type": "markdown",
   "metadata": {},
   "source": [
    "## I.1 Vocabulaire"
   ]
  },
  {
   "cell_type": "markdown",
   "metadata": {},
   "source": [
    "Métaphore cullinère:\n",
    "- une classe : la recette du \"gateau\"\n",
    "- une instanciation de classe : la préparation d'un gateau à partir de la recette.\n",
    "- un objet ou une instance de classe : un gateau avec un cetain gout et un certain nombre de parts.\n",
    "\n",
    "On comprend qu'avec une recette on peut créer une infinité de gateaux.\n",
    "\n",
    "Une classe peut contenir:\n",
    "- des attributs\n",
    "- des méthodes"
   ]
  },
  {
   "cell_type": "markdown",
   "metadata": {},
   "source": [
    "Il est déja possible de représenter nos classes en [UML](https://drawio-app.com/uml-class-diagrams-in-draw-io/) à l'aide de [draw.io](https://app.diagrams.net/)"
   ]
  },
  {
   "cell_type": "markdown",
   "metadata": {},
   "source": [
    "![Introduction aux classes](img/First_class_diagram.drawio.png)"
   ]
  },
  {
   "cell_type": "markdown",
   "metadata": {},
   "source": [
    "## 1.2 Point Pep 8"
   ]
  },
  {
   "cell_type": "markdown",
   "metadata": {},
   "source": [
    "Comment nommer ce dont on se sert:\n",
    "- **`Class names`**: should normally use the CapWords convention.\n",
    "- **`Method names and attribute names`**  : Use the function naming rules: lowercase with words separated by underscores as necessary to improve readability."
   ]
  },
  {
   "cell_type": "markdown",
   "metadata": {},
   "source": [
    "##  I.3 Exercice sur draw.io: diagram de classes et d'objets en UML"
   ]
  },
  {
   "cell_type": "markdown",
   "metadata": {},
   "source": [
    "Comment représenter les différentes [associations](https://creately.com/blog/diagrams/class-diagram-relationships/) en UML?"
   ]
  },
  {
   "cell_type": "markdown",
   "metadata": {},
   "source": [
    "Exercice sur draw.io écrire les diagrammes des classes suivantes et imaginez deux de leurs instanciations:\n",
    "- voiture qui possède:\n",
    "   - une marque \n",
    "   - un prix \n",
    "   - une méthode pour calculé un prix après réduction\n",
    "- vendeur \n",
    "   - un nom\n",
    "   - un compteur de vente la possibilité de créer une vente\n",
    "   - une méthode pour augmenter de 1 son compteur quand il réalise une nouvelle vente\n",
    "- un magasin qui possède :\n",
    "   - un inventaire de voiture (liste)\n",
    "   - une liste de vendeurs\n",
    "   - un nom\n",
    "   - une méthode pour obtenir le nombre de voiture en fonction de la marque\n",
    "   - une méthode pour ajouter une voiture à l'inventaire\n",
    "   - une méthode pour retirer une voiture de l'inventaire\n",
    "   - une méthode pour ajouter un vendeur à la liste de vendeur\n",
    "   - une méthode pour retirer un vendeur à la liste de vendeur\n",
    "- client\n",
    "   - un nom\n",
    "   - un email\n",
    "- une vente (relié à un magasin, une voiture, un client, un vendeur)\n",
    "   - une méthode pour imprimer en pdf"
   ]
  },
  {
   "cell_type": "markdown",
   "metadata": {},
   "source": [
    "# II Coder ses premières classes et instances de classe"
   ]
  },
  {
   "cell_type": "markdown",
   "metadata": {},
   "source": [
    "## II.1 Coder les classes et les méthodes"
   ]
  },
  {
   "cell_type": "code",
   "execution_count": 11,
   "metadata": {},
   "outputs": [],
   "source": [
    "class Cake :\n",
    "\n",
    "    # on définit ensuite, le constructeur: l'ensemble des attributs d'instance\n",
    "    # le constructeur est lui même une méthode mais une méthode très particulière\n",
    "    def __init__(self, flavor, number_share):\n",
    "        \"\"\" Initialise les attributs\n",
    "\n",
    "        Args:\n",
    "            flavor ([type]): [description]\n",
    "            number_share ([type]): [description]\n",
    "        \"\"\"\n",
    "        self.flavor = flavor\n",
    "        self.number_share = number_share\n",
    "\n",
    "    # on définit ensuite les méthodes qui peuvent utiliser les attributs de classe et d'instance\n",
    "    def be_cut(self):\n",
    "        \"\"\" couper le gateau\"\"\"\n",
    "        print(\"the {} cake is now cut in {} shares\".format(self.flavor, self.number_share)) \n",
    "\n",
    "    def add_candles(self,candle):\n",
    "        \"\"\" ajoute des bougies au gateau\"\"\"\n",
    "        print(\"{} candles have been added on the {} cake\".format(candle, self.flavor))\n",
    "    "
   ]
  },
  {
   "cell_type": "code",
   "execution_count": 16,
   "metadata": {},
   "outputs": [
    {
     "name": "stdout",
     "output_type": "stream",
     "text": [
      "the banana cake is now cut in 10 share\n",
      "the carrot cake is now cut in 12 share\n",
      "18 candles have been added on the banana cake\n",
      "each share has\n"
     ]
    },
    {
     "data": {
      "text/plain": [
       "18"
      ]
     },
     "execution_count": 16,
     "metadata": {},
     "output_type": "execute_result"
    }
   ],
   "source": [
    "banana_cake = Cake(\"banana\",10)\n",
    "banana_cake.number_share\n",
    "\n",
    "\n",
    "carrot_cake = Cake(\"carrot\",12)\n",
    "carrot_cake.flavor\n",
    "\n",
    "banana_cake.be_cut()\n",
    "carrot_cake.be_cut()\n",
    "\n",
    "banana_cake.add_candles(18)"
   ]
  },
  {
   "cell_type": "code",
   "execution_count": 95,
   "metadata": {},
   "outputs": [
    {
     "name": "stdout",
     "output_type": "stream",
     "text": [
      "type(banana_cake)=<class '__main__.Cake'>\n",
      "banana_cake.flavor='banana'\n",
      "banana_number_share: 8\n",
      "the banana cake is now cut in 8 share\n",
      "8 candles have been added on the banana cake\n",
      "each share has\n"
     ]
    }
   ],
   "source": [
    "# On crée maintenant nos objets à partir de la classe définie plus haut\n",
    "\n",
    "# L'instanciation nécessite de définir les attributs d'instance (mais pas de classe)\n",
    "banana_cake = Cake(\"banana\",8)\n",
    "carrot_cake = Cake(\"carrot\",10)\n",
    "\n",
    "print(f\"{type(banana_cake)=}\" )\n",
    "print(f\"{banana_cake.flavor=}\")\n",
    "print(\"banana_number_share:\",banana_cake.number_share)\n",
    "\n",
    "# On peut appeler les méthodes, comme on l'a toujours fait\n",
    "banana_cake.be_cut()\n",
    "banana_cake.add_candles(8)"
   ]
  },
  {
   "cell_type": "markdown",
   "metadata": {},
   "source": [
    "**`Exercice 1`**:  \n",
    "Reprennez votre diagramme de class et coder les classes et les objets qui s'y trouvent"
   ]
  },
  {
   "cell_type": "markdown",
   "metadata": {},
   "source": [
    "## II.2 Les différents types d'attribut et de méthode"
   ]
  },
  {
   "cell_type": "markdown",
   "metadata": {},
   "source": [
    "En programmation orientée objet, il existe trois types d’attributs :\n",
    "- les attributs d’instance et les méthodes d'instance sont propres aux instances créées\n",
    "   - les méthodes d'instances sont les méthodes normales, on donne implicitement à celles-ci l'instance comme premier paramètre (self)\n",
    "- les attributs de classe (propres à la classe, et partagés entre les instances): Les attributs de classe sont souvent utilisés pour créer des données ou des actions globales à la classe, qui ne dépendent pas d’une instance. \n",
    "   - Elles peuvent être accédées par la classe, sans passer par l’instanciation. \n",
    "   - Les attributs de classe peuvent se référencer entre eux, mais ne peuvent pas accéder aux attributs d’instance.\n",
    "   - On donne implicitement aux méthodes de classe comme premier argument la classe elle-même (cls)\n",
    "- et les attributs statiques et les méthodes statiques sont presque indépendants de la classe, on ne les verra pas car il n'est pas conseillé de les utiliser, ils ont précédés de @staticmethod).\n",
    "   - On ne leur donne pas implicitement de premier paramètre\n",
    "\n",
    "Si chaque type d’attribut possède une utilité propre, essayez autant que possible de privilégier les attributs d’instance, qui permettent d’utiliser la programmation orientée objet à son plein potentiel.\n",
    "\n",
    "good to know:\n",
    "When you try to access an attribute from an instance of a class, it first looks at its instance namespace. If it finds the attribute, it returns the associated value. If not, it then looks in the class namespace and returns the attribute (if it’s present, throwing an error otherwise)"
   ]
  },
  {
   "cell_type": "code",
   "execution_count": 51,
   "metadata": {},
   "outputs": [],
   "source": [
    "class Pie:\n",
    "    \"\"\"Objet Cake qui permettra d'alimenter ma boulangerie\n",
    "    \"\"\"\n",
    "    # on crée les attributs de classe en dehors du constructeur\n",
    "    taste = \"good\"\n",
    "\n",
    "    def __init__(self, flavor,number_share):\n",
    "        \"\"\" Initialise les attributs\n",
    "\n",
    "        Args:\n",
    "            flavor ([type]): [description]\n",
    "            number_share ([type]): [description]\n",
    "        \"\"\"\n",
    "        self.flavor = flavor\n",
    "        self.number_share = number_share\n",
    "\n",
    "    def be_cut(self):\n",
    "        \"\"\" couper le gateau\"\"\"\n",
    "        print(\"the {} cake is now cut in {} share\".format(self.flavor, self.number_share)) \n",
    "\n",
    "    def add_candles(self,candle):\n",
    "        \"\"\" ajoute des bougies au gateau\"\"\"\n",
    "        print(\"{} candles have been added on the {} {} cake\".format(candle, self.__class__.taste,self.flavor))\n",
    "        print(\"each share has\") \n",
    "    \n",
    "\n",
    "    #on les utilise dans des méthodes de classe\n",
    "    @classmethod\n",
    "    def is_it_good(cls):\n",
    "        return cls.taste == \"good\"\n",
    "    \n",
    "    @staticmethod\n",
    "    def my_addition(a,b):\n",
    "        return a + b\n",
    "\n",
    "\n"
   ]
  },
  {
   "cell_type": "code",
   "execution_count": 53,
   "metadata": {},
   "outputs": [
    {
     "data": {
      "text/plain": [
       "15"
      ]
     },
     "execution_count": 53,
     "metadata": {},
     "output_type": "execute_result"
    }
   ],
   "source": [
    "apple_pie = Pie(\"apple\",10)\n",
    "apple_pie.flavor\n",
    "apple_pie.my_addition(7,8)\n"
   ]
  },
  {
   "cell_type": "code",
   "execution_count": 25,
   "metadata": {},
   "outputs": [
    {
     "data": {
      "text/plain": [
       "'good'"
      ]
     },
     "execution_count": 25,
     "metadata": {},
     "output_type": "execute_result"
    }
   ],
   "source": [
    "Pie.taste\n",
    "apple_pie = Pie(\"apple\",10)\n",
    "apple_pie.taste"
   ]
  },
  {
   "cell_type": "code",
   "execution_count": 30,
   "metadata": {},
   "outputs": [
    {
     "data": {
      "text/plain": [
       "True"
      ]
     },
     "execution_count": 30,
     "metadata": {},
     "output_type": "execute_result"
    }
   ],
   "source": [
    "Pie.taste\n",
    "Pie.is_it_good()\n",
    "apple_pie = Pie(\"apple\",10)\n",
    "apple_pie.is_it_good()\n"
   ]
  },
  {
   "cell_type": "code",
   "execution_count": 31,
   "metadata": {},
   "outputs": [
    {
     "name": "stdout",
     "output_type": "stream",
     "text": [
      "Pie.taste='good'\n",
      "Pie.is_it_good()=True\n",
      "apple_pie.taste='good'\n",
      "apple_pie.taste='bad'\n",
      "raspberry_pie.taste='good'\n",
      "raspberry_pie.taste='just okay'\n",
      "stawberry_pie.taste='just okay'\n",
      "apple_pie.taste='bad'\n"
     ]
    }
   ],
   "source": [
    "# On peut accéder aux variables de classe sans instanciation.\n",
    "print(f\"{Pie.taste=}\")\n",
    "print(f\"{Pie.is_it_good()=}\")\n",
    "\n",
    "# Les instances peuvent accéder à ces attributs:\n",
    "apple_pie = Pie(\"apple\",8)\n",
    "raspberry_pie = Pie(\"raspberry\",9)\n",
    "\n",
    "# modifier cette attribut ne fonctionnera que pour l'instance en question\n",
    "print(f\"{apple_pie.taste=}\")\n",
    "apple_pie.taste = \"bad\"\n",
    "print(f\"{apple_pie.taste=}\")\n",
    "print(f\"{raspberry_pie.taste=}\")\n",
    "\n",
    "# On peut changer cette valeur pour toutes les instances\n",
    "Pie.taste = \"just okay\"\n",
    "\n",
    "# Cela modifie automatiquement toutes les instances\n",
    "print(f\"{raspberry_pie.taste=}\")\n",
    "\n",
    "# Y compris les nouvelles crées\n",
    "stawberry_pie = Pie(\"stawberry\",8)\n",
    "print(f\"{stawberry_pie.taste=}\")\n",
    "\n",
    "# Par contre quand on a modifié la valeur de taste pour apple, on l'a part la meme occasion transformé\n",
    "# en attribut d'instance d'apple. Il ne peut donc plus être modifié.\n",
    "print(f\"{apple_pie.taste=}\")\n"
   ]
  },
  {
   "cell_type": "code",
   "execution_count": 50,
   "metadata": {},
   "outputs": [
    {
     "name": "stdout",
     "output_type": "stream",
     "text": [
      "{'flavor': 'apple', 'number_share': 8, 'taste': 'bad'}\n",
      "{'__module__': '__main__', '__doc__': \"Objet Cake qui permettra d'alimenter ma boulangerie\\n    \", 'taste': 'good', '__init__': <function Pie.__init__ at 0x10d7fe790>, 'be_cut': <function Pie.be_cut at 0x10d7fe670>, 'add_candles': <function Pie.add_candles at 0x10d7fe550>, 'is_it_good': <classmethod object at 0x10d7fbd30>, 'my_addition': <staticmethod object at 0x10d7fbd00>, '__dict__': <attribute '__dict__' of 'Pie' objects>, '__weakref__': <attribute '__weakref__' of 'Pie' objects>}\n",
      "{'__module__': '__main__', '__doc__': \"Objet Cake qui permettra d'alimenter ma boulangerie\\n    \", 'taste': 'good', '__init__': <function Pie.__init__ at 0x10d7fe790>, 'be_cut': <function Pie.be_cut at 0x10d7fe670>, 'add_candles': <function Pie.add_candles at 0x10d7fe550>, 'is_it_good': <classmethod object at 0x10d7fbd30>, 'my_addition': <staticmethod object at 0x10d7fbd00>, '__dict__': <attribute '__dict__' of 'Pie' objects>, '__weakref__': <attribute '__weakref__' of 'Pie' objects>}\n"
     ]
    }
   ],
   "source": [
    "apple_pie = Pie(\"apple\",8)\n",
    "\n",
    "apple_pie.taste = \"bad\"\n",
    "\n",
    "print(apple_pie.__dict__)\n",
    "print(apple_pie.__class__.__dict__)\n",
    "print(Pie.__dict__)"
   ]
  },
  {
   "cell_type": "markdown",
   "metadata": {},
   "source": [
    "**`Exercice`**\n",
    "- Créer des classes: boite à outils, marteau, tournevis, clou, visse \n",
    "- Instanciez une boîte à outils, un tournevis, et un marteau.\n",
    "- Placez le marteau et le tournevis dans la boîte à outils.\n",
    "- Instanciez une visse, et serrez-la avec le tournevis. Affichez la vis avant et après avoir été serrée.\n",
    "- Instanciez un clou, puis enfoncez-le avec le marteau. Affichez le clou avant et après avoir été enfoncé.\n",
    "- Une boite à outil possède 5 emplacements. (classe attributs)\n",
    "- Régulièrement le constructeur des boites à outils sort un nouveau modèle qui permet d'etendre la capacité des boites à outils de 1 emplacement.\n",
    "\n",
    "Pour chaque classe vous devez définir les attributs et les méthodes qui permettront d'éxecuter et de rapporter dans le terminal ces actions et ces états."
   ]
  },
  {
   "cell_type": "markdown",
   "metadata": {},
   "source": [
    "# III L'héritage"
   ]
  },
  {
   "cell_type": "markdown",
   "metadata": {},
   "source": [
    "## III.1 La notion d'héritage"
   ]
  },
  {
   "cell_type": "markdown",
   "metadata": {},
   "source": [
    "Le grand avantage des classes c'est l'héritage.\n",
    "\n",
    "L'héritage consiste à créer une classe enfant à partir d'une classe parent.\n",
    "La classe enfant récupère toutes les méthodes de la classe parent et tous les attributs de classe"
   ]
  },
  {
   "cell_type": "markdown",
   "metadata": {},
   "source": [
    "![title](img/Class_heritage.drawio.png)"
   ]
  },
  {
   "cell_type": "markdown",
   "metadata": {},
   "source": [
    "Pourquoi l’héritage ?\n",
    "- **`La réutilisabilité`**: quand on veut écrire plusieurs classes proches, il faut créer une classe parente et ensuite facilement créer les classes enfants. Pour modifier une méthode existante dans toutes les classes, il ne faudra plus que la changer à un endroit."
   ]
  },
  {
   "cell_type": "markdown",
   "metadata": {},
   "source": [
    "**'Exercice'** Ecrire le diagramme de classe correspondant au cas suivant:\n",
    "Fort de votre expérience en pâtisserie, vous décidez de créer un forum en ligne pour parler de gâteaux ! \n",
    "- Vous devez définir et instancier trois classes: Utilisateurs (et ses héritiers), fil de discussion et post (et ses héritiers)\n",
    "\n",
    "\n",
    "Sur ce forum\n",
    "- les utilisateurs fans de pâtisserie pourront : s’inscrire et se connecter ;\n",
    "- parler de leurs gâteaux préférés, en créant de nouveaux fils de discussion ;\n",
    "- répondre à des messages, dans les fils existants.\n",
    "- Un fil de discussion sur ce forum a un titre, une date de création et une collection de posts lui correspondant.\n",
    "- Chaque post contient du texte, l’utilisateur qui l’a publié et la date de publication.\n",
    "- Les utilisateurs ont la possibilité d’attacher des fichiers à leurs posts :\n",
    "- Partez du principe qu’il peut y avoir de nombreux types de fichiers, mais nous sommes surtout intéressés par les fichiers images (GIF ou JPEP).\n",
    "- Un post peut avoir un fichier attaché, ce qui changera la façon dont le post est affiché. Ce serait donc un nouveau type de post.\n",
    "- Enfin, il y a des utilisateurs spéciaux nommés modérateurs, qui ont la capacité de modifier un post pour qu’il contienne du contenu nouveau, et de supprimer ceux qui ne parlent pas de gâteaux. ;)\n",
    "\n"
   ]
  },
  {
   "cell_type": "markdown",
   "metadata": {},
   "source": [
    "Comment représenter les différentes [associations](https://creately.com/blog/diagrams/class-diagram-relationships/) en UML?"
   ]
  },
  {
   "cell_type": "markdown",
   "metadata": {},
   "source": [
    "## III.2 Coder ses classes héritées"
   ]
  },
  {
   "cell_type": "code",
   "execution_count": 73,
   "metadata": {},
   "outputs": [],
   "source": [
    "# Exemple\n",
    "\n",
    "class Stylo:\n",
    "    \"\"\" Classe stylo\"\"\"\n",
    "    tient_dans_une_trousse = True\n",
    "    \n",
    "    def __init__(self,couleur,taille):\n",
    "        self.couleur = couleur\n",
    "        self.taille = taille\n",
    "    \n",
    "    def ecrire(self,content):\n",
    "        print(f'J\\'écris {content} avec mon stylo {self.couleur}')"
   ]
  },
  {
   "cell_type": "code",
   "execution_count": null,
   "metadata": {},
   "outputs": [],
   "source": [
    "dir(object)"
   ]
  },
  {
   "cell_type": "code",
   "execution_count": 56,
   "metadata": {},
   "outputs": [
    {
     "name": "stdout",
     "output_type": "stream",
     "text": [
      "J'écris un truc avec mon stylo noir\n"
     ]
    }
   ],
   "source": [
    "bic = Stylo(\"noir\",10)\n",
    "bic.ecrire(\"un truc\")"
   ]
  },
  {
   "cell_type": "code",
   "execution_count": 71,
   "metadata": {},
   "outputs": [],
   "source": [
    "class StyloPlume(Stylo):\n",
    "    fais_des_tache = True\n",
    "    \n",
    "    def __init__(self, couleur, taille, type_cartouche):\n",
    "        self.couleur = couleur\n",
    "        self.taille = taille\n",
    "        self.type_cartouche = type_cartouche\n",
    "    \n",
    "\n",
    "\n"
   ]
  },
  {
   "cell_type": "code",
   "execution_count": 72,
   "metadata": {},
   "outputs": [
    {
     "name": "stdout",
     "output_type": "stream",
     "text": [
      "J'écris un contenu avec mon stylo rouge\n"
     ]
    },
    {
     "data": {
      "text/plain": [
       "True"
      ]
     },
     "execution_count": 72,
     "metadata": {},
     "output_type": "execute_result"
    }
   ],
   "source": [
    "ma_plume = StyloPlume(\"rouge\",10,\"parker\")\n",
    "ma_plume.ecrire(\"un contenu\")\n",
    "ma_plume.fais_des_tache"
   ]
  },
  {
   "cell_type": "code",
   "execution_count": 61,
   "metadata": {},
   "outputs": [
    {
     "data": {
      "text/plain": [
       "'rouge'"
      ]
     },
     "execution_count": 61,
     "metadata": {},
     "output_type": "execute_result"
    }
   ],
   "source": [
    "ma_plume = StyloPlume(\"rouge\",10,\"parker\")\n",
    "ma_plume.couleur"
   ]
  },
  {
   "cell_type": "code",
   "execution_count": 62,
   "metadata": {},
   "outputs": [
    {
     "name": "stdout",
     "output_type": "stream",
     "text": [
      "voici ce que j'écris : un contenu\n"
     ]
    }
   ],
   "source": [
    "ma_plume.ecrire(\"un contenu\")"
   ]
  },
  {
   "cell_type": "code",
   "execution_count": 9,
   "metadata": {},
   "outputs": [
    {
     "data": {
      "text/plain": [
       "True"
      ]
     },
     "execution_count": 9,
     "metadata": {},
     "output_type": "execute_result"
    }
   ],
   "source": [
    "ma_plume.tient_dans_une_trousse"
   ]
  },
  {
   "cell_type": "markdown",
   "metadata": {},
   "source": [
    "## III.3 Surcharger une méthode et utilisation de super()"
   ]
  },
  {
   "cell_type": "markdown",
   "metadata": {},
   "source": [
    "Surcharger une méthode consiste à définir à nouveau une méthode existant dans la classe parent dans la classe enfant.\n",
    "\n",
    "C'est la définition dans la classe enfant qui l'emportera"
   ]
  },
  {
   "cell_type": "code",
   "execution_count": 76,
   "metadata": {},
   "outputs": [],
   "source": [
    "class StyloPlume(Stylo):\n",
    "    \"\"\" Classe stylo\"\"\"\n",
    "    def __init__(self, couleur, type_cartouche):\n",
    "        self.couleur = couleur\n",
    "        self.type_cartouche = type_cartouche\n",
    "\n",
    "    def ecrire(self,content):\n",
    "        print(f'J\\'écris {content} avec mon stylo PLUME {self.couleur}')\n",
    "\n",
    "    def ecrire_old(self,content):\n",
    "        super().ecrire(content)"
   ]
  },
  {
   "cell_type": "code",
   "execution_count": 77,
   "metadata": {},
   "outputs": [
    {
     "name": "stdout",
     "output_type": "stream",
     "text": [
      "J'écris autre chose avec mon stylo PLUME bleu\n"
     ]
    }
   ],
   "source": [
    "StyloPlume(\"bleu\",\"parker\").ecrire(\"autre chose\")"
   ]
  },
  {
   "cell_type": "code",
   "execution_count": 78,
   "metadata": {},
   "outputs": [
    {
     "name": "stdout",
     "output_type": "stream",
     "text": [
      "J'écris autre chose avec mon stylo bleu\n"
     ]
    }
   ],
   "source": [
    "StyloPlume(\"bleu\",\"parker\").ecrire_old(\"autre chose\")"
   ]
  },
  {
   "cell_type": "markdown",
   "metadata": {},
   "source": [
    "On peut également si on le souhaite réutiliser une classe parente surcharger à l'aide de super()"
   ]
  },
  {
   "cell_type": "code",
   "execution_count": 112,
   "metadata": {},
   "outputs": [],
   "source": [
    "class StyloBic(Stylo):\n",
    "    \"\"\" Classe stylo\"\"\"\n",
    "    def __init__(self, couleur,marque):\n",
    "        super().__init__(couleur) #Quand il y a beaucoup d'argument ça devient utile\n",
    "        self.marque = marque\n",
    "\n",
    "    def ecrire(self,content):\n",
    "        print(f'J\\'écris {content} avec mon stylo BIC {self.couleur}')"
   ]
  },
  {
   "cell_type": "code",
   "execution_count": 113,
   "metadata": {},
   "outputs": [],
   "source": [
    "mon_stylo_bic = StyloBic(\"rouge\",\"bic\")"
   ]
  },
  {
   "cell_type": "code",
   "execution_count": 114,
   "metadata": {},
   "outputs": [
    {
     "data": {
      "text/plain": [
       "'rouge'"
      ]
     },
     "execution_count": 114,
     "metadata": {},
     "output_type": "execute_result"
    }
   ],
   "source": [
    "mon_stylo_bic.couleur"
   ]
  },
  {
   "cell_type": "markdown",
   "metadata": {},
   "source": [
    "**`Exercice 1`**\n",
    "\n",
    "Coder le diagramme de classe que vous vennez d'écrire "
   ]
  },
  {
   "cell_type": "markdown",
   "metadata": {},
   "source": [
    "**`Exercice 2`**:\n",
    "\n",
    "Réaliser la série d'exercices [suivante](https://holypython.com/advanced-python-exercises/exercise-5-inheritence/)\n"
   ]
  },
  {
   "cell_type": "markdown",
   "metadata": {},
   "source": [
    "**`Exercice 3`**:\n",
    "\n",
    "Réaliser la série d'exercices suivants sur [codewars](https://www.codewars.com/collections/python-classes-5)"
   ]
  },
  {
   "cell_type": "markdown",
   "metadata": {},
   "source": [
    "# IV Encapsulation"
   ]
  },
  {
   "cell_type": "markdown",
   "metadata": {},
   "source": [
    "## IV.1 Les attibuts protégés"
   ]
  },
  {
   "cell_type": "markdown",
   "metadata": {},
   "source": [
    "Les attributs protégés sont des attributs qu'on ne peut pas appeler en dehors de la classe. Ils ne sont accessible qu'au sein de la classe et dans les sous classes.\n",
    "\n",
    "Les attributs protégés existent dans différents langages (jave, C++) mais sont un peu particuliers en python"
   ]
  },
  {
   "cell_type": "code",
   "execution_count": 87,
   "metadata": {},
   "outputs": [],
   "source": [
    "class Profil:\n",
    "    def __init__(self,name):\n",
    "        self.name = name\n",
    "        # les attributs protégés sont caractérisés par un \"_\" avant leurs noms\n",
    "        self.password = \"pass\"\n",
    "\n",
    "    # généralement on y accède au moyen de méthodes spécifique:\n",
    "    def setPassword(self,password):\n",
    "        if len(password)>=8:\n",
    "            self.password = password\n",
    "        else:\n",
    "            print(\"mot de passe pas assez secure: len> 8 exigée\")\n",
    "\n",
    "    def getPassword(self):\n",
    "        return self.password"
   ]
  },
  {
   "cell_type": "code",
   "execution_count": 93,
   "metadata": {},
   "outputs": [
    {
     "data": {
      "text/plain": [
       "'1234'"
      ]
     },
     "execution_count": 93,
     "metadata": {},
     "output_type": "execute_result"
    }
   ],
   "source": [
    "charles = Profil(\"charles\")\n",
    "charles.password\n",
    "charles.setPassword(\"12345678\")\n",
    "\n",
    "charles.password = \"1234\"\n",
    "charles.password"
   ]
  },
  {
   "cell_type": "code",
   "execution_count": 99,
   "metadata": {},
   "outputs": [],
   "source": [
    "class Profil:\n",
    "    def __init__(self,name):\n",
    "        self.name = name\n",
    "        # les attributs protégés sont caractérisés par un \"_\" avant leurs noms\n",
    "        self._password = \"pass\"\n",
    "\n",
    "    # généralement on y accède au moyen de méthodes spécifique:\n",
    "    def setPassword(self,password):\n",
    "        if len(password)>=8:\n",
    "            self._password = password\n",
    "\n",
    "    def getPassword(self):\n",
    "        return self._password[0:3] + \"*****\""
   ]
  },
  {
   "cell_type": "code",
   "execution_count": 111,
   "metadata": {},
   "outputs": [
    {
     "data": {
      "text/plain": [
       "'123*****'"
      ]
     },
     "execution_count": 111,
     "metadata": {},
     "output_type": "execute_result"
    }
   ],
   "source": [
    "mon_profil = Profil(\"charles\")\n",
    "\n",
    "mon_profil.setPassword(\"12345678\")\n",
    "\n",
    "\n",
    "mon_profil._password\n",
    "mon_profil.getPassword()\n"
   ]
  },
  {
   "cell_type": "code",
   "execution_count": 109,
   "metadata": {},
   "outputs": [
    {
     "data": {
      "text/plain": [
       "{'name': 'charles', '_password': '12345678', 'password': '888'}"
      ]
     },
     "execution_count": 109,
     "metadata": {},
     "output_type": "execute_result"
    }
   ],
   "source": [
    "mon_profil.__dict__"
   ]
  },
  {
   "cell_type": "code",
   "execution_count": 118,
   "metadata": {},
   "outputs": [
    {
     "data": {
      "text/plain": [
       "'1234567809'"
      ]
     },
     "execution_count": 118,
     "metadata": {},
     "output_type": "execute_result"
    }
   ],
   "source": [
    "my_profil=Profil(\"Charles\")\n",
    "my_profil.setPassword(\"1234567809\")\n",
    "my_profil.getPassword()\n"
   ]
  },
  {
   "cell_type": "code",
   "execution_count": 96,
   "metadata": {},
   "outputs": [
    {
     "name": "stdout",
     "output_type": "stream",
     "text": [
      "trynew\n"
     ]
    }
   ],
   "source": [
    "# Théoriquement, le code suivant ne devrait pas marcher:\n",
    "my_profil._password = \"trynew\"\n",
    "print(my_profil._password)"
   ]
  },
  {
   "cell_type": "code",
   "execution_count": 46,
   "metadata": {},
   "outputs": [
    {
     "data": {
      "text/plain": [
       "{'name': 'charles', '_password': 8}"
      ]
     },
     "execution_count": 46,
     "metadata": {},
     "output_type": "execute_result"
    }
   ],
   "source": [
    "# remarque\n",
    "# On retrouve dans le dictionnaire d'attribut _password, c'est pour cela qu'on peut y accéder de l'extérieur\n",
    "mon_profil.__dict__"
   ]
  },
  {
   "cell_type": "markdown",
   "metadata": {},
   "source": [
    "Cependant ça marche, le \"_\" est juste une convention qui dit qu'on déconseille d'accéder à cet élément en dehors de ma classe mais on peut néanmoins le faire sans obtenir d'erreur.\n",
    "\n",
    "Par contre, comme dit précédement, on peut accéder aux attributs protégé depuis une classe fille."
   ]
  },
  {
   "cell_type": "code",
   "execution_count": 114,
   "metadata": {},
   "outputs": [],
   "source": [
    "class Compte(Profil):\n",
    "    def __init__(self, name):\n",
    "        super().__init__(name)\n",
    "\n",
    "    def getPassword(self):\n",
    "        return self._password"
   ]
  },
  {
   "cell_type": "code",
   "execution_count": 115,
   "metadata": {},
   "outputs": [
    {
     "data": {
      "text/plain": [
       "'pass'"
      ]
     },
     "execution_count": 115,
     "metadata": {},
     "output_type": "execute_result"
    }
   ],
   "source": [
    "mon_compte = Compte(\"C.Ben\")\n",
    "mon_compte.getPassword()"
   ]
  },
  {
   "cell_type": "code",
   "execution_count": 123,
   "metadata": {},
   "outputs": [
    {
     "data": {
      "text/plain": [
       "{'name': 'C.Ben', '_password': 'pass'}"
      ]
     },
     "execution_count": 123,
     "metadata": {},
     "output_type": "execute_result"
    }
   ],
   "source": [
    "# remarque\n",
    "# On retrouve dans le dictionnaire d'attribut _password, c'est pour cela qu'on peut y accéder de l'extérieur\n",
    "mon_compte.__dict__"
   ]
  },
  {
   "cell_type": "markdown",
   "metadata": {},
   "source": [
    "L'idée des attributs protégés c'est qu'on veut forcer l'utilisateur à y accéder via les methodes set, del et get définies dans la classe et qui vont poser des restrictions."
   ]
  },
  {
   "cell_type": "markdown",
   "metadata": {},
   "source": [
    "## IV.2 Les attributs privés"
   ]
  },
  {
   "cell_type": "markdown",
   "metadata": {},
   "source": [
    "Les attributs privés ne peuvent être appelés qu'au sein de la classe. Ils sont caractérisés par des doubles underscore (dunders) \"__\""
   ]
  },
  {
   "cell_type": "code",
   "execution_count": 132,
   "metadata": {},
   "outputs": [],
   "source": [
    "class Profil2:\n",
    "    \n",
    "    __private_classe_attribut = 8\n",
    "    \n",
    "    def __init__(self,name):\n",
    "        self.name = name\n",
    "        # les attributs protégés sont caractérisés par un \"_\" avant leurs noms\n",
    "        self.__password = \"pass\"\n",
    "\n",
    "    # généralement on y accède au moyen de méthodes spécifique:\n",
    "    def setPassword(self,password):\n",
    "        self.__password = password\n",
    "\n",
    "    def getPassword(self):\n",
    "        return self.__password"
   ]
  },
  {
   "cell_type": "code",
   "execution_count": 119,
   "metadata": {},
   "outputs": [
    {
     "name": "stdout",
     "output_type": "stream",
     "text": [
      "pass\n"
     ]
    },
    {
     "data": {
      "text/plain": [
       "'1234'"
      ]
     },
     "execution_count": 119,
     "metadata": {},
     "output_type": "execute_result"
    }
   ],
   "source": [
    "# Pas de soucis, on peut toujours y accéder au sein de la classe\n",
    "my_profil2=Profil2(\"Charles\")\n",
    "print(my_profil2.getPassword())\n",
    "my_profil2.setPassword(\"1234\")\n",
    "my_profil2.getPassword()\n"
   ]
  },
  {
   "cell_type": "code",
   "execution_count": 127,
   "metadata": {},
   "outputs": [
    {
     "ename": "AttributeError",
     "evalue": "'Profil2' object has no attribute '__password'",
     "output_type": "error",
     "traceback": [
      "\u001b[0;31m---------------------------------------------------------------------------\u001b[0m",
      "\u001b[0;31mAttributeError\u001b[0m                            Traceback (most recent call last)",
      "\u001b[0;32m/var/folders/py/4rt338cj1ks4z3332m7l3f880000gp/T/ipykernel_1880/3176204372.py\u001b[0m in \u001b[0;36m<module>\u001b[0;34m\u001b[0m\n\u001b[1;32m      1\u001b[0m \u001b[0;31m# Mais ça ne marche plus\u001b[0m\u001b[0;34m\u001b[0m\u001b[0;34m\u001b[0m\u001b[0m\n\u001b[0;32m----> 2\u001b[0;31m \u001b[0mmy_profil2\u001b[0m\u001b[0;34m.\u001b[0m\u001b[0m__password\u001b[0m\u001b[0;34m\u001b[0m\u001b[0;34m\u001b[0m\u001b[0m\n\u001b[0m\u001b[1;32m      3\u001b[0m \u001b[0;31m#my_profil2.__private_classe_attribut\u001b[0m\u001b[0;34m\u001b[0m\u001b[0;34m\u001b[0m\u001b[0m\n",
      "\u001b[0;31mAttributeError\u001b[0m: 'Profil2' object has no attribute '__password'"
     ]
    }
   ],
   "source": [
    "# Mais ça ne marche plus\n",
    "my_profil2.__password\n",
    "#my_profil2.__private_classe_attribut"
   ]
  },
  {
   "cell_type": "code",
   "execution_count": 131,
   "metadata": {},
   "outputs": [
    {
     "data": {
      "text/plain": [
       "{'name': 'Charles', '_Profil2__password': 2}"
      ]
     },
     "execution_count": 131,
     "metadata": {},
     "output_type": "execute_result"
    }
   ],
   "source": [
    "# remarque\n",
    "# On ne trouve pas dans le dictionnaire d'attribut __password, alors meme qu'on le manipule dans la fonction getPassword\n",
    "my_profil2.__dict__\n",
    "\n",
    "# On trouve _Profil2__password mais les gens respectables ne manipulent pas ce genre de chose.\n"
   ]
  },
  {
   "cell_type": "code",
   "execution_count": 133,
   "metadata": {},
   "outputs": [
    {
     "data": {
      "text/plain": [
       "mappingproxy({'__module__': '__main__',\n",
       "              '_Profil2__private_classe_attribut': 8,\n",
       "              '__init__': <function __main__.Profil2.__init__(self, name)>,\n",
       "              'setPassword': <function __main__.Profil2.setPassword(self, password)>,\n",
       "              'getPassword': <function __main__.Profil2.getPassword(self)>,\n",
       "              '__dict__': <attribute '__dict__' of 'Profil2' objects>,\n",
       "              '__weakref__': <attribute '__weakref__' of 'Profil2' objects>,\n",
       "              '__doc__': None})"
      ]
     },
     "execution_count": 133,
     "metadata": {},
     "output_type": "execute_result"
    }
   ],
   "source": [
    "# remarque\n",
    "# Il en est de même pour l'attribut de classe __private_classe_attribut\n",
    "my_profil2.__class__.__dict__"
   ]
  },
  {
   "cell_type": "code",
   "execution_count": 134,
   "metadata": {},
   "outputs": [],
   "source": [
    "class Compte2(Profil2):\n",
    "    def __init__(self, name):\n",
    "        super().__init__(name)\n",
    "\n",
    "    def getPassword(self):\n",
    "        return self.__password\n",
    "    \n",
    "    def getPrivate_herited(self):\n",
    "        return self.__private_classe_attribut"
   ]
  },
  {
   "cell_type": "code",
   "execution_count": 135,
   "metadata": {},
   "outputs": [],
   "source": [
    "mon_compte2 = Compte2(\"C.Ben\")"
   ]
  },
  {
   "cell_type": "code",
   "execution_count": 136,
   "metadata": {},
   "outputs": [
    {
     "ename": "AttributeError",
     "evalue": "'Compte2' object has no attribute '_Compte2__password'",
     "output_type": "error",
     "traceback": [
      "\u001b[0;31m---------------------------------------------------------------------------\u001b[0m",
      "\u001b[0;31mAttributeError\u001b[0m                            Traceback (most recent call last)",
      "\u001b[0;32m/var/folders/py/4rt338cj1ks4z3332m7l3f880000gp/T/ipykernel_1880/4036005713.py\u001b[0m in \u001b[0;36m<module>\u001b[0;34m\u001b[0m\n\u001b[1;32m      1\u001b[0m \u001b[0;31m# mais ceci n'est plus possible\u001b[0m\u001b[0;34m\u001b[0m\u001b[0;34m\u001b[0m\u001b[0m\n\u001b[0;32m----> 2\u001b[0;31m \u001b[0mmon_compte2\u001b[0m\u001b[0;34m.\u001b[0m\u001b[0mgetPassword\u001b[0m\u001b[0;34m(\u001b[0m\u001b[0;34m)\u001b[0m\u001b[0;34m\u001b[0m\u001b[0;34m\u001b[0m\u001b[0m\n\u001b[0m\u001b[1;32m      3\u001b[0m \u001b[0;31m#mon_compte2.getPrivate_herited()\u001b[0m\u001b[0;34m\u001b[0m\u001b[0;34m\u001b[0m\u001b[0m\n",
      "\u001b[0;32m/var/folders/py/4rt338cj1ks4z3332m7l3f880000gp/T/ipykernel_1880/3881013715.py\u001b[0m in \u001b[0;36mgetPassword\u001b[0;34m(self)\u001b[0m\n\u001b[1;32m      4\u001b[0m \u001b[0;34m\u001b[0m\u001b[0m\n\u001b[1;32m      5\u001b[0m     \u001b[0;32mdef\u001b[0m \u001b[0mgetPassword\u001b[0m\u001b[0;34m(\u001b[0m\u001b[0mself\u001b[0m\u001b[0;34m)\u001b[0m\u001b[0;34m:\u001b[0m\u001b[0;34m\u001b[0m\u001b[0;34m\u001b[0m\u001b[0m\n\u001b[0;32m----> 6\u001b[0;31m         \u001b[0;32mreturn\u001b[0m \u001b[0mself\u001b[0m\u001b[0;34m.\u001b[0m\u001b[0m__password\u001b[0m\u001b[0;34m\u001b[0m\u001b[0;34m\u001b[0m\u001b[0m\n\u001b[0m\u001b[1;32m      7\u001b[0m \u001b[0;34m\u001b[0m\u001b[0m\n\u001b[1;32m      8\u001b[0m     \u001b[0;32mdef\u001b[0m \u001b[0mgetPrivate_herited\u001b[0m\u001b[0;34m(\u001b[0m\u001b[0mself\u001b[0m\u001b[0;34m)\u001b[0m\u001b[0;34m:\u001b[0m\u001b[0;34m\u001b[0m\u001b[0;34m\u001b[0m\u001b[0m\n",
      "\u001b[0;31mAttributeError\u001b[0m: 'Compte2' object has no attribute '_Compte2__password'"
     ]
    }
   ],
   "source": [
    "# mais ceci n'est plus possible\n",
    "mon_compte2.getPassword()\n",
    "#mon_compte2.getPrivate_herited()"
   ]
  },
  {
   "cell_type": "code",
   "execution_count": 116,
   "metadata": {},
   "outputs": [
    {
     "data": {
      "text/plain": [
       "{'name': 'C.Ben', '_Profil2__password': 'pass'}"
      ]
     },
     "execution_count": 116,
     "metadata": {},
     "output_type": "execute_result"
    }
   ],
   "source": [
    "# On remarque que dans le dict, l'attribut s'appelle _Profil2__password et non pas Compte2__password\n",
    "mon_compte2.__dict__"
   ]
  },
  {
   "cell_type": "markdown",
   "metadata": {},
   "source": [
    "## IV.3 Les méthodes privées"
   ]
  },
  {
   "cell_type": "markdown",
   "metadata": {},
   "source": [
    "**`Exercice user_creation`**\n",
    "\n",
    "- créer une classe user avec un attribut publique \"profil\", des attribut protégés \"password\" et \"user_name\" et un attribut privée \"validation_code\"\n",
    "- créer des méthodes publiques \"set_password\", \"get_password\" et \"get_user_name\"\n",
    "- créer une méthode publique \"set_username\" qui prend comme argument un code et un nouveau user name. Cette méthode fait appelle à une autre méthode, privée cette fois qui compare le code avec le code de validation. Si le code correspond au validation_code alors le changement est réalisé.\n"
   ]
  },
  {
   "cell_type": "markdown",
   "metadata": {},
   "source": [
    "# V Usages avancés"
   ]
  },
  {
   "cell_type": "markdown",
   "metadata": {},
   "source": [
    "## V.1 Le décorateur: @Property"
   ]
  },
  {
   "cell_type": "markdown",
   "metadata": {},
   "source": [
    "Les attributs protégés c'est bien mais c'est peu maintenable."
   ]
  },
  {
   "cell_type": "code",
   "execution_count": 122,
   "metadata": {},
   "outputs": [],
   "source": [
    "# Supposons le code suivant:\n",
    "class Celsius:\n",
    "    def __init__(self, temperature:int = 0):\n",
    "        self.temperature = temperature\n",
    "\n",
    "    def to_fahrenheit(self):\n",
    "        return (self.temperature * 1.8) + 32"
   ]
  },
  {
   "cell_type": "markdown",
   "metadata": {},
   "source": [
    "Dans une mise à jour de notre code, on veut empecher la création de températures inférieures à -273.15 degré. Ces restrictions il va falloir les inscrires dans une méthode setter et faire en sorte que la seule manière de définir la température, ce soit par ce moyen setter. On transforme donc temperature en attribut protégé"
   ]
  },
  {
   "cell_type": "code",
   "execution_count": 37,
   "metadata": {},
   "outputs": [],
   "source": [
    "# Making Getters and Setter methods\n",
    "class Celsius:\n",
    "    def __init__(self, temperature=0):\n",
    "        self.set_temperature(temperature)\n",
    "\n",
    "    def to_fahrenheit(self):\n",
    "        return (self.get_temperature() * 1.8) + 32\n",
    "\n",
    "    # getter method\n",
    "    def get_temperature(self):\n",
    "        return self._temperature\n",
    "\n",
    "    # setter method\n",
    "    def set_temperature(self, value):\n",
    "        if value < -273.15:\n",
    "            raise ValueError(\"Temperature below -273.15 is not possible.\")\n",
    "        self._temperature = value"
   ]
  },
  {
   "cell_type": "code",
   "execution_count": 38,
   "metadata": {},
   "outputs": [],
   "source": [
    "temperature = Celsius(7.2)"
   ]
  },
  {
   "cell_type": "code",
   "execution_count": 34,
   "metadata": {},
   "outputs": [
    {
     "name": "stdout",
     "output_type": "stream",
     "text": [
      "Help on method set_temperature in module __main__:\n",
      "\n",
      "set_temperature(value) method of __main__.Celsius instance\n",
      "    # setter method\n",
      "\n"
     ]
    }
   ],
   "source": [
    "help(temperature.set_temperature)"
   ]
  },
  {
   "cell_type": "code",
   "execution_count": 143,
   "metadata": {},
   "outputs": [
    {
     "data": {
      "text/plain": [
       "['__class__',\n",
       " '__delattr__',\n",
       " '__dict__',\n",
       " '__dir__',\n",
       " '__doc__',\n",
       " '__eq__',\n",
       " '__format__',\n",
       " '__ge__',\n",
       " '__getattribute__',\n",
       " '__gt__',\n",
       " '__hash__',\n",
       " '__init__',\n",
       " '__init_subclass__',\n",
       " '__le__',\n",
       " '__lt__',\n",
       " '__module__',\n",
       " '__ne__',\n",
       " '__new__',\n",
       " '__reduce__',\n",
       " '__reduce_ex__',\n",
       " '__repr__',\n",
       " '__setattr__',\n",
       " '__sizeof__',\n",
       " '__str__',\n",
       " '__subclasshook__',\n",
       " '__weakref__',\n",
       " '_temperature',\n",
       " 'get_temperature',\n",
       " 'set_temperature',\n",
       " 'to_fahrenheit']"
      ]
     },
     "execution_count": 143,
     "metadata": {},
     "output_type": "execute_result"
    }
   ],
   "source": [
    "dir(temperature)"
   ]
  },
  {
   "cell_type": "markdown",
   "metadata": {},
   "source": [
    "Le problème c'est qu'il va falloir modifier l'ensemble de notre programme.\n",
    "\n",
    "A chaque fois qu'on avait **`obj.temperature`** il faut mettre **`obj.get_temperature()`**  et à chaque fois qu'on a **`obj.temperature = val`** il faut mettre **`set_temperature(val)`**"
   ]
  },
  {
   "cell_type": "markdown",
   "metadata": {},
   "source": [
    "Pour ne pas rencontrer ce problème, on peut utiliser les décorateurs @property, @setter.\n"
   ]
  },
  {
   "cell_type": "code",
   "execution_count": 71,
   "metadata": {},
   "outputs": [],
   "source": [
    "# Using @property decorator\n",
    "class Celsius:\n",
    "    def __init__(self, temperature=0):\n",
    "        self.temperature = temperature\n",
    "\n",
    "    def to_fahrenheit(self):\n",
    "        return (self.temperature * 1.8) + 32\n",
    "\n",
    "    @property\n",
    "    def temperature(self):\n",
    "        print(\"Getting value...\") # a ne pas écrire dans un vrai code\n",
    "        return self._temperature\n",
    "\n",
    "    @temperature.setter\n",
    "    def temperature(self, value):\n",
    "        print(\"Setting value...\") # a ne pas écrire dans un vrai code\n",
    "        if value < -273.15:\n",
    "            raise ValueError(\"Temperature below -273 is not possible\")\n",
    "        self._temperature = value\n",
    "\n",
    "\n"
   ]
  },
  {
   "cell_type": "code",
   "execution_count": 72,
   "metadata": {},
   "outputs": [
    {
     "ename": "AttributeError",
     "evalue": "can't set attribute",
     "output_type": "error",
     "traceback": [
      "\u001b[0;31m---------------------------------------------------------------------------\u001b[0m",
      "\u001b[0;31mAttributeError\u001b[0m                            Traceback (most recent call last)",
      "\u001b[0;32m/var/folders/py/4rt338cj1ks4z3332m7l3f880000gp/T/ipykernel_2921/2193769133.py\u001b[0m in \u001b[0;36m<module>\u001b[0;34m\u001b[0m\n\u001b[0;32m----> 1\u001b[0;31m \u001b[0mhuman\u001b[0m \u001b[0;34m=\u001b[0m \u001b[0mCelsius\u001b[0m\u001b[0;34m(\u001b[0m\u001b[0;36m37\u001b[0m\u001b[0;34m)\u001b[0m\u001b[0;34m\u001b[0m\u001b[0;34m\u001b[0m\u001b[0m\n\u001b[0m",
      "\u001b[0;32m/var/folders/py/4rt338cj1ks4z3332m7l3f880000gp/T/ipykernel_2921/1803078970.py\u001b[0m in \u001b[0;36m__init__\u001b[0;34m(self, temperature)\u001b[0m\n\u001b[1;32m      2\u001b[0m \u001b[0;32mclass\u001b[0m \u001b[0mCelsius\u001b[0m\u001b[0;34m:\u001b[0m\u001b[0;34m\u001b[0m\u001b[0;34m\u001b[0m\u001b[0m\n\u001b[1;32m      3\u001b[0m     \u001b[0;32mdef\u001b[0m \u001b[0m__init__\u001b[0m\u001b[0;34m(\u001b[0m\u001b[0mself\u001b[0m\u001b[0;34m,\u001b[0m \u001b[0mtemperature\u001b[0m\u001b[0;34m=\u001b[0m\u001b[0;36m0\u001b[0m\u001b[0;34m)\u001b[0m\u001b[0;34m:\u001b[0m\u001b[0;34m\u001b[0m\u001b[0;34m\u001b[0m\u001b[0m\n\u001b[0;32m----> 4\u001b[0;31m         \u001b[0mself\u001b[0m\u001b[0;34m.\u001b[0m\u001b[0mtemperature\u001b[0m \u001b[0;34m=\u001b[0m \u001b[0mtemperature\u001b[0m\u001b[0;34m\u001b[0m\u001b[0;34m\u001b[0m\u001b[0m\n\u001b[0m\u001b[1;32m      5\u001b[0m \u001b[0;34m\u001b[0m\u001b[0m\n\u001b[1;32m      6\u001b[0m     \u001b[0;32mdef\u001b[0m \u001b[0mto_fahrenheit\u001b[0m\u001b[0;34m(\u001b[0m\u001b[0mself\u001b[0m\u001b[0;34m)\u001b[0m\u001b[0;34m:\u001b[0m\u001b[0;34m\u001b[0m\u001b[0;34m\u001b[0m\u001b[0m\n",
      "\u001b[0;31mAttributeError\u001b[0m: can't set attribute"
     ]
    }
   ],
   "source": [
    "human = Celsius(37)"
   ]
  },
  {
   "cell_type": "code",
   "execution_count": 69,
   "metadata": {},
   "outputs": [
    {
     "data": {
      "text/plain": [
       "{'_temperature': 47}"
      ]
     },
     "execution_count": 69,
     "metadata": {},
     "output_type": "execute_result"
    }
   ],
   "source": [
    "human.__dict__"
   ]
  },
  {
   "cell_type": "code",
   "execution_count": null,
   "metadata": {},
   "outputs": [],
   "source": [
    "dir(human)"
   ]
  },
  {
   "cell_type": "code",
   "execution_count": 164,
   "metadata": {},
   "outputs": [
    {
     "name": "stdout",
     "output_type": "stream",
     "text": [
      "Getting value...\n",
      "37\n"
     ]
    }
   ],
   "source": [
    "print(human.temperature)"
   ]
  },
  {
   "cell_type": "code",
   "execution_count": 157,
   "metadata": {},
   "outputs": [
    {
     "name": "stdout",
     "output_type": "stream",
     "text": [
      "Setting value...\n"
     ]
    },
    {
     "ename": "ValueError",
     "evalue": "Temperature below -273 is not possible",
     "output_type": "error",
     "traceback": [
      "\u001b[0;31m---------------------------------------------------------------------------\u001b[0m",
      "\u001b[0;31mValueError\u001b[0m                                Traceback (most recent call last)",
      "\u001b[0;32m/var/folders/py/4rt338cj1ks4z3332m7l3f880000gp/T/ipykernel_11213/1994104652.py\u001b[0m in \u001b[0;36m<module>\u001b[0;34m\u001b[0m\n\u001b[0;32m----> 1\u001b[0;31m \u001b[0mhuman\u001b[0m\u001b[0;34m.\u001b[0m\u001b[0mtemperature\u001b[0m \u001b[0;34m=\u001b[0m \u001b[0;34m-\u001b[0m\u001b[0;36m280\u001b[0m\u001b[0;34m\u001b[0m\u001b[0;34m\u001b[0m\u001b[0m\n\u001b[0m",
      "\u001b[0;32m/var/folders/py/4rt338cj1ks4z3332m7l3f880000gp/T/ipykernel_11213/3974558698.py\u001b[0m in \u001b[0;36mtemperature\u001b[0;34m(self, value)\u001b[0m\n\u001b[1;32m     16\u001b[0m         \u001b[0mprint\u001b[0m\u001b[0;34m(\u001b[0m\u001b[0;34m\"Setting value...\"\u001b[0m\u001b[0;34m)\u001b[0m \u001b[0;31m# a ne pas écrire dans un vrai code\u001b[0m\u001b[0;34m\u001b[0m\u001b[0;34m\u001b[0m\u001b[0m\n\u001b[1;32m     17\u001b[0m         \u001b[0;32mif\u001b[0m \u001b[0mvalue\u001b[0m \u001b[0;34m<\u001b[0m \u001b[0;34m-\u001b[0m\u001b[0;36m273.15\u001b[0m\u001b[0;34m:\u001b[0m\u001b[0;34m\u001b[0m\u001b[0;34m\u001b[0m\u001b[0m\n\u001b[0;32m---> 18\u001b[0;31m             \u001b[0;32mraise\u001b[0m \u001b[0mValueError\u001b[0m\u001b[0;34m(\u001b[0m\u001b[0;34m\"Temperature below -273 is not possible\"\u001b[0m\u001b[0;34m)\u001b[0m\u001b[0;34m\u001b[0m\u001b[0;34m\u001b[0m\u001b[0m\n\u001b[0m\u001b[1;32m     19\u001b[0m         \u001b[0mself\u001b[0m\u001b[0;34m.\u001b[0m\u001b[0m_temperature\u001b[0m \u001b[0;34m=\u001b[0m \u001b[0mvalue\u001b[0m\u001b[0;34m\u001b[0m\u001b[0;34m\u001b[0m\u001b[0m\n\u001b[1;32m     20\u001b[0m \u001b[0;34m\u001b[0m\u001b[0m\n",
      "\u001b[0;31mValueError\u001b[0m: Temperature below -273 is not possible"
     ]
    }
   ],
   "source": [
    "human.temperature = -280"
   ]
  },
  {
   "cell_type": "code",
   "execution_count": 125,
   "metadata": {},
   "outputs": [
    {
     "name": "stdout",
     "output_type": "stream",
     "text": [
      "Setting value...\n",
      "Getting value...\n",
      "37\n",
      "Getting value...\n",
      "98.60000000000001\n",
      "Setting value...\n"
     ]
    }
   ],
   "source": [
    "# Quand on instancie un objet, le paramètre se définit directement via le setter.\n",
    "human = Celsius(37)\n",
    "\n",
    "# Quand on le print, c'est via le geet\n",
    "print(human.temperature)\n",
    "\n",
    "\n",
    "# les autre méthodes y accèdent également via le getter\n",
    "print(human.to_fahrenheit())\n",
    "\n",
    "# on le modifie églament via le setter\n",
    "human.temperature = 39"
   ]
  },
  {
   "cell_type": "markdown",
   "metadata": {},
   "source": [
    "Il est possible également de défnir des attributs privés"
   ]
  },
  {
   "cell_type": "code",
   "execution_count": 77,
   "metadata": {},
   "outputs": [],
   "source": [
    "# Using @property decorator\n",
    "class Password:\n",
    "    def __init__(self, password=0):\n",
    "        self.__password = password\n",
    "\n",
    "    @property\n",
    "    def password(self):\n",
    "        return self.__password # dunders!\n",
    "\n",
    "    # @password.setter\n",
    "    # def password(self, value):\n",
    "    #     self.__password = value ## dunders too"
   ]
  },
  {
   "cell_type": "code",
   "execution_count": 78,
   "metadata": {},
   "outputs": [],
   "source": [
    "my_password = Password(\"secret\")"
   ]
  },
  {
   "cell_type": "code",
   "execution_count": 80,
   "metadata": {},
   "outputs": [
    {
     "ename": "AttributeError",
     "evalue": "can't set attribute",
     "output_type": "error",
     "traceback": [
      "\u001b[0;31m---------------------------------------------------------------------------\u001b[0m",
      "\u001b[0;31mAttributeError\u001b[0m                            Traceback (most recent call last)",
      "\u001b[0;32m/var/folders/py/4rt338cj1ks4z3332m7l3f880000gp/T/ipykernel_2921/3247830432.py\u001b[0m in \u001b[0;36m<module>\u001b[0;34m\u001b[0m\n\u001b[0;32m----> 1\u001b[0;31m \u001b[0mmy_password\u001b[0m\u001b[0;34m.\u001b[0m\u001b[0mpassword\u001b[0m \u001b[0;34m=\u001b[0m \u001b[0;36m9\u001b[0m\u001b[0;34m\u001b[0m\u001b[0;34m\u001b[0m\u001b[0m\n\u001b[0m",
      "\u001b[0;31mAttributeError\u001b[0m: can't set attribute"
     ]
    }
   ],
   "source": [
    "my_password.password = 9"
   ]
  },
  {
   "cell_type": "markdown",
   "metadata": {},
   "source": [
    "**`Exercice user_creation_bis`**\n",
    "\n",
    "Refaite l'exercice user_creation à l'aide cette fois du décorateur @property"
   ]
  },
  {
   "cell_type": "markdown",
   "metadata": {},
   "source": [
    "## V.2 Les classes abstraites"
   ]
  },
  {
   "cell_type": "markdown",
   "metadata": {},
   "source": [
    "Il peut être utile de créer une classe parente dont on veut faire hériter les méthodes mais qui ne peut pas être instanciée\n",
    "\n",
    "Dans ce cas on utilisera une [classe abstaite](https://towardsdatascience.com/abstract-base-classes-in-python-fundamentals-for-data-scientists-3c164803224b). C'est une classe qui est définie, dont on peut hériter mais qu'on ne peut pas instancier."
   ]
  },
  {
   "cell_type": "code",
   "execution_count": 27,
   "metadata": {},
   "outputs": [],
   "source": [
    "# On crée ici un classe MaterielScolaire qui ne correspond à rien de précis mais dont on peut hériter:\n",
    "\n",
    "from abc import ABCMeta, abstractmethod  # permet de définir des classes de base\n",
    "\n",
    "class MaterielScolaire(metaclass = ABCMeta):\n",
    "    \n",
    "    user = \"student\"\n",
    "\n",
    "    def get_date_achat(self):\n",
    "        print(\"a la rentrée\")\n",
    "\n",
    "    # abstactmethod permet de définir des méthodes que les classes filles seront obligées de posseder.    \n",
    "    @abstractmethod\n",
    "    def tient_dans_une_trousse(self,untruc):\n",
    "        return \"nimporte quoi\"\n",
    "\n",
    "    @abstractmethod\n",
    "    def nom_methode(self):\n",
    "        pass\n"
   ]
  },
  {
   "cell_type": "code",
   "execution_count": 28,
   "metadata": {},
   "outputs": [
    {
     "name": "stdout",
     "output_type": "stream",
     "text": [
      "ma_regle.tient_dans_une_trousse()='nimporte quoi'\n"
     ]
    }
   ],
   "source": [
    "# Je ne peux définir une classe enfant qui ne contient pas de définition des méthodes suivants abstactmethod\n",
    "class Regle(MaterielScolaire):\n",
    "    \n",
    "    def __init__(self, longueur):\n",
    "        self.longueur = longueur\n",
    "        #self.marque = marque\n",
    "    def tient_dans_une_trousse(self):\n",
    "        return super().tient_dans_une_trousse(\"mon argument\")\n",
    "    \n",
    "\n",
    "# Pour le reste, le principe d'héritage fonctionne\n",
    "ma_regle = Regle(20)\n",
    "print(f\"{ma_regle.tient_dans_une_trousse()=}\")\n"
   ]
  },
  {
   "cell_type": "markdown",
   "metadata": {},
   "source": [
    "**`Exercice le zoo`**\n",
    "\n",
    "Vous gérez un zoo qui abrite des poissons, des oiseaux et des félins.\n",
    "- Tous les animaux possèdent un nom\n",
    "- tous les animaux doivent pouvoir manger selon leur régime alimentaire\n",
    "\n",
    "- Pour que les félins mangent il faut vérifier que ce qu'on leur donne soit bien de la viande\n",
    "- Pour que les poissons mangent il faut vérifier que ce qu'on leur donne soit bien de la nourriture pour poisson\n",
    "- Pour que les oiseaux mangent il faut vérifier que ce qu'on leur donne soit bien des graines\n",
    "\n",
    "- Tous les poissons doivent pouvoir nager\n",
    "- Tous les oiseaux doivent piailler\n",
    "\n",
    "- Les lions doivent rugir et les chats miauler, les panthères ne font rien\n",
    "- les canaris piaillent en disant \"cuicui\" les autruches piaillent en disant \"CUICUI\"\n",
    "\n",
    "Créer votre zoo avec 2 lion , 3 chat, 1 canari, 2 autruches, 3 raies et 1 dauphin."
   ]
  },
  {
   "cell_type": "markdown",
   "metadata": {},
   "source": [
    "## V.3 Typing classes in python."
   ]
  },
  {
   "cell_type": "markdown",
   "metadata": {},
   "source": [
    "### V.4.1 Typing in python: typing hint"
   ]
  },
  {
   "cell_type": "markdown",
   "metadata": {},
   "source": [
    "Depuis python 3.5 il est possible d'inclure des annotations de type comme celle-ci:"
   ]
  },
  {
   "cell_type": "code",
   "execution_count": 29,
   "metadata": {},
   "outputs": [
    {
     "name": "stdout",
     "output_type": "stream",
     "text": [
      "7\n"
     ]
    }
   ],
   "source": [
    "\n",
    "# On précise ici que les deux arguments attendus sont de types int \n",
    "# et que la fonction est sensé renvoyer quelque chose de type int\n",
    "# la valeur par défaut se met après\n",
    "def f(x: int , y: int = 0) -> int :\n",
    "    return x + y\n",
    "\n",
    "print(f(3, 4))\n"
   ]
  },
  {
   "cell_type": "code",
   "execution_count": 30,
   "metadata": {},
   "outputs": [
    {
     "name": "stdout",
     "output_type": "stream",
     "text": [
      "8.0\n",
      "ab\n"
     ]
    }
   ],
   "source": [
    "print(f(3.2, 4.8))\n",
    "print(f(\"a\", \"b\"))"
   ]
  },
  {
   "cell_type": "markdown",
   "metadata": {},
   "source": [
    "Cependant, Python est un langage dynamique, c'est à dire qu'on peut changer le type assigné à une variable. Ce typage n'est donc qu'indicatif et n'est pas contraignant.\n",
    "\n",
    "On considère que le typage n'est pas une compétence de python mais un compétence du développeur ou de l'IDE. On peut donc modifier l'ide pour qu'il mette en évidence nos erreurs de type:\n",
    "Dans VS Code: setting -> pylance -> python analysis Type Checking mode (activer)\n",
    "\n",
    "On peut également utiliser le package mypy qui permet de lancer le code entre utilisant ce typage comme stricte."
   ]
  },
  {
   "cell_type": "code",
   "execution_count": 31,
   "metadata": {},
   "outputs": [
    {
     "name": "stdout",
     "output_type": "stream",
     "text": [
      "Help on function f in module __main__:\n",
      "\n",
      "f(x: int, y: int = 0) -> int\n",
      "    # On précise ici que les deux arguments attendus sont de types int \n",
      "    # et que la fonction est censé renvoyer quelque chose de type int\n",
      "    # la valeur par défaut se met après\n",
      "\n"
     ]
    }
   ],
   "source": [
    "#Le typage s'affiche quand j'utilise help\n",
    "help(f)"
   ]
  },
  {
   "cell_type": "markdown",
   "metadata": {},
   "source": [
    "### V.4.2 Typing classes in python."
   ]
  },
  {
   "cell_type": "code",
   "execution_count": 142,
   "metadata": {},
   "outputs": [
    {
     "name": "stdout",
     "output_type": "stream",
     "text": [
      " un cake à ['chocolat', 'banace'] de 10.8 part\n",
      "[<__main__.TypeCake object at 0x10d847730>]\n"
     ]
    }
   ],
   "source": [
    "from typing import List, Optional\n",
    "\n",
    "class TypeCake:\n",
    "    def __init__(self, flavor: List[str], number_share: int):\n",
    "        self.flavor: List[str] = flavor\n",
    "        self.number_share: int = number_share\n",
    "        self.new_number_share : float = self.number_of_shareplusdeuxpointcinq()\n",
    "    \n",
    "    def __str__(self):\n",
    "        return f\" un cake à {self.flavor} de {self.number_share} part\"\n",
    "    \n",
    "    def number_of_shareplusdeuxpointcinq (self):\n",
    "        \n",
    "        return self.number_share + 2.5\n",
    "\n",
    "\n",
    "my_weird_cake = TypeCake(flavor=[\"chocolat\",\"banace\"], number_share=10.8)\n",
    "my_weird_cake.number_share\n",
    "\n",
    "\n",
    "print(my_weird_cake)\n",
    "my_list= [my_weird_cake]\n",
    "print(my_list)"
   ]
  },
  {
   "cell_type": "code",
   "execution_count": 45,
   "metadata": {},
   "outputs": [
    {
     "data": {
      "text/plain": [
       "{'flavor': 5, 'number_share': '10'}"
      ]
     },
     "execution_count": 45,
     "metadata": {},
     "output_type": "execute_result"
    }
   ],
   "source": [
    "my_weird_cake.__dict__"
   ]
  },
  {
   "cell_type": "markdown",
   "metadata": {},
   "source": [
    "## V.4  Les méthodes \\_\\_str\\_\\_   et   \\_\\_repr\\_\\_"
   ]
  },
  {
   "cell_type": "code",
   "execution_count": 159,
   "metadata": {},
   "outputs": [],
   "source": [
    "class Stylo (object):\n",
    "    def __init__(self, couleur, taille):\n",
    "        self.couleur = couleur\n",
    "        self.taille = taille\n",
    "\n",
    "    def __repr__(self):\n",
    "        return f\"Stylo : {self.__dict__}\"  \n"
   ]
  },
  {
   "cell_type": "code",
   "execution_count": 93,
   "metadata": {},
   "outputs": [
    {
     "name": "stdout",
     "output_type": "stream",
     "text": [
      "[{ couleur :rouge , taille: 10 }]\n"
     ]
    }
   ],
   "source": [
    "ma_liste = []\n",
    "ma_liste.append(mon_stylo)\n",
    "print(ma_liste)"
   ]
  },
  {
   "cell_type": "markdown",
   "metadata": {},
   "source": [
    "### Python \\_\\_str\\_\\_()\n",
    "\n",
    "Cette méthode retourne la chaine de charactère qui représente l'objet. Cette méthode est appelée quand on fait print() ou str().\n",
    "\n",
    "Si on n'implémente pas  \\_\\_str\\_\\_() pour une classe, alors la représentation c'est \\_\\_repr\\_\\_() qui est appelée."
   ]
  },
  {
   "cell_type": "markdown",
   "metadata": {},
   "source": [
    "### Python \\_\\_repr\\_\\_()\n",
    "Cette fonction est appelée quand on fait repr(). L'idée est de transformer n'importe quel objet python en une chaine de charactère qui permettrait de reconstruire cet objet.  "
   ]
  },
  {
   "cell_type": "code",
   "execution_count": null,
   "metadata": {},
   "outputs": [
    {
     "name": "stdout",
     "output_type": "stream",
     "text": [
      "2021-11-29 11:31:12.443989\n",
      "datetime.datetime(2021, 11, 29, 11, 31, 12, 443989)\n"
     ]
    }
   ],
   "source": [
    "#Python __str__ and __repr__ examples\n",
    "#Let’s look at a built-in class where both __str__ and __repr__ functions are defined.\n",
    "\n",
    "import datetime\n",
    "now = datetime.datetime.now()\n",
    "print(str(now))\n",
    "#'2020-12-27 22:28:00.324317'\n",
    "print(repr(now))\n",
    "#'datetime.datetime(2020, 12, 27, 22, 28, 0, 324317)'"
   ]
  },
  {
   "cell_type": "markdown",
   "metadata": {},
   "source": [
    "On voit que le résultat de \\_\\_str\\_\\_() est plus facilement lisible que celui de  \\_\\_repr\\_\\_() qui possède plus d'information et est donc plus utile pour une machine."
   ]
  },
  {
   "cell_type": "code",
   "execution_count": null,
   "metadata": {},
   "outputs": [],
   "source": [
    "class Cake:\n",
    "    def __init__(self, flavor:str, number_share: int):\n",
    "        self.flavor: str = flavor\n",
    "        self.number_share: int = number_share\n",
    "    \n",
    "    def __str__(self):\n",
    "        return f\" un cake à {self.flavor} de {self.number_share} part\"\n",
    "\n",
    "\n",
    "my_weird_cake = Cake(flavor=\"banana\", number_share=10)\n",
    "my_weird_cake.number_share\n",
    "\n",
    "\n",
    "print(my_weird_cake)\n",
    "my_list= [my_weird_cake]\n",
    "print(my_list)"
   ]
  },
  {
   "cell_type": "markdown",
   "metadata": {},
   "source": [
    "En conclusion si la méthode str n'est pas défnie, c'est la méthode repr qui est appelée. Donc si on ne veut pas distinguer l'affichage pour l'homme et l'affichage pour la machine, il suffit de définir seulement la méthode repr."
   ]
  },
  {
   "cell_type": "markdown",
   "metadata": {},
   "source": [
    "## V.5 \\_\\_eq\\_\\_ method"
   ]
  },
  {
   "cell_type": "markdown",
   "metadata": {},
   "source": [
    "\\_\\_eq\\_\\_ permet de définir sous quels critère un objet de votre class est équivalent à un autre."
   ]
  },
  {
   "cell_type": "code",
   "execution_count": 168,
   "metadata": {},
   "outputs": [
    {
     "name": "stdout",
     "output_type": "stream",
     "text": [
      "<__main__.card object at 0x10c421550>\n",
      "<__main__.card object at 0x10d8526d0>\n",
      "True\n"
     ]
    }
   ],
   "source": [
    "# De base, deux objets instanciés de la même manière ne sont pas équivalent\n",
    "class card:\n",
    "    def __init__ (self,rank, suit):\n",
    "        self.rank = rank\n",
    "        self.suit = suit\n",
    "    \n",
    "\n",
    "\n",
    "queenofheart_a = card(\"Q\",\"heart\")\n",
    "queenofheart_b = card(\"Q\",\"heart\")\n",
    "\n",
    "print(queenofheart_a)\n",
    "print(queenofheart_b)\n",
    "print(queenofheart_a != queenofheart_b )"
   ]
  },
  {
   "cell_type": "code",
   "execution_count": 171,
   "metadata": {},
   "outputs": [
    {
     "name": "stdout",
     "output_type": "stream",
     "text": [
      "True\n",
      "False\n"
     ]
    }
   ],
   "source": [
    "class cardeq:\n",
    "    def __init__ (self,rank, suit):\n",
    "        self.rank = rank\n",
    "        self.suit = suit\n",
    "        self.card_value = self.__card_value()\n",
    "    \n",
    "    def __eq__(self, other):\n",
    "        if type(other) is type(self):\n",
    "            return (self.rank == other.rank) and (self.suit == other.suit)\n",
    "        else:\n",
    "            return False \n",
    "\n",
    "    def __card_value(self):\n",
    "        order = {\"J\":11, \"Q\" : 12 , \"K\" : 13, \"A\": 14}\n",
    "        if isinstance(self.rank, str):\n",
    "            return order[self.rank]\n",
    "        else:\n",
    "            return self.rank\n",
    "\n",
    "    def __lt__(self,other):    \n",
    "        if type(other) is type(self):\n",
    "            return self.card_value < other.card_value\n",
    "        raise TypeError(\"les deux objets ne sont pas du même type\")\n",
    "\n",
    "\n",
    "queenofheart_a = cardeq(\"Q\",\"heart\")\n",
    "queenofheart_b = cardeq(\"Q\",\"heart\")\n",
    "dix_de_coeur = cardeq(10,\"heart\")\n",
    "kingofgeart = cardeq(\"K\",\"heart\")\n",
    "\n",
    "print(queenofheart_a == queenofheart_b )\n",
    "print(dix_de_coeur > kingofgeart )\n"
   ]
  },
  {
   "cell_type": "code",
   "execution_count": 286,
   "metadata": {},
   "outputs": [
    {
     "name": "stdout",
     "output_type": "stream",
     "text": [
      "True\n"
     ]
    }
   ],
   "source": [
    "# écriture alternative\n",
    "class cardeq:\n",
    "    def __init__ (self,rank, suit):\n",
    "        self.rank = rank\n",
    "        self.suit = suit\n",
    "    \n",
    "    def __members(self):\n",
    "        return (self.rank, self.suit)\n",
    "\n",
    "    def __eq__(self, other):\n",
    "        if type(other) is type(self):\n",
    "            return self.__members() == other.members()\n",
    "        else:\n",
    "            return False    \n",
    "\n",
    "\n",
    "queenofheart_a = cardeq(\"Q\",\"heart\")\n",
    "queenofheart_b = cardeq(\"Q\",\"heart\")\n",
    "\n",
    "print(queenofheart_a == queenofheart_b )"
   ]
  },
  {
   "cell_type": "markdown",
   "metadata": {},
   "source": [
    "## V.6 Python datamodel"
   ]
  },
  {
   "cell_type": "code",
   "execution_count": null,
   "metadata": {},
   "outputs": [],
   "source": [
    "dir(object)"
   ]
  },
  {
   "cell_type": "markdown",
   "metadata": {},
   "source": [
    "Plus sur les méthodes spéciales: [documentation](https://docs.python.org/3/reference/datamodel.html#special-method-names)"
   ]
  },
  {
   "cell_type": "markdown",
   "metadata": {},
   "source": [
    "# VI Les dataclasses "
   ]
  },
  {
   "cell_type": "markdown",
   "metadata": {},
   "source": [
    "Reprennons notre exemple de gateau, l'initialisation est longue et ne permet même pas de typer.\n",
    "Est ce qu'il n'y aurait pas moyen de faire plus simple?"
   ]
  },
  {
   "cell_type": "code",
   "execution_count": 64,
   "metadata": {},
   "outputs": [],
   "source": [
    "class card:\n",
    "    def __init__ (self,rank, suit):\n",
    "        self.rank = rank\n",
    "        self.suit = suit\n",
    "\n",
    "   \n",
    "    def __eq__(self, other):\n",
    "        if type(other) is type(self):\n",
    "            return (self.rank == other.rank) and (self.suit == other.suit)\n",
    "        else:\n",
    "            return False \n",
    "    \n",
    "    def __repr__(self):\n",
    "        return f\"un truc beau\"\n"
   ]
  },
  {
   "cell_type": "code",
   "execution_count": 65,
   "metadata": {},
   "outputs": [
    {
     "name": "stdout",
     "output_type": "stream",
     "text": [
      "un truc beau\n"
     ]
    }
   ],
   "source": [
    "queenofheart_b = card(\"Q\",\"heart\")\n",
    "print(queenofheart_b)"
   ]
  },
  {
   "cell_type": "markdown",
   "metadata": {},
   "source": [
    "C'est possible avec le module dataclasses"
   ]
  },
  {
   "cell_type": "code",
   "execution_count": 89,
   "metadata": {},
   "outputs": [
    {
     "data": {
      "text/plain": [
       "11"
      ]
     },
     "execution_count": 89,
     "metadata": {},
     "output_type": "execute_result"
    }
   ],
   "source": [
    "from dataclasses import dataclass, field\n",
    "from typing import ClassVar\n",
    "\n",
    "@dataclass\n",
    "class Cake:\n",
    "    \n",
    "    # on initialise les attributs d'instance\n",
    "    flavor: str  #equivalent à dans init self.flavor: str = flavor\n",
    "    number_share: int \n",
    "    init_value: int = field(default=0)\n",
    "    ma_liste = field(default_factory=[])\n",
    "    cream: bool = False # on peut préciser une valeur par défaut\n",
    "    version_recette: ClassVar[float] = 3.2 # on peut aussi créer des attributs de classe\n",
    "\n",
    "    \n",
    "    def __post_init__(self):\n",
    "        self.number_share_plus_one = self.__number_share_plus_one()\n",
    "\n",
    "    def __number_share_plus_one(self):\n",
    "        return self.number_share + 1\n",
    "    \n",
    "# mieux encore, une repr est automatiquement généré:\n",
    "\n",
    "banana_cake = Cake(flavor=\"banana\",number_share=10)\n",
    "banana_cake.flavor\n",
    "banana_cake.number_share_plus_one"
   ]
  },
  {
   "cell_type": "code",
   "execution_count": 90,
   "metadata": {},
   "outputs": [
    {
     "data": {
      "text/plain": [
       "{'flavor': 'banana',\n",
       " 'number_share': 10,\n",
       " 'init_value': 0,\n",
       " 'cream': False,\n",
       " 'number_share_plus_one': 11}"
      ]
     },
     "execution_count": 90,
     "metadata": {},
     "output_type": "execute_result"
    }
   ],
   "source": [
    "banana_cake.__dict__"
   ]
  },
  {
   "cell_type": "code",
   "execution_count": 72,
   "metadata": {},
   "outputs": [
    {
     "name": "stdout",
     "output_type": "stream",
     "text": [
      "Cake(flavor='banana', number_share=10, cream=False)\n"
     ]
    }
   ],
   "source": [
    "print(banana_cake)"
   ]
  },
  {
   "cell_type": "markdown",
   "metadata": {},
   "source": [
    "Les dataclasses implémentent également une méthode \\_\\_eq\\_\\_"
   ]
  },
  {
   "cell_type": "code",
   "execution_count": 71,
   "metadata": {},
   "outputs": [
    {
     "data": {
      "text/plain": [
       "True"
      ]
     },
     "execution_count": 71,
     "metadata": {},
     "output_type": "execute_result"
    }
   ],
   "source": [
    "banana_cake_bis = Cake(\"banana\",10)\n",
    "banana_cake == banana_cake_bis"
   ]
  },
  {
   "cell_type": "markdown",
   "metadata": {},
   "source": [
    "Pour aller plus loin vous pouvez découvrir le package [pydantic](https://www.youtube.com/watch?v=Vj-iU-8_xLs) qui a des fonctionnalités supplémentaires par rapport aux dataclasses comme la présence de validator."
   ]
  },
  {
   "cell_type": "markdown",
   "metadata": {},
   "source": [
    "More about [dataclasses](https://www.youtube.com/watch?v=vBH6GRJ1REM&t=455s)\n",
    "\n",
    "[documentation](https://docs.python.org/3/library/dataclasses.html#module-dataclasses)"
   ]
  },
  {
   "cell_type": "markdown",
   "metadata": {},
   "source": [
    "# VII Tester ses classes"
   ]
  },
  {
   "cell_type": "markdown",
   "metadata": {},
   "source": [
    "voir les fichiers:\n",
    "- class_to_test.py\n",
    "- test_class_to_test.py"
   ]
  },
  {
   "cell_type": "markdown",
   "metadata": {},
   "source": [
    "# Ressources"
   ]
  },
  {
   "cell_type": "markdown",
   "metadata": {},
   "source": [
    "Le cours s'inspire des cours suivant:\n",
    "- [openclassroom](https://openclassrooms.com/fr/courses/7150616-apprenez-la-programmation-orientee-objet-avec-python/7197146-comprenez-la-programmation-orientee-objet)\n",
    "- [programiz (property)](https://www.programiz.com/python-programming/property)\n",
    "- [journal dev (str, repr)](https://www.journaldev.com/22460/python-str-repr-functions)\n",
    "- [Docstring (youtube)](https://www.youtube.com/watch?v=6Ltk49YhrWY)"
   ]
  }
 ],
 "metadata": {
  "kernelspec": {
   "display_name": "Python 3.9.12 ('env': venv)",
   "language": "python",
   "name": "python3"
  },
  "language_info": {
   "codemirror_mode": {
    "name": "ipython",
    "version": 3
   },
   "file_extension": ".py",
   "mimetype": "text/x-python",
   "name": "python",
   "nbconvert_exporter": "python",
   "pygments_lexer": "ipython3",
   "version": "3.9.12 (main, Mar 26 2022, 15:51:13) \n[Clang 12.0.0 (clang-1200.0.32.29)]"
  },
  "orig_nbformat": 4,
  "vscode": {
   "interpreter": {
    "hash": "0607a848ffd73ecc9cc21824b435c3b7f19a6ddc6b88730c443268397d59d817"
   }
  }
 },
 "nbformat": 4,
 "nbformat_minor": 2
}
