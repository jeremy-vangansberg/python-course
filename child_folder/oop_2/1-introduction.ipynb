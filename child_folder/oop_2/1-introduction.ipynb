{
 "cells": [
  {
   "cell_type": "markdown",
   "metadata": {},
   "source": [
    "# Programmation orienté objet"
   ]
  },
  {
   "cell_type": "markdown",
   "metadata": {},
   "source": [
    "## Les objets en python"
   ]
  },
  {
   "cell_type": "markdown",
   "metadata": {},
   "source": [
    "Quels sont les objets dans le code suivant ?"
   ]
  },
  {
   "cell_type": "code",
   "execution_count": null,
   "metadata": {},
   "outputs": [
    {
     "data": {
      "text/plain": [
       "14"
      ]
     },
     "metadata": {},
     "output_type": "display_data"
    }
   ],
   "source": [
    "# Les éléments en python\n",
    "a = 3\n",
    "b = 9\n",
    "c = [4,5]\n",
    "\n",
    "d = 'Hi'\n",
    "\"Hello\"\n",
    "\n",
    "def mutipliby_by_2(x):\n",
    "    return x * 2\n",
    "\n",
    "mutipliby_by_2(7)"
   ]
  },
  {
   "cell_type": "markdown",
   "metadata": {},
   "source": [
    "**Répondre ici**\n",
    "\n",
    "Les objets sont : "
   ]
  },
  {
   "cell_type": "markdown",
   "metadata": {},
   "source": [
    "---"
   ]
  },
  {
   "cell_type": "markdown",
   "metadata": {},
   "source": [
    "En python, il existe 8 elements fondamentaux :\n",
    "- objects (objets)\n",
    "- identifiers (identifiants)\n",
    "- operators (opérateurs)\n",
    "- delimiters (délimiteurs)\n",
    "- keywords (mots-clés)\n",
    "- comments (commentaires)\n",
    "- blank lines (ligne blanche)\n",
    "- white space (espace)\n",
    "- indentation "
   ]
  },
  {
   "cell_type": "markdown",
   "metadata": {},
   "source": [
    "---\n",
    "Solution\n",
    "\n",
    "Les objets sont : 2, 9, 4, 5, 'Hi', 'Hello', function definition, 2, 7, 14\n",
    "\n",
    "Les identifiants sont : a, b, c, d, mutipliby_by_2, x\n",
    "\n",
    "Les opérateurs sont : *\n",
    "\n",
    "Les délimiteurs sont : , [] () '' \"\" =\n",
    "\n",
    "Keywords : def, return\n",
    "\n",
    "Commentaires : # Les éléments en python\n",
    "\n",
    "Voir dans le code pour les espaces, les blanks lines et l'indentation"
   ]
  },
  {
   "cell_type": "markdown",
   "metadata": {},
   "source": [
    "Plus d'opérateurs : https://www.w3schools.com/python/python_operators.asp"
   ]
  },
  {
   "cell_type": "markdown",
   "metadata": {},
   "source": [
    "## Qu'est-ce qu'un objet en python ?"
   ]
  },
  {
   "cell_type": "code",
   "execution_count": 8,
   "metadata": {},
   "outputs": [],
   "source": [
    "# ! pip install folium"
   ]
  },
  {
   "cell_type": "markdown",
   "metadata": {},
   "source": [
    "Quels sont les objets dans le bloc de code ci-dessous ?\n",
    "Ma réponse : "
   ]
  },
  {
   "cell_type": "code",
   "execution_count": 21,
   "metadata": {},
   "outputs": [],
   "source": [
    "un_entier = 3\n",
    "une_liste = [7,2]\n",
    "une_string = 'Bonjour'\n",
    "\n",
    "import folium\n",
    "valenciennes = folium.folium.Map(location=[50.37, 3.53], # A noter ici, il est possible de retourner à la \n",
    "                  zoom_start=10)           # ligne après une virgule, python le comprend."
   ]
  },
  {
   "cell_type": "code",
   "execution_count": 22,
   "metadata": {},
   "outputs": [
    {
     "data": {
      "text/html": [
       "<div style=\"width:100%;\"><div style=\"position:relative;width:100%;height:0;padding-bottom:60%;\"><span style=\"color:#565656\">Make this Notebook Trusted to load map: File -> Trust Notebook</span><iframe srcdoc=\"&lt;!DOCTYPE html&gt;\n",
       "&lt;html&gt;\n",
       "&lt;head&gt;\n",
       "    \n",
       "    &lt;meta http-equiv=&quot;content-type&quot; content=&quot;text/html; charset=UTF-8&quot; /&gt;\n",
       "    \n",
       "        &lt;script&gt;\n",
       "            L_NO_TOUCH = false;\n",
       "            L_DISABLE_3D = false;\n",
       "        &lt;/script&gt;\n",
       "    \n",
       "    &lt;style&gt;html, body {width: 100%;height: 100%;margin: 0;padding: 0;}&lt;/style&gt;\n",
       "    &lt;style&gt;#map {position:absolute;top:0;bottom:0;right:0;left:0;}&lt;/style&gt;\n",
       "    &lt;script src=&quot;https://cdn.jsdelivr.net/npm/leaflet@1.9.3/dist/leaflet.js&quot;&gt;&lt;/script&gt;\n",
       "    &lt;script src=&quot;https://code.jquery.com/jquery-1.12.4.min.js&quot;&gt;&lt;/script&gt;\n",
       "    &lt;script src=&quot;https://cdn.jsdelivr.net/npm/bootstrap@5.2.2/dist/js/bootstrap.bundle.min.js&quot;&gt;&lt;/script&gt;\n",
       "    &lt;script src=&quot;https://cdnjs.cloudflare.com/ajax/libs/Leaflet.awesome-markers/2.0.2/leaflet.awesome-markers.js&quot;&gt;&lt;/script&gt;\n",
       "    &lt;link rel=&quot;stylesheet&quot; href=&quot;https://cdn.jsdelivr.net/npm/leaflet@1.9.3/dist/leaflet.css&quot;/&gt;\n",
       "    &lt;link rel=&quot;stylesheet&quot; href=&quot;https://cdn.jsdelivr.net/npm/bootstrap@5.2.2/dist/css/bootstrap.min.css&quot;/&gt;\n",
       "    &lt;link rel=&quot;stylesheet&quot; href=&quot;https://netdna.bootstrapcdn.com/bootstrap/3.0.0/css/bootstrap.min.css&quot;/&gt;\n",
       "    &lt;link rel=&quot;stylesheet&quot; href=&quot;https://cdn.jsdelivr.net/npm/@fortawesome/fontawesome-free@6.2.0/css/all.min.css&quot;/&gt;\n",
       "    &lt;link rel=&quot;stylesheet&quot; href=&quot;https://cdnjs.cloudflare.com/ajax/libs/Leaflet.awesome-markers/2.0.2/leaflet.awesome-markers.css&quot;/&gt;\n",
       "    &lt;link rel=&quot;stylesheet&quot; href=&quot;https://cdn.jsdelivr.net/gh/python-visualization/folium/folium/templates/leaflet.awesome.rotate.min.css&quot;/&gt;\n",
       "    \n",
       "            &lt;meta name=&quot;viewport&quot; content=&quot;width=device-width,\n",
       "                initial-scale=1.0, maximum-scale=1.0, user-scalable=no&quot; /&gt;\n",
       "            &lt;style&gt;\n",
       "                #map_ea5853c104bc3ffd6f350735a69e6938 {\n",
       "                    position: relative;\n",
       "                    width: 100.0%;\n",
       "                    height: 100.0%;\n",
       "                    left: 0.0%;\n",
       "                    top: 0.0%;\n",
       "                }\n",
       "                .leaflet-container { font-size: 1rem; }\n",
       "            &lt;/style&gt;\n",
       "        \n",
       "&lt;/head&gt;\n",
       "&lt;body&gt;\n",
       "    \n",
       "    \n",
       "            &lt;div class=&quot;folium-map&quot; id=&quot;map_ea5853c104bc3ffd6f350735a69e6938&quot; &gt;&lt;/div&gt;\n",
       "        \n",
       "&lt;/body&gt;\n",
       "&lt;script&gt;\n",
       "    \n",
       "    \n",
       "            var map_ea5853c104bc3ffd6f350735a69e6938 = L.map(\n",
       "                &quot;map_ea5853c104bc3ffd6f350735a69e6938&quot;,\n",
       "                {\n",
       "                    center: [50.37, 3.53],\n",
       "                    crs: L.CRS.EPSG3857,\n",
       "                    zoom: 10,\n",
       "                    zoomControl: true,\n",
       "                    preferCanvas: false,\n",
       "                }\n",
       "            );\n",
       "\n",
       "            \n",
       "\n",
       "        \n",
       "    \n",
       "            var tile_layer_77276ff7ac0696b30978f1024a577d00 = L.tileLayer(\n",
       "                &quot;https://{s}.tile.openstreetmap.org/{z}/{x}/{y}.png&quot;,\n",
       "                {&quot;attribution&quot;: &quot;Data by \\u0026copy; \\u003ca target=\\&quot;_blank\\&quot; href=\\&quot;http://openstreetmap.org\\&quot;\\u003eOpenStreetMap\\u003c/a\\u003e, under \\u003ca target=\\&quot;_blank\\&quot; href=\\&quot;http://www.openstreetmap.org/copyright\\&quot;\\u003eODbL\\u003c/a\\u003e.&quot;, &quot;detectRetina&quot;: false, &quot;maxNativeZoom&quot;: 18, &quot;maxZoom&quot;: 18, &quot;minZoom&quot;: 0, &quot;noWrap&quot;: false, &quot;opacity&quot;: 1, &quot;subdomains&quot;: &quot;abc&quot;, &quot;tms&quot;: false}\n",
       "            ).addTo(map_ea5853c104bc3ffd6f350735a69e6938);\n",
       "        \n",
       "&lt;/script&gt;\n",
       "&lt;/html&gt;\" style=\"position:absolute;width:100%;height:100%;left:0;top:0;border:none !important;\" allowfullscreen webkitallowfullscreen mozallowfullscreen></iframe></div></div>"
      ],
      "text/plain": [
       "<folium.folium.Map at 0x11c031610>"
      ]
     },
     "execution_count": 22,
     "metadata": {},
     "output_type": "execute_result"
    }
   ],
   "source": [
    "valenciennes"
   ]
  },
  {
   "cell_type": "markdown",
   "metadata": {},
   "source": [
    "Les objets : 3, [7,2], 7, 2, 'Bonjour', \n",
    "folium.folium.Map(location=(50.37, 3.53), zoom_start=6), (50.37, 3.53), 50.37, 3.53, 6"
   ]
  },
  {
   "cell_type": "code",
   "execution_count": 12,
   "metadata": {},
   "outputs": [
    {
     "name": "stdout",
     "output_type": "stream",
     "text": [
      "<class 'int'> <class 'list'> <class 'str'> <class 'folium.folium.Map'>\n"
     ]
    }
   ],
   "source": [
    "print(type(un_entier), type(une_liste), type(une_string), type(valenciennes))"
   ]
  },
  {
   "cell_type": "code",
   "execution_count": 19,
   "metadata": {},
   "outputs": [
    {
     "name": "stdout",
     "output_type": "stream",
     "text": [
      "<class 'int'> <class 'list'> <class 'str'> <class 'folium.folium.Map'>\n"
     ]
    }
   ],
   "source": [
    "print(type(3), type([7, 2]), type('Bonjour'), type(folium.folium.Map(location=[50.37, 3.53], zoom_start=10)))"
   ]
  },
  {
   "cell_type": "markdown",
   "metadata": {},
   "source": [
    "Donc des éléments aussi différent que `3` et `folium.folium.Map(location=[50.37, 3.53], zoom_start=10)` sont tous les deux des objets.\n",
    "\n",
    "En effet Examinons deux types de syntaxe :"
   ]
  },
  {
   "cell_type": "code",
   "execution_count": 28,
   "metadata": {},
   "outputs": [
    {
     "data": {
      "text/plain": [
       "True"
      ]
     },
     "execution_count": 28,
     "metadata": {},
     "output_type": "execute_result"
    }
   ],
   "source": [
    "int('5') == 5 == int(5)"
   ]
  },
  {
   "cell_type": "markdown",
   "metadata": {},
   "source": [
    "Ici nous créons un objet à l'aide d'une classe, la classe `int`. Voici d'autres classes :"
   ]
  },
  {
   "cell_type": "code",
   "execution_count": 30,
   "metadata": {},
   "outputs": [
    {
     "data": {
      "text/plain": [
       "[5, 2]"
      ]
     },
     "execution_count": 30,
     "metadata": {},
     "output_type": "execute_result"
    }
   ],
   "source": [
    "list((5,2))"
   ]
  },
  {
   "cell_type": "code",
   "execution_count": 32,
   "metadata": {},
   "outputs": [
    {
     "data": {
      "text/plain": [
       "'hi'"
      ]
     },
     "execution_count": 32,
     "metadata": {},
     "output_type": "execute_result"
    }
   ],
   "source": [
    "str(object=\"hi\")"
   ]
  },
  {
   "cell_type": "markdown",
   "metadata": {},
   "source": [
    "En faite, écrire `5` au lieu de `int(5)` est un raccourci destiné aux développeurs.\n",
    "\n",
    "Donc maintenant vous comprenez mieux pourquoi deux éléments aussi différents que `5` et `folium.folium.Map(location=[50.37, 3.53], zoom_start=10)` sont des objets.\n",
    "\n",
    "On peut considérer un objet comme atome. Qui a des propriétés qui lui sont propres."
   ]
  },
  {
   "cell_type": "code",
   "execution_count": 33,
   "metadata": {},
   "outputs": [
    {
     "data": {
      "text/plain": [
       "'hi'"
      ]
     },
     "execution_count": 33,
     "metadata": {},
     "output_type": "execute_result"
    }
   ],
   "source": [
    "\"Hi\".lower()"
   ]
  },
  {
   "cell_type": "code",
   "execution_count": 34,
   "metadata": {},
   "outputs": [],
   "source": [
    "folium.folium.Map(location=[50.37, 3.53], zoom_start=10).save(\"output.html\")"
   ]
  },
  {
   "cell_type": "markdown",
   "metadata": {},
   "source": [
    "Pour pouvoir accéder à tous les propriétés d'un objet on peut inspecter son code source."
   ]
  },
  {
   "cell_type": "code",
   "execution_count": 35,
   "metadata": {},
   "outputs": [
    {
     "data": {
      "text/plain": [
       "'/Users/jeremyvangansbeg/Documents/project/intro_python/python-course/venv/lib/python3.9/site-packages/folium/__init__.py'"
      ]
     },
     "execution_count": 35,
     "metadata": {},
     "output_type": "execute_result"
    }
   ],
   "source": [
    "folium.__file__ # ou faire clique droit \"Go to definition\""
   ]
  },
  {
   "cell_type": "markdown",
   "metadata": {},
   "source": [
    "Exercice trouver la liste des arguments possibles de l'objet folium.folium.Map"
   ]
  },
  {
   "cell_type": "markdown",
   "metadata": {},
   "source": [
    "## Qui a créé ces classes ?"
   ]
  },
  {
   "cell_type": "markdown",
   "metadata": {},
   "source": [
    "- class built-in : Celle-ci sont définies par l'équipe qui gère le langage python. Il n'est pas nécessaire d'installer à package externe\n",
    "- les classes issues de package : comme dans les packages folium ou un pandas. Une équipe de développeur ont créé des classes\n",
    "- les classes créées par vous-même : Vous pouvez créer vos propres classes dans vos projets. A note que vous pouvez également créer votre propre package et partager votre travail à la communauté."
   ]
  },
  {
   "cell_type": "markdown",
   "metadata": {},
   "source": [
    "## Vocabulaire"
   ]
  },
  {
   "cell_type": "markdown",
   "metadata": {},
   "source": [
    "Métaphore cullinère:\n",
    "- une classe : la recette du \"gateau\"\n",
    "- une instanciation de classe : la préparation d'un gateau à partir de la recette.\n",
    "- un objet ou une instance de classe : un gateau avec un cetain gout et un certain nombre de parts.\n",
    "\n",
    "On comprend qu'avec une recette on peut créer une infinité de gateaux.\n",
    "\n",
    "Une classe peut contenir:\n",
    "- des attributs\n",
    "- des méthodes"
   ]
  },
  {
   "cell_type": "markdown",
   "metadata": {},
   "source": [
    "## Point Pep 8"
   ]
  },
  {
   "cell_type": "markdown",
   "metadata": {},
   "source": [
    "Comment nommer ce dont on se sert:\n",
    "- **`Class names`**: on utilise le `CamelCase`\n",
    "- **`Method names and attribute names`**  : on utilise le `snake_case`"
   ]
  },
  {
   "cell_type": "markdown",
   "metadata": {},
   "source": [
    "### Coder ses premières classes et instances de classe"
   ]
  },
  {
   "cell_type": "markdown",
   "metadata": {},
   "source": [
    "#### Coder les classes et les méthodes"
   ]
  },
  {
   "cell_type": "code",
   "execution_count": 36,
   "metadata": {},
   "outputs": [],
   "source": [
    "class Cake :\n",
    "    # on définit ensuite, le constructeur: l'ensemble des attributs d'instance\n",
    "    # le constructeur est lui même une méthode mais une méthode très particulière\n",
    "    def __init__(self, flavor, number_share):\n",
    "        \"\"\" Initialise les attributs\n",
    "\n",
    "        Args:\n",
    "            flavor ([type]): [description]\n",
    "            number_share ([type]): [description]\n",
    "        \"\"\"\n",
    "        self.flavor = flavor\n",
    "        self.number_share = number_share\n",
    "\n",
    "    # on définit ensuite les méthodes qui peuvent utiliser les attributs de classe et d'instance\n",
    "    def be_cut(self):\n",
    "        \"\"\" couper le gateau\"\"\"\n",
    "        print(\"the {} cake is now cut in {} shares\".format(self.flavor, self.number_share)) \n",
    "\n",
    "    def add_candles(self,candle):\n",
    "        \"\"\" ajoute des bougies au gateau\"\"\"\n",
    "        print(\"{} candles have been added on the {} cake\".format(candle, self.flavor))\n",
    "    "
   ]
  },
  {
   "cell_type": "code",
   "execution_count": null,
   "metadata": {},
   "outputs": [
    {
     "name": "stdout",
     "output_type": "stream",
     "text": [
      "the banana cake is now cut in 10 shares\n",
      "the carrot cake is now cut in 12 shares\n",
      "18 candles have been added on the banana cake\n"
     ]
    }
   ],
   "source": [
    "banana_cake = Cake(\"banana\",10)\n",
    "banana_cake.number_share\n",
    "\n",
    "\n",
    "carrot_cake = Cake(\"carrot\",12)\n",
    "carrot_cake.flavor\n",
    "\n",
    "banana_cake.be_cut()\n",
    "carrot_cake.be_cut()\n",
    "\n",
    "banana_cake.add_candles(18)"
   ]
  },
  {
   "cell_type": "code",
   "execution_count": null,
   "metadata": {},
   "outputs": [
    {
     "name": "stdout",
     "output_type": "stream",
     "text": [
      "type(banana_cake)=<class '__main__.Cake'>\n",
      "banana_cake.flavor='banana'\n",
      "banana_number_share: 8\n",
      "the banana cake is now cut in 8 shares\n",
      "8 candles have been added on the banana cake\n"
     ]
    }
   ],
   "source": [
    "# On crée maintenant nos objets à partir de la classe définie plus haut\n",
    "\n",
    "# L'instanciation nécessite de définir les attributs d'instance (mais pas de classe)\n",
    "banana_cake = Cake(\"banana\",8)\n",
    "carrot_cake = Cake(\"carrot\",10)\n",
    "\n",
    "print(f\"{type(banana_cake)=}\" )\n",
    "print(f\"{banana_cake.flavor=}\")\n",
    "print(\"banana_number_share:\",banana_cake.number_share)\n",
    "\n",
    "# On peut appeler les méthodes, comme on l'a toujours fait\n",
    "banana_cake.be_cut()\n",
    "banana_cake.add_candles(8)"
   ]
  },
  {
   "cell_type": "markdown",
   "metadata": {},
   "source": [
    "Exercice : \n",
    "\n",
    "En utilisant la programmation orienté objet, développer le programme suivant :\n",
    "- Le programme génère un rectangle aléatoire et indique les coordonnées du point en bas à gauche et en haut à droite par exemple : \n",
    "  - *Rectangle Coordinates:  7 , 7 and 17 , 11*\n",
    "- Le programme demande à l'utilisateur de trouver un point qui se trouve à l'intérieur de ce rectangle.\n",
    "  - *Guess x:*\n",
    "  - *Guess y:*\n",
    "- Enfin le programme indique si le point ce trouve oui ou non dans le rectangle :\n",
    "  - *Your point was inside rectangle: True*\n",
    "\n",
    "On peut résumer le programme comme cela : \n",
    "Le programme affiche les coordonnées d'un rectangle. L'utilisateur doit entrer les coordonnées d'un point.\n",
    "\n",
    "La programmation orientée objet nécessite une phase de préparation. Vous devez vous posez la question suivante : quels sont les objets (donc les classes) de l'énoncé ci-dessous ? Basez-vous sur le résumé du programme pour définir les objets."
   ]
  },
  {
   "cell_type": "markdown",
   "metadata": {},
   "source": []
  },
  {
   "cell_type": "markdown",
   "metadata": {},
   "source": [
    "---"
   ]
  },
  {
   "cell_type": "markdown",
   "metadata": {},
   "source": [
    "Les objets sont les suivants :\n",
    "- message -> string **\"Bonjour\"**\n",
    "- coordonnées -> float **3.14**\n",
    "- rectangle -> ?\n",
    "- point -> ?\n",
    "\n",
    "Les deux premiers objets sont déjà des classes built-in. Il nous faut donc créer les objets **rectangle** et **point**."
   ]
  },
  {
   "cell_type": "markdown",
   "metadata": {},
   "source": []
  }
 ],
 "metadata": {
  "kernelspec": {
   "display_name": "venv",
   "language": "python",
   "name": "python3"
  },
  "language_info": {
   "codemirror_mode": {
    "name": "ipython",
    "version": 3
   },
   "file_extension": ".py",
   "mimetype": "text/x-python",
   "name": "python",
   "nbconvert_exporter": "python",
   "pygments_lexer": "ipython3",
   "version": "3.9.12"
  },
  "orig_nbformat": 4
 },
 "nbformat": 4,
 "nbformat_minor": 2
}
