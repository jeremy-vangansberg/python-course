{
 "cells": [
  {
   "cell_type": "markdown",
   "metadata": {},
   "source": [
    "# Fonctions Lambda en Python"
   ]
  },
  {
   "cell_type": "markdown",
   "metadata": {},
   "source": [
    "## Introduction"
   ]
  },
  {
   "cell_type": "markdown",
   "metadata": {},
   "source": [
    "En Python, une fonction lambda est une petite fonction anonyme. Elle peut prendre un nombre quelconque d'arguments, mais ne peut avoir qu'une seule expression. L'expression est évaluée et renvoyée lors de l'appel de la fonction lambda.\n",
    "\n",
    "Syntaxe\n",
    "La syntaxe pour définir une fonction lambda est :"
   ]
  },
  {
   "cell_type": "code",
   "execution_count": 1,
   "metadata": {},
   "outputs": [
    {
     "data": {
      "text/plain": [
       "<function __main__.<lambda>(arguments)>"
      ]
     },
     "execution_count": 1,
     "metadata": {},
     "output_type": "execute_result"
    }
   ],
   "source": [
    "lambda arguments: expression"
   ]
  },
  {
   "cell_type": "markdown",
   "metadata": {},
   "source": [
    "La fonction peut avoir n'importe quel nombre d'arguments, mais seulement une expression. L'expression est évaluée et renvoyée lors de l'appel."
   ]
  },
  {
   "cell_type": "markdown",
   "metadata": {},
   "source": [
    "### Différences avec les fonctions régulières"
   ]
  },
  {
   "cell_type": "markdown",
   "metadata": {},
   "source": [
    "1. Les fonctions lambda n'ont pas de nom lorsqu'elles sont définies. C'est pourquoi on les appelle aussi fonctions anonymes.\n",
    "2. Vous ne pouvez écrire qu'une expression dans une fonction lambda, et non des blocs de code.\n",
    "3. Les fonctions lambda renvoient automatiquement la valeur de leur expression unique, sans avoir besoin d'utiliser le mot-clé return."
   ]
  },
  {
   "cell_type": "markdown",
   "metadata": {},
   "source": [
    "### Exemples"
   ]
  },
  {
   "cell_type": "markdown",
   "metadata": {},
   "source": [
    "### Fonction lambda sans argument"
   ]
  },
  {
   "cell_type": "code",
   "execution_count": 2,
   "metadata": {},
   "outputs": [
    {
     "name": "stdout",
     "output_type": "stream",
     "text": [
      "Hello, World!\n"
     ]
    }
   ],
   "source": [
    "f = lambda : \"Hello, World!\"\n",
    "print(f())"
   ]
  },
  {
   "cell_type": "code",
   "execution_count": 2,
   "metadata": {},
   "outputs": [
    {
     "name": "stdout",
     "output_type": "stream",
     "text": [
      "Hello, World!\n"
     ]
    }
   ],
   "source": [
    "def f():\n",
    "    return \"Hello, World!\"\n",
    "\n",
    "print(f())"
   ]
  },
  {
   "cell_type": "markdown",
   "metadata": {},
   "source": [
    "### Fonction lambda avec un argument"
   ]
  },
  {
   "cell_type": "code",
   "execution_count": 3,
   "metadata": {},
   "outputs": [
    {
     "name": "stdout",
     "output_type": "stream",
     "text": [
      "15\n"
     ]
    }
   ],
   "source": [
    "g = lambda x: x + 10\n",
    "print(g(5))  # Affiche 15"
   ]
  },
  {
   "cell_type": "markdown",
   "metadata": {},
   "source": [
    "### Foncton lambda avec plusieurs arguments"
   ]
  },
  {
   "cell_type": "code",
   "execution_count": 5,
   "metadata": {},
   "outputs": [
    {
     "name": "stdout",
     "output_type": "stream",
     "text": [
      "12\n",
      "12\n"
     ]
    }
   ],
   "source": [
    "h = lambda x, y: x * y\n",
    "print(h(3, 4))  # Affiche 12"
   ]
  },
  {
   "cell_type": "markdown",
   "metadata": {},
   "source": [
    "### Utilisation courante des fonctions lambda"
   ]
  },
  {
   "cell_type": "markdown",
   "metadata": {},
   "source": [
    "L'une des utilisations les plus courantes des fonctions lambda est de les utiliser comme arguments pour des fonctions de niveau supérieur comme map(), filter(), et sorted().\n",
    "\n",
    "Exemple avec map()\n",
    "Supposons que nous ayons une liste de nombres et que nous voulions augmenter chaque élément de cette liste de 10. Nous pouvons utiliser map() avec une fonction lambda pour cela."
   ]
  },
  {
   "cell_type": "code",
   "execution_count": 6,
   "metadata": {},
   "outputs": [
    {
     "name": "stdout",
     "output_type": "stream",
     "text": [
      "[11, 12, 13, 14, 15]\n"
     ]
    }
   ],
   "source": [
    "numbers = [1, 2, 3, 4, 5]\n",
    "result = map(lambda x: x + 10, numbers)\n",
    "print(list(result))  # Affiche [11, 12, 13, 14, 15]"
   ]
  },
  {
   "cell_type": "code",
   "execution_count": 10,
   "metadata": {},
   "outputs": [
    {
     "name": "stdout",
     "output_type": "stream",
     "text": [
      "[11, 12, 13, 14, 15]\n"
     ]
    }
   ],
   "source": [
    "numbers = [1, 2, 3, 4, 5]\n",
    "\n",
    "def add10(x):\n",
    "    return x + 10\n",
    "\n",
    "result = map(add10, numbers)\n",
    "\n",
    "print(list(result))"
   ]
  },
  {
   "cell_type": "markdown",
   "metadata": {},
   "source": [
    "Exemple avec filter()\n",
    "Supposons que nous voulions filtrer une liste pour ne garder que les nombres pairs. Encore une fois, filter() et lambda sont utiles."
   ]
  },
  {
   "cell_type": "code",
   "execution_count": 6,
   "metadata": {},
   "outputs": [
    {
     "name": "stdout",
     "output_type": "stream",
     "text": [
      "[2, 4, 6]\n"
     ]
    }
   ],
   "source": [
    "numbers = [1, 2, 3, 4, 5, 6]\n",
    "even_numbers = filter(lambda x: x % 2 == 0, numbers)\n",
    "print(list(even_numbers))  # Affiche [2, 4, 6]"
   ]
  },
  {
   "cell_type": "markdown",
   "metadata": {},
   "source": [
    "### Conclusion"
   ]
  },
  {
   "cell_type": "markdown",
   "metadata": {},
   "source": [
    "\n",
    "Les fonctions lambda sont un outil puissant en Python, offrant une manière concise d'écrire des fonctions simples. Bien qu'elles ne soient pas appropriées pour toutes les situations, elles peuvent rendre le code plus lisible et plus propre dans certains scénarios."
   ]
  },
  {
   "cell_type": "markdown",
   "metadata": {},
   "source": [
    "-----"
   ]
  },
  {
   "cell_type": "code",
   "execution_count": 75,
   "metadata": {},
   "outputs": [
    {
     "data": {
      "text/plain": [
       "[2, 4, 6, 8, 10, 12]"
      ]
     },
     "execution_count": 75,
     "metadata": {},
     "output_type": "execute_result"
    }
   ],
   "source": [
    "L = [1,2,3,4,5,6]\n",
    "\n",
    "list(map(lambda toto : toto*2, L))\n"
   ]
  },
  {
   "cell_type": "markdown",
   "metadata": {},
   "source": [
    "**Exercice** : Gestionnaire de notes\n",
    "Contexte :\n",
    "Vous êtes enseignant et vous avez plusieurs étudiants avec leurs notes respectives pour différents devoirs. Vous souhaitez analyser ces notes pour obtenir certaines statistiques.\n",
    "\n",
    "**Données** :"
   ]
  },
  {
   "cell_type": "code",
   "execution_count": 11,
   "metadata": {},
   "outputs": [],
   "source": [
    "students = [\n",
    "    {\"name\": \"Alice\", \"grades\": [85, 90, 88, 70, 92]},\n",
    "    {\"name\": \"Bob\", \"grades\": [80, 78, 85, 85, 88]},\n",
    "    {\"name\": \"Charlie\", \"grades\": [88, 90, 92, 85, 85]},\n",
    "    {\"name\": \"David\", \"grades\": [85, 85, 83, 87, 90]},\n",
    "    {\"name\": \"Eve\", \"grades\": [90, 92, 90, 88, 85]}\n",
    "]"
   ]
  },
  {
   "cell_type": "markdown",
   "metadata": {},
   "source": [
    "**Tâches** :\n",
    "\n",
    "1. Moyenne de chaque étudiant:\n",
    "Utilisez une fonction lambda pour calculer la moyenne des notes de chaque étudiant. Affichez le nom de chaque étudiant avec sa moyenne.\n",
    "\n",
    "2. Étudiants au-dessus de la moyenne:\n",
    "Calculez la moyenne générale de tous les étudiants. Ensuite, utilisez une fonction lambda pour filtrer et lister les noms des étudiants dont la moyenne est supérieure à la moyenne générale.\n",
    "\n",
    "3. Note la plus élevée et la plus basse:\n",
    "Pour chaque étudiant, trouvez sa note la plus élevée et sa note la plus basse en utilisant des fonctions lambda. Affichez le nom de l'étudiant avec ses notes les plus élevées et les plus basses."
   ]
  },
  {
   "cell_type": "code",
   "execution_count": 79,
   "metadata": {},
   "outputs": [
    {
     "name": "stdout",
     "output_type": "stream",
     "text": [
      "{'Alice': 85.0, 'Bob': 83.2, 'Charlie': 88.0, 'David': 86.0, 'Eve': 89.0}\n"
     ]
    }
   ],
   "source": [
    "# 1\n",
    "moyenne_eleve = dict(map(lambda x: (x['name'], sum(x['grades'])/len(x['grades'])), students))\n",
    "print(moyenne_eleve)"
   ]
  },
  {
   "cell_type": "code",
   "execution_count": 80,
   "metadata": {},
   "outputs": [
    {
     "name": "stdout",
     "output_type": "stream",
     "text": [
      "86.24\n"
     ]
    }
   ],
   "source": [
    "# 2\n",
    "moyenne_generale = sum(moyenne_eleve.values()) / len(moyenne_eleve.values())\n",
    "print(moyenne_generale)"
   ]
  },
  {
   "cell_type": "code",
   "execution_count": 84,
   "metadata": {},
   "outputs": [
    {
     "data": {
      "text/plain": [
       "{'Charlie': 88.0, 'Eve': 89.0}"
      ]
     },
     "execution_count": 84,
     "metadata": {},
     "output_type": "execute_result"
    }
   ],
   "source": [
    "dict(filter(lambda x : x[1] > moyenne_generale, moyenne_eleve.items()))"
   ]
  },
  {
   "cell_type": "code",
   "execution_count": 94,
   "metadata": {},
   "outputs": [],
   "source": [
    "a = \"test\""
   ]
  },
  {
   "cell_type": "code",
   "execution_count": 95,
   "metadata": {},
   "outputs": [
    {
     "ename": "TypeError",
     "evalue": "'str' object does not support item assignment",
     "output_type": "error",
     "traceback": [
      "\u001b[0;31m---------------------------------------------------------------------------\u001b[0m",
      "\u001b[0;31mTypeError\u001b[0m                                 Traceback (most recent call last)",
      "\u001b[1;32m/Users/jeremyvangansbeg/Documents/project/intro_python/python-course/5b-lambda.ipynb Cell 33\u001b[0m line \u001b[0;36m1\n\u001b[0;32m----> <a href='vscode-notebook-cell:/Users/jeremyvangansbeg/Documents/project/intro_python/python-course/5b-lambda.ipynb#X61sZmlsZQ%3D%3D?line=0'>1</a>\u001b[0m a[\u001b[39m0\u001b[39;49m] \u001b[39m=\u001b[39m \u001b[39m\"\u001b[39m\u001b[39ma\u001b[39m\u001b[39m\"\u001b[39m\n",
      "\u001b[0;31mTypeError\u001b[0m: 'str' object does not support item assignment"
     ]
    }
   ],
   "source": [
    "a[0] = \"a\""
   ]
  },
  {
   "cell_type": "code",
   "execution_count": 67,
   "metadata": {},
   "outputs": [
    {
     "data": {
      "text/plain": [
       "{'Alice': 70, 'Bob': 78, 'Charlie': 85, 'David': 83, 'Eve': 85}"
      ]
     },
     "execution_count": 67,
     "metadata": {},
     "output_type": "execute_result"
    }
   ],
   "source": [
    "# 3\n",
    "# Min\n",
    "dict(map(lambda x : (x['name'], min(x['grades'])), students))"
   ]
  },
  {
   "cell_type": "code",
   "execution_count": 68,
   "metadata": {},
   "outputs": [
    {
     "data": {
      "text/plain": [
       "{'Alice': 92, 'Bob': 88, 'Charlie': 92, 'David': 90, 'Eve': 92}"
      ]
     },
     "execution_count": 68,
     "metadata": {},
     "output_type": "execute_result"
    }
   ],
   "source": [
    "# Max\n",
    "dict(map(lambda x : (x['name'], max(x['grades'])), students))"
   ]
  },
  {
   "cell_type": "code",
   "execution_count": 89,
   "metadata": {},
   "outputs": [
    {
     "data": {
      "text/plain": [
       "{'Alice': {'min': 70, 'max': 92},\n",
       " 'Bob': {'min': 78, 'max': 88},\n",
       " 'Charlie': {'min': 85, 'max': 92},\n",
       " 'David': {'min': 83, 'max': 90},\n",
       " 'Eve': {'min': 85, 'max': 92}}"
      ]
     },
     "execution_count": 89,
     "metadata": {},
     "output_type": "execute_result"
    }
   ],
   "source": [
    "# dictionnaire imbriqué\n",
    "dict(map(lambda x : (x['name'],{\"min\": min(x['grades']),\"max\": max(x['grades'])}),students))"
   ]
  },
  {
   "cell_type": "code",
   "execution_count": 93,
   "metadata": {},
   "outputs": [
    {
     "data": {
      "text/plain": [
       "{'Alice': {'min': 70, 'max': 92},\n",
       " 'Bob': {'min': 78, 'max': 88},\n",
       " 'Charlie': {'min': 85, 'max': 92},\n",
       " 'David': {'min': 83, 'max': 90},\n",
       " 'Eve': {'min': 85, 'max': 92}}"
      ]
     },
     "execution_count": 93,
     "metadata": {},
     "output_type": "execute_result"
    }
   ],
   "source": [
    "dict(map(lambda x : (\n",
    "    x['name'],\n",
    "    {\"min\": min(x['grades']), \"max\": max(x['grades'])}\n",
    "    ),\n",
    "    students))"
   ]
  },
  {
   "cell_type": "markdown",
   "metadata": {},
   "source": [
    "**Conseils** :\n",
    "\n",
    "- Pour la tâche 1, vous pourriez utiliser la fonction map() pour appliquer une fonction qui calcule la moyenne à chaque étudiant.\n",
    "- Pour la tâche 2, après avoir trouvé la moyenne générale, vous pourriez utiliser la fonction filter() pour filtrer les étudiants.\n",
    "- Pour la tâche 3, vous pourriez utiliser les fonctions max() et min() en combinaison avec des fonctions lambda pour trouver les notes les plus élevées et les plus basses."
   ]
  }
 ],
 "metadata": {
  "kernelspec": {
   "display_name": "Python 3",
   "language": "python",
   "name": "python3"
  },
  "language_info": {
   "codemirror_mode": {
    "name": "ipython",
    "version": 3
   },
   "file_extension": ".py",
   "mimetype": "text/x-python",
   "name": "python",
   "nbconvert_exporter": "python",
   "pygments_lexer": "ipython3",
   "version": "3.10.12"
  },
  "orig_nbformat": 4
 },
 "nbformat": 4,
 "nbformat_minor": 2
}
