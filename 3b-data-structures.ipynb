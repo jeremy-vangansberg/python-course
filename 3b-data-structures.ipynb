{
 "cells": [
  {
   "cell_type": "markdown",
   "metadata": {},
   "source": [
    "# Compréhension de listes, dictionnaires et opérateurs ternaires en Python\n",
    "\n",
    "Dans ce cours, nous allons explorer trois concepts très pratiques et concis en Python :\n",
    "1. La **compréhension de listes** pour générer des listes de manière élégante.\n",
    "2. La **compréhension de dictionnaires** pour créer des dictionnaires en une seule ligne.\n",
    "3. Les **opérateurs ternaires**, qui permettent de simplifier des expressions conditionnelles.\n",
    "\n",
    "Commençons par la compréhension de listes !\n"
   ]
  },
  {
   "cell_type": "markdown",
   "metadata": {},
   "source": [
    "## 1. Compréhension de listes\n",
    "\n",
    "La **compréhension de listes** est une manière compacte et lisible de générer des listes à partir d'itérables, souvent en appliquant une condition ou une transformation sur chaque élément.\n",
    "\n",
    "### Structure de base :\n",
    "```python\n",
    "[expression for element in iterable if condition]\n"
   ]
  },
  {
   "cell_type": "code",
   "execution_count": 1,
   "metadata": {},
   "outputs": [
    {
     "name": "stdout",
     "output_type": "stream",
     "text": [
      "Carrés : [1, 4, 9, 16, 25]\n"
     ]
    }
   ],
   "source": [
    "nombres = [1, 2, 3, 4, 5]\n",
    "carres = [x**2 for x in nombres]\n",
    "print(\"Carrés :\", carres)"
   ]
  },
  {
   "cell_type": "markdown",
   "metadata": {},
   "source": [
    "### Exemple 2 : Appliquer une condition dans la compréhension de liste\n",
    "\n",
    "On peut aussi ajouter une **condition** pour filtrer les éléments. Ici, on va seulement garder les nombres pairs et calculer leur carré.\n"
   ]
  },
  {
   "cell_type": "code",
   "execution_count": 2,
   "metadata": {},
   "outputs": [
    {
     "name": "stdout",
     "output_type": "stream",
     "text": [
      "Carrés des nombres pairs : [4, 16, 36, 64]\n"
     ]
    }
   ],
   "source": [
    "# Exemple avec condition\n",
    "nombres = [1, 2, 3, 4, 5, 6, 7, 8]\n",
    "carres_pairs = [x**2 for x in nombres if x % 2 == 0]\n",
    "print(\"Carrés des nombres pairs :\", carres_pairs)"
   ]
  },
  {
   "cell_type": "markdown",
   "metadata": {},
   "source": [
    "### Exemple 3 : Compréhension avec une double boucle\n",
    "\n",
    "Il est possible d'utiliser plusieurs boucles imbriquées dans une compréhension de liste. Par exemple, si on veut créer toutes les paires possibles à partir de deux listes :\n"
   ]
  },
  {
   "cell_type": "code",
   "execution_count": 3,
   "metadata": {},
   "outputs": [
    {
     "name": "stdout",
     "output_type": "stream",
     "text": [
      "Paires possibles : [(1, 'a'), (1, 'b'), (1, 'c'), (2, 'a'), (2, 'b'), (2, 'c'), (3, 'a'), (3, 'b'), (3, 'c')]\n"
     ]
    }
   ],
   "source": [
    "# Double boucle dans une compréhension de liste\n",
    "liste1 = [1, 2, 3]\n",
    "liste2 = ['a', 'b', 'c']\n",
    "paires = [(x, y) for x in liste1 for y in liste2]\n",
    "print(\"Paires possibles :\", paires)\n"
   ]
  },
  {
   "cell_type": "markdown",
   "metadata": {},
   "source": [
    "## 2. Compréhension de dictionnaires\n",
    "\n",
    "La compréhension de dictionnaires fonctionne de la même manière que celle des listes, mais elle permet de créer un dictionnaire en une seule ligne.\n",
    "\n",
    "### Structure de base :\n",
    "```python\n",
    "{key_expression: value_expression for element in iterable if condition}\n"
   ]
  },
  {
   "cell_type": "code",
   "execution_count": 4,
   "metadata": {},
   "outputs": [
    {
     "name": "stdout",
     "output_type": "stream",
     "text": [
      "Dictionnaire de carrés : {1: 1, 2: 4, 3: 9, 4: 16, 5: 25}\n"
     ]
    }
   ],
   "source": [
    "# Exemple 1 : Créer un dictionnaire avec des carrés\n",
    "nombres = [1, 2, 3, 4, 5]\n",
    "carres_dict = {x: x**2 for x in nombres}\n",
    "print(\"Dictionnaire de carrés :\", carres_dict)"
   ]
  },
  {
   "cell_type": "markdown",
   "metadata": {},
   "source": [
    "### Exemple 2 : Ajouter une condition dans la compréhension d'un dictionnaire\n",
    "\n",
    "On peut aussi filtrer les éléments avec une condition, par exemple, créer un dictionnaire uniquement pour les nombres pairs.\n"
   ]
  },
  {
   "cell_type": "code",
   "execution_count": 5,
   "metadata": {},
   "outputs": [
    {
     "name": "stdout",
     "output_type": "stream",
     "text": [
      "Dictionnaire des carrés des nombres pairs : {2: 4, 4: 16}\n"
     ]
    }
   ],
   "source": [
    "# Exemple avec condition\n",
    "carres_pairs_dict = {x: x**2 for x in nombres if x % 2 == 0}\n",
    "print(\"Dictionnaire des carrés des nombres pairs :\", carres_pairs_dict)"
   ]
  },
  {
   "cell_type": "markdown",
   "metadata": {},
   "source": [
    "## 3. Opérateurs ternaires\n",
    "\n",
    "L'opérateur ternaire en Python est une manière concise d'écrire des instructions conditionnelles sur une seule ligne.\n",
    "\n",
    "### Structure de base :\n",
    "```python\n",
    "valeur_si_vrai if condition else valeur_si_faux\n"
   ]
  },
  {
   "cell_type": "code",
   "execution_count": 6,
   "metadata": {},
   "outputs": [
    {
     "name": "stdout",
     "output_type": "stream",
     "text": [
      "Statut : majeur\n"
     ]
    }
   ],
   "source": [
    "# Exemple 1 : Simple utilisation de l'opérateur ternaire\n",
    "age = 18\n",
    "status = \"majeur\" if age >= 18 else \"mineur\"\n",
    "print(\"Statut :\", status)"
   ]
  },
  {
   "cell_type": "markdown",
   "metadata": {},
   "source": [
    "### Exemple 2 : Utiliser un opérateur ternaire dans une boucle\n",
    "\n",
    "On peut aussi utiliser l'opérateur ternaire dans une compréhension de liste. Par exemple, transformer les éléments selon une condition.\n"
   ]
  },
  {
   "cell_type": "code",
   "execution_count": 7,
   "metadata": {},
   "outputs": [
    {
     "name": "stdout",
     "output_type": "stream",
     "text": [
      "Parité des nombres : ['impair', 'pair', 'impair', 'pair', 'impair']\n"
     ]
    }
   ],
   "source": [
    "# Exemple avec opérateur ternaire dans une compréhension de liste\n",
    "nombres = [1, 2, 3, 4, 5]\n",
    "parite = [\"pair\" if x % 2 == 0 else \"impair\" for x in nombres]\n",
    "print(\"Parité des nombres :\", parite)\n"
   ]
  },
  {
   "cell_type": "markdown",
   "metadata": {},
   "source": [
    "### Exemple 3 : Opérateurs ternaires dans une fonction\n",
    "\n",
    "Tu peux également utiliser les opérateurs ternaires pour retourner une valeur basée sur une condition dans une fonction.\n"
   ]
  },
  {
   "cell_type": "code",
   "execution_count": 8,
   "metadata": {},
   "outputs": [
    {
     "name": "stdout",
     "output_type": "stream",
     "text": [
      "majeur\n",
      "mineur\n"
     ]
    }
   ],
   "source": [
    "# Fonction avec opérateur ternaire\n",
    "def check_age(age):\n",
    "    return \"majeur\" if age >= 18 else \"mineur\"\n",
    "\n",
    "print(check_age(20))  # Devrait afficher \"majeur\"\n",
    "print(check_age(15))  # Devrait afficher \"mineur\"\n"
   ]
  },
  {
   "cell_type": "markdown",
   "metadata": {},
   "source": [
    "## Conclusion\n",
    "\n",
    "Les compréhensions de listes et de dictionnaires, ainsi que les opérateurs ternaires, sont des outils puissants en Python pour écrire du code concis, lisible et efficace. Ils sont particulièrement utiles dans les situations où l'on doit transformer, filtrer ou manipuler des collections d'éléments.\n",
    "\n",
    "**Résumé :**\n",
    "- La **compréhension de listes** permet de générer des listes en une ligne, avec éventuellement des conditions.\n",
    "- La **compréhension de dictionnaires** permet de créer des dictionnaires de manière tout aussi concise.\n",
    "- Les **opérateurs ternaires** permettent d'écrire des expressions conditionnelles sur une seule ligne.\n",
    "\n",
    "N'hésite pas à expérimenter ces concepts dans ton propre code pour en tirer le meilleur parti !\n"
   ]
  },
  {
   "cell_type": "markdown",
   "metadata": {},
   "source": [
    "### Exercices\n",
    "\n",
    "1. Crée une liste des cubes des nombres de 1 à 10.\n",
    "2. Crée un dictionnaire où les clés sont des nombres de 1 à 5 et les valeurs sont \"pair\" ou \"impair\" selon la parité du nombre.\n",
    "3. Utilise un opérateur ternaire pour écrire une fonction qui renvoie \"positif\", \"négatif\" ou \"zéro\" en fonction de l'input.\n"
   ]
  },
  {
   "cell_type": "markdown",
   "metadata": {},
   "source": []
  }
 ],
 "metadata": {
  "kernelspec": {
   "display_name": "ds",
   "language": "python",
   "name": "python3"
  },
  "language_info": {
   "codemirror_mode": {
    "name": "ipython",
    "version": 3
   },
   "file_extension": ".py",
   "mimetype": "text/x-python",
   "name": "python",
   "nbconvert_exporter": "python",
   "pygments_lexer": "ipython3",
   "version": "3.10.4"
  }
 },
 "nbformat": 4,
 "nbformat_minor": 2
}
